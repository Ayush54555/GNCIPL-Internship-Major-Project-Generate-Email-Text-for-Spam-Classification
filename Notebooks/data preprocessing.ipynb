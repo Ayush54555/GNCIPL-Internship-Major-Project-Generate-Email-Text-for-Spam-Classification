{
 "cells": [
  {
   "cell_type": "markdown",
   "id": "e81694d3",
   "metadata": {},
   "source": [
    "Importing Libraries"
   ]
  },
  {
   "cell_type": "code",
   "execution_count": 86,
   "id": "620a7c41",
   "metadata": {},
   "outputs": [],
   "source": [
    "import numpy as np\n",
    "import pandas as pd\n"
   ]
  },
  {
   "cell_type": "markdown",
   "id": "63cbe16d",
   "metadata": {},
   "source": [
    "Load Data Set"
   ]
  },
  {
   "cell_type": "code",
   "execution_count": 87,
   "id": "ee2fedc9",
   "metadata": {},
   "outputs": [
    {
     "data": {
      "text/html": [
       "<div>\n",
       "<style scoped>\n",
       "    .dataframe tbody tr th:only-of-type {\n",
       "        vertical-align: middle;\n",
       "    }\n",
       "\n",
       "    .dataframe tbody tr th {\n",
       "        vertical-align: top;\n",
       "    }\n",
       "\n",
       "    .dataframe thead th {\n",
       "        text-align: right;\n",
       "    }\n",
       "</style>\n",
       "<table border=\"1\" class=\"dataframe\">\n",
       "  <thead>\n",
       "    <tr style=\"text-align: right;\">\n",
       "      <th></th>\n",
       "      <th>label</th>\n",
       "      <th>text</th>\n",
       "    </tr>\n",
       "  </thead>\n",
       "  <tbody>\n",
       "    <tr>\n",
       "      <th>0</th>\n",
       "      <td>1</td>\n",
       "      <td>ounce feather bowl hummingbird opec moment ala...</td>\n",
       "    </tr>\n",
       "    <tr>\n",
       "      <th>1</th>\n",
       "      <td>1</td>\n",
       "      <td>wulvob get your medircations online qnb ikud v...</td>\n",
       "    </tr>\n",
       "    <tr>\n",
       "      <th>2</th>\n",
       "      <td>0</td>\n",
       "      <td>computer connection from cnn com wednesday es...</td>\n",
       "    </tr>\n",
       "    <tr>\n",
       "      <th>3</th>\n",
       "      <td>1</td>\n",
       "      <td>university degree obtain a prosperous future m...</td>\n",
       "    </tr>\n",
       "    <tr>\n",
       "      <th>4</th>\n",
       "      <td>0</td>\n",
       "      <td>thanks for all your answers guys i know i shou...</td>\n",
       "    </tr>\n",
       "  </tbody>\n",
       "</table>\n",
       "</div>"
      ],
      "text/plain": [
       "   label                                               text\n",
       "0      1  ounce feather bowl hummingbird opec moment ala...\n",
       "1      1  wulvob get your medircations online qnb ikud v...\n",
       "2      0   computer connection from cnn com wednesday es...\n",
       "3      1  university degree obtain a prosperous future m...\n",
       "4      0  thanks for all your answers guys i know i shou..."
      ]
     },
     "execution_count": 87,
     "metadata": {},
     "output_type": "execute_result"
    }
   ],
   "source": [
    "df = pd.read_csv(\"..\\Data\\combined_data.csv\")\n",
    "df.head()"
   ]
  },
  {
   "cell_type": "code",
   "execution_count": 88,
   "id": "0f1b35dd",
   "metadata": {},
   "outputs": [
    {
     "name": "stdout",
     "output_type": "stream",
     "text": [
      "<class 'pandas.core.frame.DataFrame'>\n",
      "RangeIndex: 83448 entries, 0 to 83447\n",
      "Data columns (total 2 columns):\n",
      " #   Column  Non-Null Count  Dtype \n",
      "---  ------  --------------  ----- \n",
      " 0   label   83448 non-null  int64 \n",
      " 1   text    83448 non-null  object\n",
      "dtypes: int64(1), object(1)\n",
      "memory usage: 1.3+ MB\n"
     ]
    }
   ],
   "source": [
    "# Dataset Info\n",
    "# Checking information about the dataset using info\n",
    "df.info()"
   ]
  },
  {
   "cell_type": "markdown",
   "id": "e2f8d468",
   "metadata": {},
   "source": [
    "Shape of Data set"
   ]
  },
  {
   "cell_type": "code",
   "execution_count": 89,
   "id": "661cefed",
   "metadata": {},
   "outputs": [
    {
     "name": "stdout",
     "output_type": "stream",
     "text": [
      "Number of rows are:  83448\n",
      "Number of columns are:  2\n"
     ]
    }
   ],
   "source": [
    "# Checking number of rows and columns of the dataset using shape\n",
    "print(\"Number of rows are: \",df.shape[0])\n",
    "print(\"Number of columns are: \",df.shape[1])"
   ]
  },
  {
   "cell_type": "code",
   "execution_count": 90,
   "id": "71a43712",
   "metadata": {},
   "outputs": [
    {
     "data": {
      "text/html": [
       "<div>\n",
       "<style scoped>\n",
       "    .dataframe tbody tr th:only-of-type {\n",
       "        vertical-align: middle;\n",
       "    }\n",
       "\n",
       "    .dataframe tbody tr th {\n",
       "        vertical-align: top;\n",
       "    }\n",
       "\n",
       "    .dataframe thead th {\n",
       "        text-align: right;\n",
       "    }\n",
       "</style>\n",
       "<table border=\"1\" class=\"dataframe\">\n",
       "  <thead>\n",
       "    <tr style=\"text-align: right;\">\n",
       "      <th></th>\n",
       "      <th>label</th>\n",
       "    </tr>\n",
       "  </thead>\n",
       "  <tbody>\n",
       "    <tr>\n",
       "      <th>count</th>\n",
       "      <td>83448.000000</td>\n",
       "    </tr>\n",
       "    <tr>\n",
       "      <th>mean</th>\n",
       "      <td>0.526196</td>\n",
       "    </tr>\n",
       "    <tr>\n",
       "      <th>std</th>\n",
       "      <td>0.499316</td>\n",
       "    </tr>\n",
       "    <tr>\n",
       "      <th>min</th>\n",
       "      <td>0.000000</td>\n",
       "    </tr>\n",
       "    <tr>\n",
       "      <th>25%</th>\n",
       "      <td>0.000000</td>\n",
       "    </tr>\n",
       "    <tr>\n",
       "      <th>50%</th>\n",
       "      <td>1.000000</td>\n",
       "    </tr>\n",
       "    <tr>\n",
       "      <th>75%</th>\n",
       "      <td>1.000000</td>\n",
       "    </tr>\n",
       "    <tr>\n",
       "      <th>max</th>\n",
       "      <td>1.000000</td>\n",
       "    </tr>\n",
       "  </tbody>\n",
       "</table>\n",
       "</div>"
      ],
      "text/plain": [
       "              label\n",
       "count  83448.000000\n",
       "mean       0.526196\n",
       "std        0.499316\n",
       "min        0.000000\n",
       "25%        0.000000\n",
       "50%        1.000000\n",
       "75%        1.000000\n",
       "max        1.000000"
      ]
     },
     "execution_count": 90,
     "metadata": {},
     "output_type": "execute_result"
    }
   ],
   "source": [
    "df.describe()"
   ]
  },
  {
   "cell_type": "code",
   "execution_count": 91,
   "id": "1f594712",
   "metadata": {},
   "outputs": [
    {
     "name": "stdout",
     "output_type": "stream",
     "text": [
      "\n",
      "=== VALUE COUNTS FOR EACH COLUMN ===\n",
      "\n",
      "--- label ---\n",
      "Data type: int64\n",
      "Unique values: 2\n",
      "Missing values: 0\n",
      "Value counts:\n",
      "label\n",
      "1    43910\n",
      "0    39538\n",
      "Name: count, dtype: int64\n",
      "\n",
      "--- text ---\n",
      "Data type: object\n",
      "Unique values: 83446\n",
      "Missing values: 0\n",
      "Value counts:\n",
      "text\n",
      "unsubscribe                                                                                                                                                                                                                                                                                                                                                                                                                                                                                                                                                                                                                                                                                                                                                                                                                                                                                                                                                                                                                                                                                                                                                                                                                                                                                                                                                                                                                                                                                                                                                                                                                                                                                                                                                                                                                                                                                                                                                                                                                                                                                                                                                                                                                                                                                                                                                                                                                                                                                                                                                                                                                                                                                                                                                                                                                                                                                                                                                                                                                                                                                                                                                                                                                                                                                                                                                                                                                                                                                                                                                                                                                                                                                                                                                                                                                                                                                                                                                                                                                                                                                                                                                                                                                                                                                                                                                                                                                                                                                                                                                                                                                                                                                                                                                                                                                                                                                                                                                                                                                                                                                                                                                                                                                                                                                                                                                                                                                                                                                                                                                                                                                                                                                                                                                                                                                                                                                                                                                                                                                                                                                                                                                                                                                                                                                                                                                                                                                                                                                                                                                                                                                                                                                                                                                                                                                                                                                                                                                                                                                                                                                                                                                                                                                                      2\n",
      "hi                                                                                                                                                                                                                                                                                                                                                                                                                                                                                                                                                                                                                                                                                                                                                                                                                                                                                                                                                                                                                                                                                                                                                                                                                                                                                                                                                                                                                                                                                                                                                                                                                                                                                                                                                                                                                                                                                                                                                                                                                                                                                                                                                                                                                                                                                                                                                                                                                                                                                                                                                                                                                                                                                                                                                                                                                                                                                                                                                                                                                                                                                                                                                                                                                                                                                                                                                                                                                                                                                                                                                                                                                                                                                                                                                                                                                                                                                                                                                                                                                                                                                                                                                                                                                                                                                                                                                                                                                                                                                                                                                                                                                                                                                                                                                                                                                                                                                                                                                                                                                                                                                                                                                                                                                                                                                                                                                                                                                                                                                                                                                                                                                                                                                                                                                                                                                                                                                                                                                                                                                                                                                                                                                                                                                                                                                                                                                                                                                                                                                                                                                                                                                                                                                                                                                                                                                                                                                                                                                                                                                                                                                                                                                                                                                                               2\n",
      "html\\nhead\\ntitleoh geeze you mean thats a man ? / title\\nmeta http - equiv = content - type content = text / html ; charset = windows - 1252\\nmeta name = generator content = microsoft frontpage 4 . 0\\nmeta name = progid content = frontpage . editor . document\\n/ head\\nbody bgcolor = # 002299\\ndiv align = center\\ncenter\\ntable border = 0 cellpadding = 0 cellspacing = 0\\ntr\\ntdimg border = 0 src = http : / / 69 . 63 . 161 . 44 / 0126040 _ nd _ tsl / tranny _ s . gif width = 700 height = 35 / td\\n/ tr\\ntr\\ntdimg border = 0 src = http : / / 69 . 63 . 161 . 44 / 0126040 _ nd _ tsl / tranny _ t . gif width = 700 height = 45 / td\\n/ tr\\ntr\\ntdimg border = 0 src = http : / / 69 . 63 . 161 . 44 / 0126040 _ nd _ tsl / tranny _ u . gif width = 700 height = 30 / td\\n/ tr\\ntr\\ntd align = centertextarea rows = 4 cols = 80 name = t style = border : 2 px solid # 000000 you have never seen anything this funny . we get these guys and we set them up for the fall . we take them out and let them pretend they are picking up a normal hot chick and even get them to invite her back to our pad . we let them get comfy and when they make their move that ' s when the fun starts . you should see the looks on their faces when they pull her panties off and find a cock . it just doesn ' t get any better than this . check it out . . . / textarea / td\\n/ tr\\ntr\\ntd style = font - family : arial ; font - size : 18 pt ; color : # ffffff ; font - weight : bold align = centera href = http : / / 69 . 63 . 161 . 44 / 0126040 _ nd _ tsl / index . htmlfont color = # ffffo 0 enter here to see more free tranny videos now / font / a / td\\n/ tr\\ntr\\ntdimg border = 0 src = http : / / 69 . 63 . 161 . 44 / 0126040 _ nd _ tsl / spacer _ 0 . gif width = 10 height = 10 / td\\n/ tr\\n/ table\\n/ center\\n/ div\\ndiv align = center\\ncenter\\ntable border = 0 cellpadding = 0 cellspacing = 0\\ntr\\ntd colspan = 5 img border = 0 src = http : / / 69 . 63 . 161 . 44 / 0126040 _ nd _ tsl / tranny _ v . gif width = 700 height = 35 / td\\n/ tr\\ntr\\ntdimg border = 0 src = http : / / 69 . 63 . 161 . 44 / 0126040 _ nd _ tsl / tranny _ w . gif width = 35 height = 216 / td\\ntd bgcolor = # 000000 width = 290 height = 216 a href = http : / / 69 . 63 . 161 . 44 / 0126040 _ nd _ tsl / index . htmlimg border = 0 src = http : / / 69 . 63 . 161 . 44 / 0126040 _ nd _ tsl / ts _ elisa . jpg width = 290 height = 216 / a / td\\ntdimg border = 0 src = http : / / 69 . 63 . 161 . 44 / 0126040 _ nd _ tsl / tranny _ x . gif width = 60 height = 216 / td\\ntd bgcolor = # 000000 width = 290 height = 216 a href = http : / / 69 . 63 . 161 . 44 / 0126040 _ nd _ tsl / index . htmlimg border = 0 src = http : / / 69 . 63 . 161 . 44 / 0126040 _ nd _ tsl / ts _ elisb . jpg width = 290 height = 216 / a / td\\ntdimg border = 0 src = http : / / 69 . 63 . 161 . 44 / 0126040 _ nd _ tsl / tranny _ y . gif width = 25 height = 216 / td\\n/ tr\\ntr\\ntd colspan = 5 img border = 0 src = http : / / 69 . 63 . 161 . 44 / 0126040 _ nd _ tsl / tranny _ z . gif width = 700 height = 84 / td\\n/ tr\\n/ table\\n/ center\\n/ div\\ndiv align = center\\ncenter\\ntable cellpadding = 0 cellspacing = 0 border = 0\\ntr\\ntdimg border = 0 src = http : / / 69 . 63 . 161 . 44 / 0126040 _ nd _ tsl / spacer _ 0 . gif width = 10 height = 10 / td\\n/ tr\\ntr\\ntd style = font - family : arial ; font - size : 12 pt ; color : # ffffff ; font - weight : bold align = centerthis shit will fucking blow your mind , just like it did to the guys whobrpulled these chicks panties down and was shocked to find a cock ! ! ! / td\\n/ tr\\ntr\\ntdimg border = 0 src = http : / / 69 . 63 . 161 . 44 / 0126040 _ nd _ tsl / spacer _ 0 . gif width = 10 height = 10 / td\\n/ tr\\n/ table\\n/ center\\n/ div\\ndiv align = center\\ncenter\\ntable border = 0 cellpadding = 0 cellspacing = 0\\ntr\\ntd bgcolor = # 000000 align = center width = 154 height = 124 a href = http : / / 69 . 63 . 161 . 44 / 0126040 _ nd _ tsl / index . htmlimg border = 0 src = http : / / 69 . 63 . 161 . 44 / 0126040 _ nd _ tsl / ts _ elisc . jpg width = 150 height = 120 / a / td\\ntdimg border = 0 src = http : / / 69 . 63 . 161 . 44 / 0126040 _ nd _ tsl / spacer _ 0 . gif width = 10 height = 10 / td\\ntd bgcolor = # 000000 align = center width = 154 height = 124 a href = http : / / 69 . 63 . 161 . 44 / 0126040 _ nd _ tsl / index . htmlimg border = 0 src = http : / / 69 . 63 . 161 . 44 / 0126040 _ nd _ tsl / ts _ elisd . jpg width = 150 height = 120 / a / td\\ntdimg border = 0 src = http : / / 69 . 63 . 161 . 44 / 0126040 _ nd _ tsl / spacer _ 0 . gif width = 10 height = 10 / td\\ntd bgcolor = # 000000 align = center width = 154 height = 124 a href = http : / / 69 . 63 . 161 . 44 / 0126040 _ nd _ tsl / index . htmlimg border = 0 src = http : / / 69 . 63 . 161 . 44 / 0126040 _ nd _ tsl / ts _ elise . jpg width = 150 height = 120 / a / td\\ntdimg border = 0 src = http : / / 69 . 63 . 161 . 44 / 0126040 _ nd _ tsl / spacer _ 0 . gif width = 10 height = 10 / td\\ntd bgcolor = # 000000 align = center width = 154 height = 124 a href = http : / / 69 . 63 . 161 . 44 / 0126040 _ nd _ tsl / index . htmlimg border = 0 src = http : / / 69 . 63 . 161 . 44 / 0126040 _ nd _ tsl / ts _ elisf . jpg width = 150 height = 120 / a / td\\n/ tr\\n/ table\\n/ center\\n/ div\\ndiv align = center\\ncenter\\ntable cellpadding = 0 cellspacing = 0 border = 0\\ntr\\ntdimg border = 0 src = http : / / 69 . 63 . 161 . 44 / 0126040 _ nd _ tsl / spacer _ 0 . gif width = 10 height = 10 / td\\n/ tr\\ntr\\ntd style = font - family : arial ; font - size : 12 pt ; font - weight : bold ; color : # ffffff align = centeris that not just some of the best shit you have ever seen , well don ' tbr\\nworry cause you really haven ' t seen the best parts yet , so why not / td\\n/ tr\\ntr\\ntd align = centera href = http : / / 69 . 63 . 161 . 44 / 0126040 _ nd _ tsl / index . htmlimg border = 0 src = http : / / 69 . 63 . 161 . 44 / 0126040 _ nd _ tsl / instant _ . gif width = 663 height = 43 / a / td\\n/ tr\\n/ table\\n/ center\\n/ div\\np align = centernbsp ; / p\\np align = centerfont color = # ffffffnbsp ; / font / p\\np align = centerfont color = # ffffffnbsp ; font face = verdana size = 1 if you would like to leave our\\nexcellent newsletter , click a href = http : / / 69 . 63 . 161 . 44 / removals / mea / index . htmlfont color = # ffffffhere / font / a\\nfont color = # ffffff\\nand enter your address / font / fontfont face = verdana size = 1 color = # ffffffbr\\nif you ' d like to\\ncall me to verbally delete your address , please do so at / font / fontfont face = verdana size = 1 color = # ffffo 0 1 - 808 - 347 - 1880 / fontfont color = # fffffffont face = verdana size = 1 color = # ffffffbr\\nmy name is david and if i am at my desk i will take your call . please note that\\nlocal and long distance charges apply . br\\nextra charges include a $ 5 per minute service charge automatically debited to\\nyour phone bill . / font / p\\np align = centernbsp ; / p\\npnbsp ; / p\\npnbsp ; / p\\npnbsp ; / p\\npnbsp ; / p\\n/ body\\n/ html\\n    1\n",
      "the mid - year performance management cycle will begin on may 15 with the\\nopening of the pep system ( the online \" performance evaluation process \"\\nfeedback system ) . you will be receiving your password for this system in a\\nnote to go out later from pep . in preparation for the cycle , four training\\nclasses will be offered to all new employees and to those employees who have\\nnot previously attended training . enrollment for these classes will be\\noffered through the development center \" ernie \" system . for employees who are\\noutside the houston area , please contact your hr representative for more\\ninformation .\\nthese sessions will be held on :\\nwednesday , may 10 from 9 : 00 - 10 : 00 a . m . , and three sessions to be held on\\nthursday , may 11 from 9 : 00 - 10 : 00 a . m . ; 1 : 30 - 2 : 30 p . m . ; and 3 : 00 - 4 : 00 p . m .\\nall sessions will be held at the doubletree hotel .\\nto register , click on this link to go directly to the development center\\nfor those of you who have attended the training before and who are familiar\\nwith the past performance management process , there have been some\\nmodifications :\\n1 . the performance management process is now enron wide . all enron feedback\\nforms have been reduced to three ( vice president ( vp ) / managing director\\n( md ) ; management / professional ; and administration / support ) , which all use\\nthe following criteria :\\n? innovation / entrepreneurship\\n? communication / setting direction\\n? teamwork / interpersonal\\n? leadership / vision / values\\n? business instinct\\n? analytical / technical\\n2 . the following six performance ratings will be used consistently on the\\nfinal feedback forms across enron :\\nsuperior\\nexcellent\\nstrong\\nsatisfactory\\nneeds improvement\\nissues\\n3 . there will be four recognized peer groups across the company for purposes\\nof the prc ( formerly the business review meetings ) meeting .\\n? commercial\\n? commercial support\\n? technical\\n? specialized technical\\n4 . the performance review process will continue to be used to facilitate :\\n? promotions - up to director level only . there will be no officer promotions\\nto vp / md at mid - year\\n? feedback to employee\\n? compensation decisions\\n? sharing of performance rating at manager \u0001 , s discretion\\n5 . prc meetings will be reviewed by both functional area & business units\\nboth functional areas and business units will participate in the rating of\\nemployees to cover both solid and dotted line reporting relationships .\\nfunctional prc meetings will take place first , followed by the final business\\nunit meetings . difference in views on an individual employee \u0001 , s rating should\\nbe discussed and consensus should be reached . the functional area meetings\\nare :\\n- accounting\\n- human resources\\n- government affairs\\n- rac\\n- global finance\\n6 . the pep system is now available via the intranet to allow greater access\\nfrom global locations and remotely . the functionality is essentially the\\nsame . if you would like further information on how to use this system you may\\ngain access to the quick reference guide by clicking on the attached\\nweblinkhttp : / / home . enron . com / announce / . pdf . if the\\nquick reference does not display correctly on your pc , call your help desk\\nfor assistance , or irma alvarez at 713 - 853 - 1543 to get a hard copy .\\n7 . the general responsibilities remain the same regarding the overall\\nprocess :\\nemployee / reviewer responsibilities :\\nselect 5 - 7 reviewers\\ncomplete self - assessment\\ncomplete requested feedback forms\\nreviewers who cannot provide feedback use the decline request feature\\nsupervisor responsibilities :\\napprove reviewers ( at least 3 of the employee ' s choices )\\ncommunicate modifications to employee\\nparticipate in prc meetings as required\\nsummarize feedback and complete appropriate feedback form\\ncommunicate feedback to the employee\\nschedule for mid - year performance review\\nmay 15 pep system opens for feedback\\njune 9 pep system closes for feedback\\njune 12 functional / business unit prc meetings begin\\njuly 20 prc meetings should finish\\njuly 31 / august 1 vp & md prc meeting\\nas always , if you have further questions on the performance management\\nprocess , you may contact your hr representative .                                                                                                                                                                                                                                                                                                                                                                                                                                                                                                                                                                                                                                                                                                                                                                                                                                                                                                                                                                                                                                                                                                                                                                                                                                                                                                                                                                                                                                                                                                                                                                                                                                                                                                                                                                                                                                                                                                                                                                                                                                                                                                                                                                                                                                                                                                                                                                                                                                                                                                                                                                                                                                                                                                                                                                                        1\n",
      " the daily top escapenumber from cnn com top videos and stories as of jun escapenumber escapenumber escapenumber escapenumber pm edt top escapenumber videos escapenumber calamari anyone http www cnn com video partners email index html url video tech escapenumber escapenumber escapenumber johnson ca jumbo squid kcal hundreds of jumbo squid have shown up on the california coast kcal's amy johnson reports escapenumber diana documentary http www cnn com video partners email index html url video world escapenumber escapenumber escapenumber weeks diana wrap affl escapenumber surveillance video released http www cnn com video partners email index html url video us escapenumber escapenumber escapenumber vo surveillance video kctv escapenumber penny slots pay off http www cnn com video partners email index html url video offbeat escapenumber escapenumber escapenumber jimenez penny slot millionaire kgtv escapenumber man jumps lunges for pope http www cnn com video partners email index html url video world escapenumber escapenumber escapenumber vinci popemobile attack ap escapenumber lightning zaps giuliani answer http www cnn com video partners email index html url video politics escapenumber escapenumber escapenumber sot giuliani abortion lighting cnn escapenumber eye in the sky http www cnn com video partners email index html url video tech escapenumber escapenumber escapenumber dnt co airport spy planes kmgh escapenumber tb patient testifies http www cnn com video partners email index html url video politics escapenumber escapenumber escapenumber sot sen approp tb speaker cnn escapenumber search for missing escapenumber year old http www cnn com video partners email index html url video us escapenumber escapenumber escapenumber bright ks missing woman search kmbc escapenumber gop debate http www cnn com video partners email index html url video politics escapenumber escapenumber escapenumber snow debate wrap cnn top escapenumber stories escapenumber goateed man sought in abduction http www cnn com escapenumber us escapenumber escapenumber missing teen ap index html police seek a young goateed man videotaped leaving a target store moments before the apparent abduction of an escapenumber year old woman escapenumber 'jericho' fans assail cbs http www cnn com escapenumber showbiz tv escapenumber escapenumber jericho cancellation ap index html escapenumber thunder it's the sound of greenland melting http www cnn com escapenumber tech science escapenumber escapenumber greenland warming reut index html escapenumber judge ponders teen sex sentence http www cnn com escapenumber us escapenumber escapenumber teen sex case ap index html escapenumber dhs tb scare prompts changes http www cnn com escapenumber politics escapenumber escapenumber tb borders index html escapenumber gorbachev don't repeat cold war http www cnn com escapenumber world europe escapenumber escapenumber gorbachev missiles index html escapenumber ford gets escapenumber top quality awards http www cnn com escapenumber autos escapenumber escapenumber jdpa quality index html escapenumber ex klansman testifies against kin http www cnn com escapenumber law escapenumber escapenumber kkk coldcase ap index html escapenumber students meet with school officials who refuse to hand over diplomas http www cnn com escapenumber education escapenumber escapenumber graduation decorum ap index html escapenumber therapists become bad guys on 'sopranos' http www cnn com escapenumber showbiz tv escapenumber escapenumber sopranos therapy ap index html cnn the most trusted name in news cable news network lp lllp one cnn center atlanta georgia escapenumber escapenumber cable news network lp lllp a time warner company all rights reserved please send comments or suggestions by going to http www cnn com feedback read our privacy guidelines by going to http www cnn com privacy html you have agreed to receive this email from cnn com as a result of your cnn com preference settings to manage your settings go to http www cnn com linkto bn manage html to unsubscribe from the daily top escapenumber go to http cgi cnn com m clik e ktwarwic speedy uwaterloo ca l cnn escapelong                                                                                                                                                                                                                                                                                                                                                                                                                                                                                                                                                                                                                                                                                                                                                                                                                                                                                                                                                                                                                                                                                                                                                                                                                                                                                                                                                                                                                                                                                                                                                                                                                                                                                                                                                                                                                                                                                                                                                                                                                                                                                                                                                                                                                                                                                                                                                                                                                                                                                                                                                                                                                                                                                                                                                                                                                                                                                                       1\n",
      "although replescapenumberca wescapenumbertches like tescapenumberg heuer and patek philescapenumberppe are nowadays more common than ever most people who would want to buy one of these have no idea where to obtain it purchasing a wescapenumbertch is a decision not to be made lightly even if the timepiece in question is a replescapenumberca it is important to make sure that the wescapenumbertch you are buying meets the highest standards is equipped with a powerful and reliable mechanism and bears all the markings of its genuine counterpart and the only place that offers unmatched quality replescapenumberca wescapenumbertches and exceptional customer service is prestescapenumberge replescapenumbercas thats the reason why thousands of savvy internet shoppers are turning to prestescapenumberge replescapenumbercas to get the wescapenumbertch theyve been longing for http www anuiiki com                                                                                                                                                                                                                                                                                                                                                                                                                                                                                                                                                                                                                                                                                                                                                                                                                                                                                                                                                                                                                                                                                                                                                                                                                                                                                                                                                                                                                                                                                                                                                                                                                                                                                                                                                                                                                                                                                                                                                                                                                                                                                                                                                                                                                                                                                                                                                                                                                                                                                                                                                                                                                                                                                                                                                                                                                                                                                                                                                                                                                                                                                                                                                                                                                                                                                                                                                                                                                                                                                                                                                                                                                                                                                                                                                                                                                                                                                                                                                                                                                                                                                                                                                                                                                                                                                                                                                                                                                                                                                                                                                                                                                                                                                                                                                                                                                                                                                                                                                                                                                                                                                                                                                                                                                                                                                                                                                                                                                                                                                                                                                                                                                                                                                                                                                                                                                                                                                                                                                                                                                                                                                                                                                                                                                                                                                                                  1\n",
      "hi .\\nall these medicine is offered in our online shop :\\nvioxx - $ 70\\nglipizide - $ 18\\nzyrtec - $ 93\\nmelanex - $ 53\\ncarisoprodol - $ 23\\nviagra - $ 64\\nalbuterol - $ 23\\nglipizide - $ 18\\ntrimox - $ 32\\namoxil - $ 32\\ncompazine - $ 56\\nclaritin - $ 40\\nactos - $ 218\\nviagra - $ 64\\ndepo - testosterone - $ 109\\nwide range of drugs in our shop . find what you need .\\nfirsthand information here : http : / / anchor . willalsoprovide . com                                                                                                                                                                                                                                                                                                                                                                                                                                                                                                                                                                                                                                                                                                                                                                                                                                                                                                                                                                                                                                                                                                                                                                                                                                                                                                                                                                                                                                                                                                                                                                                                                                                                                                                                                                                                                                                                                                                                                                                                                                                                                                                                                                                                                                                                                                                                                                                                                                                                                                                                                                                                                                                                                                                                                                                                                                                                                                                                                                                                                                                                                                                                                                                                                                                                                                                                                                                                                                                                                                                                                                                                                                                                                                                                                                                                                                                                                                                                                                                                                                                                                                                                                                                                                                                                                                                                                                                                                                                                                                                                                                                                                                                                                                                                                                                                                                                                                                                                                                                                                                                                                                                                                                                                                                                                                                                                                                                                                                                                                                                                                                                                                                                                                                                                                                                                                                                                                                                                                                                                                                                                                                                                                                                                                                                                                                                                                                                                                                                                                                                                                                                                                                                                                                                                                                                      1\n",
      "celebrate motivate tshirts chains pencils kickoff entry locator location sentiment stronger commonly neutral apathy mutual overtones although applied well the                                                                                                                                                                                                                                                                                                                                                                                                                                                                                                                                                                                                                                                                                                                                                                                                                                                                                                                                                                                                                                                                                                                                                                                                                                                                                                                                                                                                                                                                                                                                                                                                                                                                                                                                                                                                                                                                                                                                                                                                                                                                                                                                                                                                                                                                                                                                                                                                                                                                                                                                                                                                                                                                                                                                                                                                                                                                                                                                                                                                                                                                                                                                                                                                                                                                                                                                                                                                                                                                                                                                                                                                                                                                                                                                                                                                                                                                                                                                                                                                                                                                                                                                                                                                                                                                                                                                                                                                                                                                                                                                                                                                                                                                                                                                                                                                                                                                                                                                                                                                                                                                                                                                                                                                                                                                                                                                                                                                                                                                                                                                                                                                                                                                                                                                                                                                                                                                                                                                                                                                                                                                                                                                                                                                                                                                                                                                                                                                                                                                                                                                                                                                                                                                                                                                                                                                                                                                                                                                                                                                                                                                                   1\n",
      "hey toby\\nthere ' s no reason to use k - y , when you ' ve got this . . . rub it on , watch it\\ngrow then just slide it in\\nhttp : / / www . uic 6188 . com / x / heya / cnbxj gqlbthijg xlwdm brrdigh\\nlater ,\\nvan haas\\npgypsb kdmj twdv 75 bkmtvvwd puao                                                                                                                                                                                                                                                                                                                                                                                                                                                                                                                                                                                                                                                                                                                                                                                                                                                                                                                                                                                                                                                                                                                                                                                                                                                                                                                                                                                                                                                                                                                                                                                                                                                                                                                                                                                                                                                                                                                                                                                                                                                                                                                                                                                                                                                                                                                                                                                                                                                                                                                                                                                                                                                                                                                                                                                                                                                                                                                                                                                                                                                                                                                                                                                                                                                                                                                                                                                                                                                                                                                                                                                                                                                                                                                                                                                                                                                                                                                                                                                                                                                                                                                                                                                                                                                                                                                                                                                                                                                                                                                                                                                                                                                                                                                                                                                                                                                                                                                                                                                                                                                                                                                                                                                                                                                                                                                                                                                                                                                                                                                                                                                                                                                                                                                                                                                                                                                                                                                                                                                                                                                                                                                                                                                                                                                                                                                                                                                                                                                                                                                                                                                                                                                                                                                                                                                                                                                                                                                                                                                     1\n",
      "bestsellers more info viagra escapenumber pills x escapenumbermg escapenumber escapenumber escapenumber escapenumber per pill escapenumber pills x escapenumbermg escapenumber escapenumber escapenumber escapenumber per pill your save escapenumber escapenumber pills x escapenumbermg escapenumber escapenumber escapenumber escapenumber per pill your save escapenumber escapenumber pills x escapenumbermg escapenumber escapenumber escapenumber escapenumber per pill escapenumber pills x escapenumbermg escapenumber escapenumber escapenumber escapenumber per pill your save escapenumber escapenumber pills x escapenumbermg escapenumber escapenumber escapenumber escapenumber per pill your save escapenumber escapenumber pills x escapenumbermg escapenumber escapenumber escapenumber escapenumber per pill your save escapenumber cialis escapenumber pills x escapenumbermg escapenumber escapenumber escapenumber escapenumber per pill escapenumber pills x escapenumbermg escapenumber escapenumber escapenumber escapenumber per pill your save escapenumber escapenumber pills x escapenumbermg escapenumber escapenumber escapenumber escapenumber per pill your save escapenumber escapenumber pills x escapenumbermg escapenumber escapenumber escapenumber escapenumber per pill your save escapenumber escapenumber pills x escapenumbermg escapenumber escapenumber escapenumber escapenumber per pill your save escapenumber phentermine escapenumber pills x escapenumber escapenumbermg escapenumber escapenumber escapenumber escapenumber per pill escapenumber pills x escapenumber escapenumbermg escapenumber escapenumber escapenumber escapenumber per pill your save escapenumber escapenumber pills x escapenumber escapenumbermg escapenumber escapenumber escapenumber escapenumber per pill your save escapenumber soma escapenumber pills x escapenumbermg escapenumber escapenumber escapenumber escapenumber per pill escapenumber pills x escapenumbermg escapenumber escapenumber escapenumber escapenumber per pill your save escapenumber escapenumber pills x escapenumbermg escapenumber escapenumber escapenumber escapenumber per pill your save escapenumber more info                                                                                                                                                                                                                                                                                                                                                                                                                                                                                                                                                                                                                                                                                                                                                                                                                                                                                                                                                                                                                                                                                                                                                                                                                                                                                                                                                                                                                                                                                                                                                                                                                                                                                                                                                                                                                                                                                                                                                                                                                                                                                                                                                                                                                                                                                                                                                                                                                                                                                                                                                                                                                                                                                                                                                                                                                                                                                                                                                                                                                                                                                                                                                                                                                                                                                                                                                                                                                                                                                                                                                                                                                                                                                                                                                                                                                                                                                                                                                                                                                                                                                                                                                                                                                                                                                                                                                                                                                                                                                                                                                                                                                                                                                                                                                                                                                                                                                                                                                                                                               1\n",
      "Name: count, dtype: int64\n"
     ]
    }
   ],
   "source": [
    "print(\"\\n=== VALUE COUNTS FOR EACH COLUMN ===\")\n",
    "for column in df.columns:\n",
    "    print(f\"\\n--- {column} ---\")\n",
    "    print(f\"Data type: {df[column].dtype}\")\n",
    "    print(f\"Unique values: {df[column].nunique()}\")\n",
    "    print(f\"Missing values: {df[column].isna().sum()}\")\n",
    "    print(\"Value counts:\")\n",
    "    print(df[column].value_counts().head(10))"
   ]
  },
  {
   "cell_type": "markdown",
   "id": "34d5ecbf",
   "metadata": {},
   "source": [
    "Duplicated values"
   ]
  },
  {
   "cell_type": "code",
   "execution_count": 92,
   "id": "966e46e6",
   "metadata": {},
   "outputs": [
    {
     "name": "stdout",
     "output_type": "stream",
     "text": [
      "number of duplicated rows are 0\n"
     ]
    }
   ],
   "source": [
    "# Dataset Duplicate Value Count\n",
    "dup = df.duplicated().sum()\n",
    "print(f'number of duplicated rows are {dup}')"
   ]
  },
  {
   "cell_type": "markdown",
   "id": "607101cb",
   "metadata": {},
   "source": [
    "Missing values"
   ]
  },
  {
   "cell_type": "code",
   "execution_count": 93,
   "id": "a1f7b1ff",
   "metadata": {},
   "outputs": [
    {
     "data": {
      "text/plain": [
       "label    0\n",
       "text     0\n",
       "dtype: int64"
      ]
     },
     "execution_count": 93,
     "metadata": {},
     "output_type": "execute_result"
    }
   ],
   "source": [
    "# Missing Values/Null Values Count\n",
    "df.isnull().sum()"
   ]
  },
  {
   "cell_type": "code",
   "execution_count": 94,
   "id": "785dc8cb",
   "metadata": {},
   "outputs": [
    {
     "data": {
      "text/plain": [
       "Index(['label', 'text'], dtype='object')"
      ]
     },
     "execution_count": 94,
     "metadata": {},
     "output_type": "execute_result"
    }
   ],
   "source": [
    "df.columns"
   ]
  },
  {
   "cell_type": "markdown",
   "id": "3c9f1660",
   "metadata": {},
   "source": [
    "Describe Data set"
   ]
  },
  {
   "cell_type": "code",
   "execution_count": 95,
   "id": "b64d98b7",
   "metadata": {},
   "outputs": [
    {
     "data": {
      "text/html": [
       "<div>\n",
       "<style scoped>\n",
       "    .dataframe tbody tr th:only-of-type {\n",
       "        vertical-align: middle;\n",
       "    }\n",
       "\n",
       "    .dataframe tbody tr th {\n",
       "        vertical-align: top;\n",
       "    }\n",
       "\n",
       "    .dataframe thead th {\n",
       "        text-align: right;\n",
       "    }\n",
       "</style>\n",
       "<table border=\"1\" class=\"dataframe\">\n",
       "  <thead>\n",
       "    <tr style=\"text-align: right;\">\n",
       "      <th></th>\n",
       "      <th>label</th>\n",
       "      <th>text</th>\n",
       "    </tr>\n",
       "  </thead>\n",
       "  <tbody>\n",
       "    <tr>\n",
       "      <th>count</th>\n",
       "      <td>83448.00</td>\n",
       "      <td>83448</td>\n",
       "    </tr>\n",
       "    <tr>\n",
       "      <th>unique</th>\n",
       "      <td>NaN</td>\n",
       "      <td>83446</td>\n",
       "    </tr>\n",
       "    <tr>\n",
       "      <th>top</th>\n",
       "      <td>NaN</td>\n",
       "      <td>unsubscribe</td>\n",
       "    </tr>\n",
       "    <tr>\n",
       "      <th>freq</th>\n",
       "      <td>NaN</td>\n",
       "      <td>2</td>\n",
       "    </tr>\n",
       "    <tr>\n",
       "      <th>mean</th>\n",
       "      <td>0.53</td>\n",
       "      <td>NaN</td>\n",
       "    </tr>\n",
       "    <tr>\n",
       "      <th>std</th>\n",
       "      <td>0.50</td>\n",
       "      <td>NaN</td>\n",
       "    </tr>\n",
       "    <tr>\n",
       "      <th>min</th>\n",
       "      <td>0.00</td>\n",
       "      <td>NaN</td>\n",
       "    </tr>\n",
       "    <tr>\n",
       "      <th>25%</th>\n",
       "      <td>0.00</td>\n",
       "      <td>NaN</td>\n",
       "    </tr>\n",
       "    <tr>\n",
       "      <th>50%</th>\n",
       "      <td>1.00</td>\n",
       "      <td>NaN</td>\n",
       "    </tr>\n",
       "    <tr>\n",
       "      <th>75%</th>\n",
       "      <td>1.00</td>\n",
       "      <td>NaN</td>\n",
       "    </tr>\n",
       "    <tr>\n",
       "      <th>max</th>\n",
       "      <td>1.00</td>\n",
       "      <td>NaN</td>\n",
       "    </tr>\n",
       "  </tbody>\n",
       "</table>\n",
       "</div>"
      ],
      "text/plain": [
       "           label         text\n",
       "count   83448.00        83448\n",
       "unique       NaN        83446\n",
       "top          NaN  unsubscribe\n",
       "freq         NaN            2\n",
       "mean        0.53          NaN\n",
       "std         0.50          NaN\n",
       "min         0.00          NaN\n",
       "25%         0.00          NaN\n",
       "50%         1.00          NaN\n",
       "75%         1.00          NaN\n",
       "max         1.00          NaN"
      ]
     },
     "execution_count": 95,
     "metadata": {},
     "output_type": "execute_result"
    }
   ],
   "source": [
    "# Dataset Describe (all columns included)\n",
    "df.describe(include= 'all').round(2)"
   ]
  },
  {
   "cell_type": "code",
   "execution_count": 96,
   "id": "0ee8d2cf",
   "metadata": {},
   "outputs": [
    {
     "name": "stdout",
     "output_type": "stream",
     "text": [
      "No. of unique values in label is 2\n",
      "No. of unique values in text is 83446\n"
     ]
    }
   ],
   "source": [
    "# Check Unique Values for each variable using a for loop.\n",
    "for i in df.columns.tolist():\n",
    "  print(\"No. of unique values in\",i,\"is\",df[i].nunique())"
   ]
  },
  {
   "cell_type": "markdown",
   "id": "3b888aa9",
   "metadata": {},
   "source": [
    "Cleaning the Text"
   ]
  },
  {
   "cell_type": "code",
   "execution_count": 98,
   "id": "08e032c3",
   "metadata": {},
   "outputs": [],
   "source": [
    "import re\n",
    "from sklearn.feature_extraction.text import CountVectorizer\n",
    "import pandas as pd\n",
    "\n",
    "def simple_clean(text):\n",
    "    \"\"\"Basic text cleaning without external dependencies\"\"\"\n",
    "    if pd.isna(text):\n",
    "        return \"\"\n",
    "    \n",
    "    text = str(text)\n",
    "    text = re.sub(r'[^a-zA-Z\\s]', ' ', text)\n",
    "    text = ' '.join(text.lower().split())\n",
    "    return text\n",
    "\n",
    "df['cleaned_text'] = df['text'].apply(simple_clean)\n",
    "\n",
    "vectorizer = CountVectorizer(\n",
    "    stop_words='english',  \n",
    "    lowercase=True,\n",
    "    token_pattern=r'(?u)\\b[a-zA-Z]{3,}\\b'  \n",
    ")\n",
    "cleaned_docs = []\n",
    "for text in df['cleaned_text']:\n",
    "    words = text.split()\n",
    "    words = [word for word in words if len(word) >= 3]\n",
    "    cleaned_docs.append(' '.join(words))\n",
    "\n",
    "df['cleaned_text'] = cleaned_docs"
   ]
  },
  {
   "cell_type": "code",
   "execution_count": 99,
   "id": "ba79840b",
   "metadata": {},
   "outputs": [],
   "source": [
    "df = df.drop(columns=['text'])"
   ]
  },
  {
   "cell_type": "code",
   "execution_count": 100,
   "id": "574ce87d",
   "metadata": {},
   "outputs": [
    {
     "name": "stdout",
     "output_type": "stream",
     "text": [
      "✅ Dataset saved as 'cleaned_dataset.csv'\n"
     ]
    }
   ],
   "source": [
    "# Save to CSV file\n",
    "df.to_csv('cleaned_dataset.csv', index=False)\n",
    "print(\"✅ Dataset saved as 'cleaned_dataset.csv'\")"
   ]
  }
 ],
 "metadata": {
  "kernelspec": {
   "display_name": "Python 3",
   "language": "python",
   "name": "python3"
  },
  "language_info": {
   "codemirror_mode": {
    "name": "ipython",
    "version": 3
   },
   "file_extension": ".py",
   "mimetype": "text/x-python",
   "name": "python",
   "nbconvert_exporter": "python",
   "pygments_lexer": "ipython3",
   "version": "3.11.8"
  }
 },
 "nbformat": 4,
 "nbformat_minor": 5
}
