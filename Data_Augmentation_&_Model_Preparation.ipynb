{
  "nbformat": 4,
  "nbformat_minor": 0,
  "metadata": {
    "colab": {
      "provenance": [],
      "gpuType": "T4",
      "authorship_tag": "ABX9TyNVOdV406evoOzczXkTrteP",
      "include_colab_link": true
    },
    "kernelspec": {
      "name": "python3",
      "display_name": "Python 3"
    },
    "language_info": {
      "name": "python"
    },
    "accelerator": "GPU",
    "widgets": {
      "application/vnd.jupyter.widget-state+json": {
        "96e8218572eb4bb3bacde0fbd6e7d168": {
          "model_module": "@jupyter-widgets/controls",
          "model_name": "HBoxModel",
          "model_module_version": "1.5.0",
          "state": {
            "_dom_classes": [],
            "_model_module": "@jupyter-widgets/controls",
            "_model_module_version": "1.5.0",
            "_model_name": "HBoxModel",
            "_view_count": null,
            "_view_module": "@jupyter-widgets/controls",
            "_view_module_version": "1.5.0",
            "_view_name": "HBoxView",
            "box_style": "",
            "children": [
              "IPY_MODEL_5ca97d211bd243478bc81b4c6561f088",
              "IPY_MODEL_7a9255b53f7e41b4a23f4ddffa3f915f",
              "IPY_MODEL_160c813e9fd940e2af279a80199ef2f5"
            ],
            "layout": "IPY_MODEL_5d24f60f154c42718caf3453ce042ce3"
          }
        },
        "5ca97d211bd243478bc81b4c6561f088": {
          "model_module": "@jupyter-widgets/controls",
          "model_name": "HTMLModel",
          "model_module_version": "1.5.0",
          "state": {
            "_dom_classes": [],
            "_model_module": "@jupyter-widgets/controls",
            "_model_module_version": "1.5.0",
            "_model_name": "HTMLModel",
            "_view_count": null,
            "_view_module": "@jupyter-widgets/controls",
            "_view_module_version": "1.5.0",
            "_view_name": "HTMLView",
            "description": "",
            "description_tooltip": null,
            "layout": "IPY_MODEL_4ef2ae83dcba4008b32f662ccf0e14c1",
            "placeholder": "​",
            "style": "IPY_MODEL_a002e92d880d46f197d2955a8d36fd78",
            "value": "tokenizer_config.json: 100%"
          }
        },
        "7a9255b53f7e41b4a23f4ddffa3f915f": {
          "model_module": "@jupyter-widgets/controls",
          "model_name": "FloatProgressModel",
          "model_module_version": "1.5.0",
          "state": {
            "_dom_classes": [],
            "_model_module": "@jupyter-widgets/controls",
            "_model_module_version": "1.5.0",
            "_model_name": "FloatProgressModel",
            "_view_count": null,
            "_view_module": "@jupyter-widgets/controls",
            "_view_module_version": "1.5.0",
            "_view_name": "ProgressView",
            "bar_style": "success",
            "description": "",
            "description_tooltip": null,
            "layout": "IPY_MODEL_173591244ee24e81b9c1d59b90b0a2ea",
            "max": 26,
            "min": 0,
            "orientation": "horizontal",
            "style": "IPY_MODEL_07d0995d51ee4869b1b55537a624bc01",
            "value": 26
          }
        },
        "160c813e9fd940e2af279a80199ef2f5": {
          "model_module": "@jupyter-widgets/controls",
          "model_name": "HTMLModel",
          "model_module_version": "1.5.0",
          "state": {
            "_dom_classes": [],
            "_model_module": "@jupyter-widgets/controls",
            "_model_module_version": "1.5.0",
            "_model_name": "HTMLModel",
            "_view_count": null,
            "_view_module": "@jupyter-widgets/controls",
            "_view_module_version": "1.5.0",
            "_view_name": "HTMLView",
            "description": "",
            "description_tooltip": null,
            "layout": "IPY_MODEL_9bb93d0abd934649afdd9c061d5f33db",
            "placeholder": "​",
            "style": "IPY_MODEL_7b74fab690b24f27a6bf8cbe1195e95e",
            "value": " 26.0/26.0 [00:00&lt;00:00, 659B/s]"
          }
        },
        "5d24f60f154c42718caf3453ce042ce3": {
          "model_module": "@jupyter-widgets/base",
          "model_name": "LayoutModel",
          "model_module_version": "1.2.0",
          "state": {
            "_model_module": "@jupyter-widgets/base",
            "_model_module_version": "1.2.0",
            "_model_name": "LayoutModel",
            "_view_count": null,
            "_view_module": "@jupyter-widgets/base",
            "_view_module_version": "1.2.0",
            "_view_name": "LayoutView",
            "align_content": null,
            "align_items": null,
            "align_self": null,
            "border": null,
            "bottom": null,
            "display": null,
            "flex": null,
            "flex_flow": null,
            "grid_area": null,
            "grid_auto_columns": null,
            "grid_auto_flow": null,
            "grid_auto_rows": null,
            "grid_column": null,
            "grid_gap": null,
            "grid_row": null,
            "grid_template_areas": null,
            "grid_template_columns": null,
            "grid_template_rows": null,
            "height": null,
            "justify_content": null,
            "justify_items": null,
            "left": null,
            "margin": null,
            "max_height": null,
            "max_width": null,
            "min_height": null,
            "min_width": null,
            "object_fit": null,
            "object_position": null,
            "order": null,
            "overflow": null,
            "overflow_x": null,
            "overflow_y": null,
            "padding": null,
            "right": null,
            "top": null,
            "visibility": null,
            "width": null
          }
        },
        "4ef2ae83dcba4008b32f662ccf0e14c1": {
          "model_module": "@jupyter-widgets/base",
          "model_name": "LayoutModel",
          "model_module_version": "1.2.0",
          "state": {
            "_model_module": "@jupyter-widgets/base",
            "_model_module_version": "1.2.0",
            "_model_name": "LayoutModel",
            "_view_count": null,
            "_view_module": "@jupyter-widgets/base",
            "_view_module_version": "1.2.0",
            "_view_name": "LayoutView",
            "align_content": null,
            "align_items": null,
            "align_self": null,
            "border": null,
            "bottom": null,
            "display": null,
            "flex": null,
            "flex_flow": null,
            "grid_area": null,
            "grid_auto_columns": null,
            "grid_auto_flow": null,
            "grid_auto_rows": null,
            "grid_column": null,
            "grid_gap": null,
            "grid_row": null,
            "grid_template_areas": null,
            "grid_template_columns": null,
            "grid_template_rows": null,
            "height": null,
            "justify_content": null,
            "justify_items": null,
            "left": null,
            "margin": null,
            "max_height": null,
            "max_width": null,
            "min_height": null,
            "min_width": null,
            "object_fit": null,
            "object_position": null,
            "order": null,
            "overflow": null,
            "overflow_x": null,
            "overflow_y": null,
            "padding": null,
            "right": null,
            "top": null,
            "visibility": null,
            "width": null
          }
        },
        "a002e92d880d46f197d2955a8d36fd78": {
          "model_module": "@jupyter-widgets/controls",
          "model_name": "DescriptionStyleModel",
          "model_module_version": "1.5.0",
          "state": {
            "_model_module": "@jupyter-widgets/controls",
            "_model_module_version": "1.5.0",
            "_model_name": "DescriptionStyleModel",
            "_view_count": null,
            "_view_module": "@jupyter-widgets/base",
            "_view_module_version": "1.2.0",
            "_view_name": "StyleView",
            "description_width": ""
          }
        },
        "173591244ee24e81b9c1d59b90b0a2ea": {
          "model_module": "@jupyter-widgets/base",
          "model_name": "LayoutModel",
          "model_module_version": "1.2.0",
          "state": {
            "_model_module": "@jupyter-widgets/base",
            "_model_module_version": "1.2.0",
            "_model_name": "LayoutModel",
            "_view_count": null,
            "_view_module": "@jupyter-widgets/base",
            "_view_module_version": "1.2.0",
            "_view_name": "LayoutView",
            "align_content": null,
            "align_items": null,
            "align_self": null,
            "border": null,
            "bottom": null,
            "display": null,
            "flex": null,
            "flex_flow": null,
            "grid_area": null,
            "grid_auto_columns": null,
            "grid_auto_flow": null,
            "grid_auto_rows": null,
            "grid_column": null,
            "grid_gap": null,
            "grid_row": null,
            "grid_template_areas": null,
            "grid_template_columns": null,
            "grid_template_rows": null,
            "height": null,
            "justify_content": null,
            "justify_items": null,
            "left": null,
            "margin": null,
            "max_height": null,
            "max_width": null,
            "min_height": null,
            "min_width": null,
            "object_fit": null,
            "object_position": null,
            "order": null,
            "overflow": null,
            "overflow_x": null,
            "overflow_y": null,
            "padding": null,
            "right": null,
            "top": null,
            "visibility": null,
            "width": null
          }
        },
        "07d0995d51ee4869b1b55537a624bc01": {
          "model_module": "@jupyter-widgets/controls",
          "model_name": "ProgressStyleModel",
          "model_module_version": "1.5.0",
          "state": {
            "_model_module": "@jupyter-widgets/controls",
            "_model_module_version": "1.5.0",
            "_model_name": "ProgressStyleModel",
            "_view_count": null,
            "_view_module": "@jupyter-widgets/base",
            "_view_module_version": "1.2.0",
            "_view_name": "StyleView",
            "bar_color": null,
            "description_width": ""
          }
        },
        "9bb93d0abd934649afdd9c061d5f33db": {
          "model_module": "@jupyter-widgets/base",
          "model_name": "LayoutModel",
          "model_module_version": "1.2.0",
          "state": {
            "_model_module": "@jupyter-widgets/base",
            "_model_module_version": "1.2.0",
            "_model_name": "LayoutModel",
            "_view_count": null,
            "_view_module": "@jupyter-widgets/base",
            "_view_module_version": "1.2.0",
            "_view_name": "LayoutView",
            "align_content": null,
            "align_items": null,
            "align_self": null,
            "border": null,
            "bottom": null,
            "display": null,
            "flex": null,
            "flex_flow": null,
            "grid_area": null,
            "grid_auto_columns": null,
            "grid_auto_flow": null,
            "grid_auto_rows": null,
            "grid_column": null,
            "grid_gap": null,
            "grid_row": null,
            "grid_template_areas": null,
            "grid_template_columns": null,
            "grid_template_rows": null,
            "height": null,
            "justify_content": null,
            "justify_items": null,
            "left": null,
            "margin": null,
            "max_height": null,
            "max_width": null,
            "min_height": null,
            "min_width": null,
            "object_fit": null,
            "object_position": null,
            "order": null,
            "overflow": null,
            "overflow_x": null,
            "overflow_y": null,
            "padding": null,
            "right": null,
            "top": null,
            "visibility": null,
            "width": null
          }
        },
        "7b74fab690b24f27a6bf8cbe1195e95e": {
          "model_module": "@jupyter-widgets/controls",
          "model_name": "DescriptionStyleModel",
          "model_module_version": "1.5.0",
          "state": {
            "_model_module": "@jupyter-widgets/controls",
            "_model_module_version": "1.5.0",
            "_model_name": "DescriptionStyleModel",
            "_view_count": null,
            "_view_module": "@jupyter-widgets/base",
            "_view_module_version": "1.2.0",
            "_view_name": "StyleView",
            "description_width": ""
          }
        },
        "99c3898df762451392430412bc274714": {
          "model_module": "@jupyter-widgets/controls",
          "model_name": "HBoxModel",
          "model_module_version": "1.5.0",
          "state": {
            "_dom_classes": [],
            "_model_module": "@jupyter-widgets/controls",
            "_model_module_version": "1.5.0",
            "_model_name": "HBoxModel",
            "_view_count": null,
            "_view_module": "@jupyter-widgets/controls",
            "_view_module_version": "1.5.0",
            "_view_name": "HBoxView",
            "box_style": "",
            "children": [
              "IPY_MODEL_798f0ea3a9314f99a9c10927e737ba69",
              "IPY_MODEL_bacc07a03d3440e4817213aa12da5fce",
              "IPY_MODEL_7ebdf07738ed4233ac27d69c3a9ccb45"
            ],
            "layout": "IPY_MODEL_cc24f340a267402b9114ca65934edce7"
          }
        },
        "798f0ea3a9314f99a9c10927e737ba69": {
          "model_module": "@jupyter-widgets/controls",
          "model_name": "HTMLModel",
          "model_module_version": "1.5.0",
          "state": {
            "_dom_classes": [],
            "_model_module": "@jupyter-widgets/controls",
            "_model_module_version": "1.5.0",
            "_model_name": "HTMLModel",
            "_view_count": null,
            "_view_module": "@jupyter-widgets/controls",
            "_view_module_version": "1.5.0",
            "_view_name": "HTMLView",
            "description": "",
            "description_tooltip": null,
            "layout": "IPY_MODEL_213b46298823404cbdb1bfd5da3fa80f",
            "placeholder": "​",
            "style": "IPY_MODEL_c91746e5c11641f385588cd75dc9f9a0",
            "value": "vocab.json: 100%"
          }
        },
        "bacc07a03d3440e4817213aa12da5fce": {
          "model_module": "@jupyter-widgets/controls",
          "model_name": "FloatProgressModel",
          "model_module_version": "1.5.0",
          "state": {
            "_dom_classes": [],
            "_model_module": "@jupyter-widgets/controls",
            "_model_module_version": "1.5.0",
            "_model_name": "FloatProgressModel",
            "_view_count": null,
            "_view_module": "@jupyter-widgets/controls",
            "_view_module_version": "1.5.0",
            "_view_name": "ProgressView",
            "bar_style": "success",
            "description": "",
            "description_tooltip": null,
            "layout": "IPY_MODEL_f685da19b7ae4a23b445566f1a46e9c4",
            "max": 1042301,
            "min": 0,
            "orientation": "horizontal",
            "style": "IPY_MODEL_b6dc59e818554ff38ff0263f95e8e962",
            "value": 1042301
          }
        },
        "7ebdf07738ed4233ac27d69c3a9ccb45": {
          "model_module": "@jupyter-widgets/controls",
          "model_name": "HTMLModel",
          "model_module_version": "1.5.0",
          "state": {
            "_dom_classes": [],
            "_model_module": "@jupyter-widgets/controls",
            "_model_module_version": "1.5.0",
            "_model_name": "HTMLModel",
            "_view_count": null,
            "_view_module": "@jupyter-widgets/controls",
            "_view_module_version": "1.5.0",
            "_view_name": "HTMLView",
            "description": "",
            "description_tooltip": null,
            "layout": "IPY_MODEL_3c77cf2e5b3d48b4acf79f9a5d7a22dd",
            "placeholder": "​",
            "style": "IPY_MODEL_7c267725d83e4338b6982cc441ed9df0",
            "value": " 1.04M/1.04M [00:00&lt;00:00, 4.69MB/s]"
          }
        },
        "cc24f340a267402b9114ca65934edce7": {
          "model_module": "@jupyter-widgets/base",
          "model_name": "LayoutModel",
          "model_module_version": "1.2.0",
          "state": {
            "_model_module": "@jupyter-widgets/base",
            "_model_module_version": "1.2.0",
            "_model_name": "LayoutModel",
            "_view_count": null,
            "_view_module": "@jupyter-widgets/base",
            "_view_module_version": "1.2.0",
            "_view_name": "LayoutView",
            "align_content": null,
            "align_items": null,
            "align_self": null,
            "border": null,
            "bottom": null,
            "display": null,
            "flex": null,
            "flex_flow": null,
            "grid_area": null,
            "grid_auto_columns": null,
            "grid_auto_flow": null,
            "grid_auto_rows": null,
            "grid_column": null,
            "grid_gap": null,
            "grid_row": null,
            "grid_template_areas": null,
            "grid_template_columns": null,
            "grid_template_rows": null,
            "height": null,
            "justify_content": null,
            "justify_items": null,
            "left": null,
            "margin": null,
            "max_height": null,
            "max_width": null,
            "min_height": null,
            "min_width": null,
            "object_fit": null,
            "object_position": null,
            "order": null,
            "overflow": null,
            "overflow_x": null,
            "overflow_y": null,
            "padding": null,
            "right": null,
            "top": null,
            "visibility": null,
            "width": null
          }
        },
        "213b46298823404cbdb1bfd5da3fa80f": {
          "model_module": "@jupyter-widgets/base",
          "model_name": "LayoutModel",
          "model_module_version": "1.2.0",
          "state": {
            "_model_module": "@jupyter-widgets/base",
            "_model_module_version": "1.2.0",
            "_model_name": "LayoutModel",
            "_view_count": null,
            "_view_module": "@jupyter-widgets/base",
            "_view_module_version": "1.2.0",
            "_view_name": "LayoutView",
            "align_content": null,
            "align_items": null,
            "align_self": null,
            "border": null,
            "bottom": null,
            "display": null,
            "flex": null,
            "flex_flow": null,
            "grid_area": null,
            "grid_auto_columns": null,
            "grid_auto_flow": null,
            "grid_auto_rows": null,
            "grid_column": null,
            "grid_gap": null,
            "grid_row": null,
            "grid_template_areas": null,
            "grid_template_columns": null,
            "grid_template_rows": null,
            "height": null,
            "justify_content": null,
            "justify_items": null,
            "left": null,
            "margin": null,
            "max_height": null,
            "max_width": null,
            "min_height": null,
            "min_width": null,
            "object_fit": null,
            "object_position": null,
            "order": null,
            "overflow": null,
            "overflow_x": null,
            "overflow_y": null,
            "padding": null,
            "right": null,
            "top": null,
            "visibility": null,
            "width": null
          }
        },
        "c91746e5c11641f385588cd75dc9f9a0": {
          "model_module": "@jupyter-widgets/controls",
          "model_name": "DescriptionStyleModel",
          "model_module_version": "1.5.0",
          "state": {
            "_model_module": "@jupyter-widgets/controls",
            "_model_module_version": "1.5.0",
            "_model_name": "DescriptionStyleModel",
            "_view_count": null,
            "_view_module": "@jupyter-widgets/base",
            "_view_module_version": "1.2.0",
            "_view_name": "StyleView",
            "description_width": ""
          }
        },
        "f685da19b7ae4a23b445566f1a46e9c4": {
          "model_module": "@jupyter-widgets/base",
          "model_name": "LayoutModel",
          "model_module_version": "1.2.0",
          "state": {
            "_model_module": "@jupyter-widgets/base",
            "_model_module_version": "1.2.0",
            "_model_name": "LayoutModel",
            "_view_count": null,
            "_view_module": "@jupyter-widgets/base",
            "_view_module_version": "1.2.0",
            "_view_name": "LayoutView",
            "align_content": null,
            "align_items": null,
            "align_self": null,
            "border": null,
            "bottom": null,
            "display": null,
            "flex": null,
            "flex_flow": null,
            "grid_area": null,
            "grid_auto_columns": null,
            "grid_auto_flow": null,
            "grid_auto_rows": null,
            "grid_column": null,
            "grid_gap": null,
            "grid_row": null,
            "grid_template_areas": null,
            "grid_template_columns": null,
            "grid_template_rows": null,
            "height": null,
            "justify_content": null,
            "justify_items": null,
            "left": null,
            "margin": null,
            "max_height": null,
            "max_width": null,
            "min_height": null,
            "min_width": null,
            "object_fit": null,
            "object_position": null,
            "order": null,
            "overflow": null,
            "overflow_x": null,
            "overflow_y": null,
            "padding": null,
            "right": null,
            "top": null,
            "visibility": null,
            "width": null
          }
        },
        "b6dc59e818554ff38ff0263f95e8e962": {
          "model_module": "@jupyter-widgets/controls",
          "model_name": "ProgressStyleModel",
          "model_module_version": "1.5.0",
          "state": {
            "_model_module": "@jupyter-widgets/controls",
            "_model_module_version": "1.5.0",
            "_model_name": "ProgressStyleModel",
            "_view_count": null,
            "_view_module": "@jupyter-widgets/base",
            "_view_module_version": "1.2.0",
            "_view_name": "StyleView",
            "bar_color": null,
            "description_width": ""
          }
        },
        "3c77cf2e5b3d48b4acf79f9a5d7a22dd": {
          "model_module": "@jupyter-widgets/base",
          "model_name": "LayoutModel",
          "model_module_version": "1.2.0",
          "state": {
            "_model_module": "@jupyter-widgets/base",
            "_model_module_version": "1.2.0",
            "_model_name": "LayoutModel",
            "_view_count": null,
            "_view_module": "@jupyter-widgets/base",
            "_view_module_version": "1.2.0",
            "_view_name": "LayoutView",
            "align_content": null,
            "align_items": null,
            "align_self": null,
            "border": null,
            "bottom": null,
            "display": null,
            "flex": null,
            "flex_flow": null,
            "grid_area": null,
            "grid_auto_columns": null,
            "grid_auto_flow": null,
            "grid_auto_rows": null,
            "grid_column": null,
            "grid_gap": null,
            "grid_row": null,
            "grid_template_areas": null,
            "grid_template_columns": null,
            "grid_template_rows": null,
            "height": null,
            "justify_content": null,
            "justify_items": null,
            "left": null,
            "margin": null,
            "max_height": null,
            "max_width": null,
            "min_height": null,
            "min_width": null,
            "object_fit": null,
            "object_position": null,
            "order": null,
            "overflow": null,
            "overflow_x": null,
            "overflow_y": null,
            "padding": null,
            "right": null,
            "top": null,
            "visibility": null,
            "width": null
          }
        },
        "7c267725d83e4338b6982cc441ed9df0": {
          "model_module": "@jupyter-widgets/controls",
          "model_name": "DescriptionStyleModel",
          "model_module_version": "1.5.0",
          "state": {
            "_model_module": "@jupyter-widgets/controls",
            "_model_module_version": "1.5.0",
            "_model_name": "DescriptionStyleModel",
            "_view_count": null,
            "_view_module": "@jupyter-widgets/base",
            "_view_module_version": "1.2.0",
            "_view_name": "StyleView",
            "description_width": ""
          }
        },
        "ab377274e16747ebb6034a40186f0134": {
          "model_module": "@jupyter-widgets/controls",
          "model_name": "HBoxModel",
          "model_module_version": "1.5.0",
          "state": {
            "_dom_classes": [],
            "_model_module": "@jupyter-widgets/controls",
            "_model_module_version": "1.5.0",
            "_model_name": "HBoxModel",
            "_view_count": null,
            "_view_module": "@jupyter-widgets/controls",
            "_view_module_version": "1.5.0",
            "_view_name": "HBoxView",
            "box_style": "",
            "children": [
              "IPY_MODEL_d071506adc9b40588c5ca5ca397b3228",
              "IPY_MODEL_ab673feacdea4c128f7810cd31b978e9",
              "IPY_MODEL_a8e77ee0e02e411a9213dd9c3204718f"
            ],
            "layout": "IPY_MODEL_9e650b109acd4a26ada634ff5491108d"
          }
        },
        "d071506adc9b40588c5ca5ca397b3228": {
          "model_module": "@jupyter-widgets/controls",
          "model_name": "HTMLModel",
          "model_module_version": "1.5.0",
          "state": {
            "_dom_classes": [],
            "_model_module": "@jupyter-widgets/controls",
            "_model_module_version": "1.5.0",
            "_model_name": "HTMLModel",
            "_view_count": null,
            "_view_module": "@jupyter-widgets/controls",
            "_view_module_version": "1.5.0",
            "_view_name": "HTMLView",
            "description": "",
            "description_tooltip": null,
            "layout": "IPY_MODEL_024e5c299bbe4a79bef8790cde441f89",
            "placeholder": "​",
            "style": "IPY_MODEL_3f17bb8e297b4dc291329c0c77169117",
            "value": "merges.txt: 100%"
          }
        },
        "ab673feacdea4c128f7810cd31b978e9": {
          "model_module": "@jupyter-widgets/controls",
          "model_name": "FloatProgressModel",
          "model_module_version": "1.5.0",
          "state": {
            "_dom_classes": [],
            "_model_module": "@jupyter-widgets/controls",
            "_model_module_version": "1.5.0",
            "_model_name": "FloatProgressModel",
            "_view_count": null,
            "_view_module": "@jupyter-widgets/controls",
            "_view_module_version": "1.5.0",
            "_view_name": "ProgressView",
            "bar_style": "success",
            "description": "",
            "description_tooltip": null,
            "layout": "IPY_MODEL_fbbb40df6e9143729a16ad217e635d96",
            "max": 456318,
            "min": 0,
            "orientation": "horizontal",
            "style": "IPY_MODEL_efcf54881f34422f8ad36bcf3823a883",
            "value": 456318
          }
        },
        "a8e77ee0e02e411a9213dd9c3204718f": {
          "model_module": "@jupyter-widgets/controls",
          "model_name": "HTMLModel",
          "model_module_version": "1.5.0",
          "state": {
            "_dom_classes": [],
            "_model_module": "@jupyter-widgets/controls",
            "_model_module_version": "1.5.0",
            "_model_name": "HTMLModel",
            "_view_count": null,
            "_view_module": "@jupyter-widgets/controls",
            "_view_module_version": "1.5.0",
            "_view_name": "HTMLView",
            "description": "",
            "description_tooltip": null,
            "layout": "IPY_MODEL_83e42097e6c54e4599792aa775ccda0d",
            "placeholder": "​",
            "style": "IPY_MODEL_b5a798cd7d5148cb99aaee1783a0f798",
            "value": " 456k/456k [00:00&lt;00:00, 7.64MB/s]"
          }
        },
        "9e650b109acd4a26ada634ff5491108d": {
          "model_module": "@jupyter-widgets/base",
          "model_name": "LayoutModel",
          "model_module_version": "1.2.0",
          "state": {
            "_model_module": "@jupyter-widgets/base",
            "_model_module_version": "1.2.0",
            "_model_name": "LayoutModel",
            "_view_count": null,
            "_view_module": "@jupyter-widgets/base",
            "_view_module_version": "1.2.0",
            "_view_name": "LayoutView",
            "align_content": null,
            "align_items": null,
            "align_self": null,
            "border": null,
            "bottom": null,
            "display": null,
            "flex": null,
            "flex_flow": null,
            "grid_area": null,
            "grid_auto_columns": null,
            "grid_auto_flow": null,
            "grid_auto_rows": null,
            "grid_column": null,
            "grid_gap": null,
            "grid_row": null,
            "grid_template_areas": null,
            "grid_template_columns": null,
            "grid_template_rows": null,
            "height": null,
            "justify_content": null,
            "justify_items": null,
            "left": null,
            "margin": null,
            "max_height": null,
            "max_width": null,
            "min_height": null,
            "min_width": null,
            "object_fit": null,
            "object_position": null,
            "order": null,
            "overflow": null,
            "overflow_x": null,
            "overflow_y": null,
            "padding": null,
            "right": null,
            "top": null,
            "visibility": null,
            "width": null
          }
        },
        "024e5c299bbe4a79bef8790cde441f89": {
          "model_module": "@jupyter-widgets/base",
          "model_name": "LayoutModel",
          "model_module_version": "1.2.0",
          "state": {
            "_model_module": "@jupyter-widgets/base",
            "_model_module_version": "1.2.0",
            "_model_name": "LayoutModel",
            "_view_count": null,
            "_view_module": "@jupyter-widgets/base",
            "_view_module_version": "1.2.0",
            "_view_name": "LayoutView",
            "align_content": null,
            "align_items": null,
            "align_self": null,
            "border": null,
            "bottom": null,
            "display": null,
            "flex": null,
            "flex_flow": null,
            "grid_area": null,
            "grid_auto_columns": null,
            "grid_auto_flow": null,
            "grid_auto_rows": null,
            "grid_column": null,
            "grid_gap": null,
            "grid_row": null,
            "grid_template_areas": null,
            "grid_template_columns": null,
            "grid_template_rows": null,
            "height": null,
            "justify_content": null,
            "justify_items": null,
            "left": null,
            "margin": null,
            "max_height": null,
            "max_width": null,
            "min_height": null,
            "min_width": null,
            "object_fit": null,
            "object_position": null,
            "order": null,
            "overflow": null,
            "overflow_x": null,
            "overflow_y": null,
            "padding": null,
            "right": null,
            "top": null,
            "visibility": null,
            "width": null
          }
        },
        "3f17bb8e297b4dc291329c0c77169117": {
          "model_module": "@jupyter-widgets/controls",
          "model_name": "DescriptionStyleModel",
          "model_module_version": "1.5.0",
          "state": {
            "_model_module": "@jupyter-widgets/controls",
            "_model_module_version": "1.5.0",
            "_model_name": "DescriptionStyleModel",
            "_view_count": null,
            "_view_module": "@jupyter-widgets/base",
            "_view_module_version": "1.2.0",
            "_view_name": "StyleView",
            "description_width": ""
          }
        },
        "fbbb40df6e9143729a16ad217e635d96": {
          "model_module": "@jupyter-widgets/base",
          "model_name": "LayoutModel",
          "model_module_version": "1.2.0",
          "state": {
            "_model_module": "@jupyter-widgets/base",
            "_model_module_version": "1.2.0",
            "_model_name": "LayoutModel",
            "_view_count": null,
            "_view_module": "@jupyter-widgets/base",
            "_view_module_version": "1.2.0",
            "_view_name": "LayoutView",
            "align_content": null,
            "align_items": null,
            "align_self": null,
            "border": null,
            "bottom": null,
            "display": null,
            "flex": null,
            "flex_flow": null,
            "grid_area": null,
            "grid_auto_columns": null,
            "grid_auto_flow": null,
            "grid_auto_rows": null,
            "grid_column": null,
            "grid_gap": null,
            "grid_row": null,
            "grid_template_areas": null,
            "grid_template_columns": null,
            "grid_template_rows": null,
            "height": null,
            "justify_content": null,
            "justify_items": null,
            "left": null,
            "margin": null,
            "max_height": null,
            "max_width": null,
            "min_height": null,
            "min_width": null,
            "object_fit": null,
            "object_position": null,
            "order": null,
            "overflow": null,
            "overflow_x": null,
            "overflow_y": null,
            "padding": null,
            "right": null,
            "top": null,
            "visibility": null,
            "width": null
          }
        },
        "efcf54881f34422f8ad36bcf3823a883": {
          "model_module": "@jupyter-widgets/controls",
          "model_name": "ProgressStyleModel",
          "model_module_version": "1.5.0",
          "state": {
            "_model_module": "@jupyter-widgets/controls",
            "_model_module_version": "1.5.0",
            "_model_name": "ProgressStyleModel",
            "_view_count": null,
            "_view_module": "@jupyter-widgets/base",
            "_view_module_version": "1.2.0",
            "_view_name": "StyleView",
            "bar_color": null,
            "description_width": ""
          }
        },
        "83e42097e6c54e4599792aa775ccda0d": {
          "model_module": "@jupyter-widgets/base",
          "model_name": "LayoutModel",
          "model_module_version": "1.2.0",
          "state": {
            "_model_module": "@jupyter-widgets/base",
            "_model_module_version": "1.2.0",
            "_model_name": "LayoutModel",
            "_view_count": null,
            "_view_module": "@jupyter-widgets/base",
            "_view_module_version": "1.2.0",
            "_view_name": "LayoutView",
            "align_content": null,
            "align_items": null,
            "align_self": null,
            "border": null,
            "bottom": null,
            "display": null,
            "flex": null,
            "flex_flow": null,
            "grid_area": null,
            "grid_auto_columns": null,
            "grid_auto_flow": null,
            "grid_auto_rows": null,
            "grid_column": null,
            "grid_gap": null,
            "grid_row": null,
            "grid_template_areas": null,
            "grid_template_columns": null,
            "grid_template_rows": null,
            "height": null,
            "justify_content": null,
            "justify_items": null,
            "left": null,
            "margin": null,
            "max_height": null,
            "max_width": null,
            "min_height": null,
            "min_width": null,
            "object_fit": null,
            "object_position": null,
            "order": null,
            "overflow": null,
            "overflow_x": null,
            "overflow_y": null,
            "padding": null,
            "right": null,
            "top": null,
            "visibility": null,
            "width": null
          }
        },
        "b5a798cd7d5148cb99aaee1783a0f798": {
          "model_module": "@jupyter-widgets/controls",
          "model_name": "DescriptionStyleModel",
          "model_module_version": "1.5.0",
          "state": {
            "_model_module": "@jupyter-widgets/controls",
            "_model_module_version": "1.5.0",
            "_model_name": "DescriptionStyleModel",
            "_view_count": null,
            "_view_module": "@jupyter-widgets/base",
            "_view_module_version": "1.2.0",
            "_view_name": "StyleView",
            "description_width": ""
          }
        },
        "5793b638734646da9916f17606de6b8c": {
          "model_module": "@jupyter-widgets/controls",
          "model_name": "HBoxModel",
          "model_module_version": "1.5.0",
          "state": {
            "_dom_classes": [],
            "_model_module": "@jupyter-widgets/controls",
            "_model_module_version": "1.5.0",
            "_model_name": "HBoxModel",
            "_view_count": null,
            "_view_module": "@jupyter-widgets/controls",
            "_view_module_version": "1.5.0",
            "_view_name": "HBoxView",
            "box_style": "",
            "children": [
              "IPY_MODEL_1504c12d52fa458aa0594d5227c4b4cc",
              "IPY_MODEL_727ef3832e0849ac9d89482082514021",
              "IPY_MODEL_0c340129028f4b4da4829fa997b929e0"
            ],
            "layout": "IPY_MODEL_c8f2a610c67648e3a89ff6ea5b0467ad"
          }
        },
        "1504c12d52fa458aa0594d5227c4b4cc": {
          "model_module": "@jupyter-widgets/controls",
          "model_name": "HTMLModel",
          "model_module_version": "1.5.0",
          "state": {
            "_dom_classes": [],
            "_model_module": "@jupyter-widgets/controls",
            "_model_module_version": "1.5.0",
            "_model_name": "HTMLModel",
            "_view_count": null,
            "_view_module": "@jupyter-widgets/controls",
            "_view_module_version": "1.5.0",
            "_view_name": "HTMLView",
            "description": "",
            "description_tooltip": null,
            "layout": "IPY_MODEL_e6f71c92729c4783887d27b768e2457f",
            "placeholder": "​",
            "style": "IPY_MODEL_1ea7254559154eb2acf25b29eff36d51",
            "value": "tokenizer.json: 100%"
          }
        },
        "727ef3832e0849ac9d89482082514021": {
          "model_module": "@jupyter-widgets/controls",
          "model_name": "FloatProgressModel",
          "model_module_version": "1.5.0",
          "state": {
            "_dom_classes": [],
            "_model_module": "@jupyter-widgets/controls",
            "_model_module_version": "1.5.0",
            "_model_name": "FloatProgressModel",
            "_view_count": null,
            "_view_module": "@jupyter-widgets/controls",
            "_view_module_version": "1.5.0",
            "_view_name": "ProgressView",
            "bar_style": "success",
            "description": "",
            "description_tooltip": null,
            "layout": "IPY_MODEL_a5536b6e702a41aa93c34fc86ed1f46c",
            "max": 1355256,
            "min": 0,
            "orientation": "horizontal",
            "style": "IPY_MODEL_82e0bf168a2f40169a8c25139c399b56",
            "value": 1355256
          }
        },
        "0c340129028f4b4da4829fa997b929e0": {
          "model_module": "@jupyter-widgets/controls",
          "model_name": "HTMLModel",
          "model_module_version": "1.5.0",
          "state": {
            "_dom_classes": [],
            "_model_module": "@jupyter-widgets/controls",
            "_model_module_version": "1.5.0",
            "_model_name": "HTMLModel",
            "_view_count": null,
            "_view_module": "@jupyter-widgets/controls",
            "_view_module_version": "1.5.0",
            "_view_name": "HTMLView",
            "description": "",
            "description_tooltip": null,
            "layout": "IPY_MODEL_3a2a876b6e394bd7825cfbf68b92a0c2",
            "placeholder": "​",
            "style": "IPY_MODEL_c2985a2e05284a9493cd6c9930700b78",
            "value": " 1.36M/1.36M [00:00&lt;00:00, 16.2MB/s]"
          }
        },
        "c8f2a610c67648e3a89ff6ea5b0467ad": {
          "model_module": "@jupyter-widgets/base",
          "model_name": "LayoutModel",
          "model_module_version": "1.2.0",
          "state": {
            "_model_module": "@jupyter-widgets/base",
            "_model_module_version": "1.2.0",
            "_model_name": "LayoutModel",
            "_view_count": null,
            "_view_module": "@jupyter-widgets/base",
            "_view_module_version": "1.2.0",
            "_view_name": "LayoutView",
            "align_content": null,
            "align_items": null,
            "align_self": null,
            "border": null,
            "bottom": null,
            "display": null,
            "flex": null,
            "flex_flow": null,
            "grid_area": null,
            "grid_auto_columns": null,
            "grid_auto_flow": null,
            "grid_auto_rows": null,
            "grid_column": null,
            "grid_gap": null,
            "grid_row": null,
            "grid_template_areas": null,
            "grid_template_columns": null,
            "grid_template_rows": null,
            "height": null,
            "justify_content": null,
            "justify_items": null,
            "left": null,
            "margin": null,
            "max_height": null,
            "max_width": null,
            "min_height": null,
            "min_width": null,
            "object_fit": null,
            "object_position": null,
            "order": null,
            "overflow": null,
            "overflow_x": null,
            "overflow_y": null,
            "padding": null,
            "right": null,
            "top": null,
            "visibility": null,
            "width": null
          }
        },
        "e6f71c92729c4783887d27b768e2457f": {
          "model_module": "@jupyter-widgets/base",
          "model_name": "LayoutModel",
          "model_module_version": "1.2.0",
          "state": {
            "_model_module": "@jupyter-widgets/base",
            "_model_module_version": "1.2.0",
            "_model_name": "LayoutModel",
            "_view_count": null,
            "_view_module": "@jupyter-widgets/base",
            "_view_module_version": "1.2.0",
            "_view_name": "LayoutView",
            "align_content": null,
            "align_items": null,
            "align_self": null,
            "border": null,
            "bottom": null,
            "display": null,
            "flex": null,
            "flex_flow": null,
            "grid_area": null,
            "grid_auto_columns": null,
            "grid_auto_flow": null,
            "grid_auto_rows": null,
            "grid_column": null,
            "grid_gap": null,
            "grid_row": null,
            "grid_template_areas": null,
            "grid_template_columns": null,
            "grid_template_rows": null,
            "height": null,
            "justify_content": null,
            "justify_items": null,
            "left": null,
            "margin": null,
            "max_height": null,
            "max_width": null,
            "min_height": null,
            "min_width": null,
            "object_fit": null,
            "object_position": null,
            "order": null,
            "overflow": null,
            "overflow_x": null,
            "overflow_y": null,
            "padding": null,
            "right": null,
            "top": null,
            "visibility": null,
            "width": null
          }
        },
        "1ea7254559154eb2acf25b29eff36d51": {
          "model_module": "@jupyter-widgets/controls",
          "model_name": "DescriptionStyleModel",
          "model_module_version": "1.5.0",
          "state": {
            "_model_module": "@jupyter-widgets/controls",
            "_model_module_version": "1.5.0",
            "_model_name": "DescriptionStyleModel",
            "_view_count": null,
            "_view_module": "@jupyter-widgets/base",
            "_view_module_version": "1.2.0",
            "_view_name": "StyleView",
            "description_width": ""
          }
        },
        "a5536b6e702a41aa93c34fc86ed1f46c": {
          "model_module": "@jupyter-widgets/base",
          "model_name": "LayoutModel",
          "model_module_version": "1.2.0",
          "state": {
            "_model_module": "@jupyter-widgets/base",
            "_model_module_version": "1.2.0",
            "_model_name": "LayoutModel",
            "_view_count": null,
            "_view_module": "@jupyter-widgets/base",
            "_view_module_version": "1.2.0",
            "_view_name": "LayoutView",
            "align_content": null,
            "align_items": null,
            "align_self": null,
            "border": null,
            "bottom": null,
            "display": null,
            "flex": null,
            "flex_flow": null,
            "grid_area": null,
            "grid_auto_columns": null,
            "grid_auto_flow": null,
            "grid_auto_rows": null,
            "grid_column": null,
            "grid_gap": null,
            "grid_row": null,
            "grid_template_areas": null,
            "grid_template_columns": null,
            "grid_template_rows": null,
            "height": null,
            "justify_content": null,
            "justify_items": null,
            "left": null,
            "margin": null,
            "max_height": null,
            "max_width": null,
            "min_height": null,
            "min_width": null,
            "object_fit": null,
            "object_position": null,
            "order": null,
            "overflow": null,
            "overflow_x": null,
            "overflow_y": null,
            "padding": null,
            "right": null,
            "top": null,
            "visibility": null,
            "width": null
          }
        },
        "82e0bf168a2f40169a8c25139c399b56": {
          "model_module": "@jupyter-widgets/controls",
          "model_name": "ProgressStyleModel",
          "model_module_version": "1.5.0",
          "state": {
            "_model_module": "@jupyter-widgets/controls",
            "_model_module_version": "1.5.0",
            "_model_name": "ProgressStyleModel",
            "_view_count": null,
            "_view_module": "@jupyter-widgets/base",
            "_view_module_version": "1.2.0",
            "_view_name": "StyleView",
            "bar_color": null,
            "description_width": ""
          }
        },
        "3a2a876b6e394bd7825cfbf68b92a0c2": {
          "model_module": "@jupyter-widgets/base",
          "model_name": "LayoutModel",
          "model_module_version": "1.2.0",
          "state": {
            "_model_module": "@jupyter-widgets/base",
            "_model_module_version": "1.2.0",
            "_model_name": "LayoutModel",
            "_view_count": null,
            "_view_module": "@jupyter-widgets/base",
            "_view_module_version": "1.2.0",
            "_view_name": "LayoutView",
            "align_content": null,
            "align_items": null,
            "align_self": null,
            "border": null,
            "bottom": null,
            "display": null,
            "flex": null,
            "flex_flow": null,
            "grid_area": null,
            "grid_auto_columns": null,
            "grid_auto_flow": null,
            "grid_auto_rows": null,
            "grid_column": null,
            "grid_gap": null,
            "grid_row": null,
            "grid_template_areas": null,
            "grid_template_columns": null,
            "grid_template_rows": null,
            "height": null,
            "justify_content": null,
            "justify_items": null,
            "left": null,
            "margin": null,
            "max_height": null,
            "max_width": null,
            "min_height": null,
            "min_width": null,
            "object_fit": null,
            "object_position": null,
            "order": null,
            "overflow": null,
            "overflow_x": null,
            "overflow_y": null,
            "padding": null,
            "right": null,
            "top": null,
            "visibility": null,
            "width": null
          }
        },
        "c2985a2e05284a9493cd6c9930700b78": {
          "model_module": "@jupyter-widgets/controls",
          "model_name": "DescriptionStyleModel",
          "model_module_version": "1.5.0",
          "state": {
            "_model_module": "@jupyter-widgets/controls",
            "_model_module_version": "1.5.0",
            "_model_name": "DescriptionStyleModel",
            "_view_count": null,
            "_view_module": "@jupyter-widgets/base",
            "_view_module_version": "1.2.0",
            "_view_name": "StyleView",
            "description_width": ""
          }
        },
        "f9151f2d453e4fb5936534f45b167463": {
          "model_module": "@jupyter-widgets/controls",
          "model_name": "HBoxModel",
          "model_module_version": "1.5.0",
          "state": {
            "_dom_classes": [],
            "_model_module": "@jupyter-widgets/controls",
            "_model_module_version": "1.5.0",
            "_model_name": "HBoxModel",
            "_view_count": null,
            "_view_module": "@jupyter-widgets/controls",
            "_view_module_version": "1.5.0",
            "_view_name": "HBoxView",
            "box_style": "",
            "children": [
              "IPY_MODEL_9f9fea495eb44ec9928801edb561222d",
              "IPY_MODEL_a0f3320072a540dda105953894740dbf",
              "IPY_MODEL_f97889749db14497a91c5bd738978350"
            ],
            "layout": "IPY_MODEL_5b217ae509494c89b13097a113585895"
          }
        },
        "9f9fea495eb44ec9928801edb561222d": {
          "model_module": "@jupyter-widgets/controls",
          "model_name": "HTMLModel",
          "model_module_version": "1.5.0",
          "state": {
            "_dom_classes": [],
            "_model_module": "@jupyter-widgets/controls",
            "_model_module_version": "1.5.0",
            "_model_name": "HTMLModel",
            "_view_count": null,
            "_view_module": "@jupyter-widgets/controls",
            "_view_module_version": "1.5.0",
            "_view_name": "HTMLView",
            "description": "",
            "description_tooltip": null,
            "layout": "IPY_MODEL_172fa8e50823499bb4a6dd5a19b44190",
            "placeholder": "​",
            "style": "IPY_MODEL_866e21cd5341481d9235ad8037f66adf",
            "value": "config.json: 100%"
          }
        },
        "a0f3320072a540dda105953894740dbf": {
          "model_module": "@jupyter-widgets/controls",
          "model_name": "FloatProgressModel",
          "model_module_version": "1.5.0",
          "state": {
            "_dom_classes": [],
            "_model_module": "@jupyter-widgets/controls",
            "_model_module_version": "1.5.0",
            "_model_name": "FloatProgressModel",
            "_view_count": null,
            "_view_module": "@jupyter-widgets/controls",
            "_view_module_version": "1.5.0",
            "_view_name": "ProgressView",
            "bar_style": "success",
            "description": "",
            "description_tooltip": null,
            "layout": "IPY_MODEL_5e1de82bf1b345cd8b4223008fe7cb79",
            "max": 718,
            "min": 0,
            "orientation": "horizontal",
            "style": "IPY_MODEL_e6713e57099c4139ba37e270a9303784",
            "value": 718
          }
        },
        "f97889749db14497a91c5bd738978350": {
          "model_module": "@jupyter-widgets/controls",
          "model_name": "HTMLModel",
          "model_module_version": "1.5.0",
          "state": {
            "_dom_classes": [],
            "_model_module": "@jupyter-widgets/controls",
            "_model_module_version": "1.5.0",
            "_model_name": "HTMLModel",
            "_view_count": null,
            "_view_module": "@jupyter-widgets/controls",
            "_view_module_version": "1.5.0",
            "_view_name": "HTMLView",
            "description": "",
            "description_tooltip": null,
            "layout": "IPY_MODEL_466ae758df054066964b13af9a90b136",
            "placeholder": "​",
            "style": "IPY_MODEL_94c6b1bf63074787b89fbabe57011d2a",
            "value": " 718/718 [00:00&lt;00:00, 13.5kB/s]"
          }
        },
        "5b217ae509494c89b13097a113585895": {
          "model_module": "@jupyter-widgets/base",
          "model_name": "LayoutModel",
          "model_module_version": "1.2.0",
          "state": {
            "_model_module": "@jupyter-widgets/base",
            "_model_module_version": "1.2.0",
            "_model_name": "LayoutModel",
            "_view_count": null,
            "_view_module": "@jupyter-widgets/base",
            "_view_module_version": "1.2.0",
            "_view_name": "LayoutView",
            "align_content": null,
            "align_items": null,
            "align_self": null,
            "border": null,
            "bottom": null,
            "display": null,
            "flex": null,
            "flex_flow": null,
            "grid_area": null,
            "grid_auto_columns": null,
            "grid_auto_flow": null,
            "grid_auto_rows": null,
            "grid_column": null,
            "grid_gap": null,
            "grid_row": null,
            "grid_template_areas": null,
            "grid_template_columns": null,
            "grid_template_rows": null,
            "height": null,
            "justify_content": null,
            "justify_items": null,
            "left": null,
            "margin": null,
            "max_height": null,
            "max_width": null,
            "min_height": null,
            "min_width": null,
            "object_fit": null,
            "object_position": null,
            "order": null,
            "overflow": null,
            "overflow_x": null,
            "overflow_y": null,
            "padding": null,
            "right": null,
            "top": null,
            "visibility": null,
            "width": null
          }
        },
        "172fa8e50823499bb4a6dd5a19b44190": {
          "model_module": "@jupyter-widgets/base",
          "model_name": "LayoutModel",
          "model_module_version": "1.2.0",
          "state": {
            "_model_module": "@jupyter-widgets/base",
            "_model_module_version": "1.2.0",
            "_model_name": "LayoutModel",
            "_view_count": null,
            "_view_module": "@jupyter-widgets/base",
            "_view_module_version": "1.2.0",
            "_view_name": "LayoutView",
            "align_content": null,
            "align_items": null,
            "align_self": null,
            "border": null,
            "bottom": null,
            "display": null,
            "flex": null,
            "flex_flow": null,
            "grid_area": null,
            "grid_auto_columns": null,
            "grid_auto_flow": null,
            "grid_auto_rows": null,
            "grid_column": null,
            "grid_gap": null,
            "grid_row": null,
            "grid_template_areas": null,
            "grid_template_columns": null,
            "grid_template_rows": null,
            "height": null,
            "justify_content": null,
            "justify_items": null,
            "left": null,
            "margin": null,
            "max_height": null,
            "max_width": null,
            "min_height": null,
            "min_width": null,
            "object_fit": null,
            "object_position": null,
            "order": null,
            "overflow": null,
            "overflow_x": null,
            "overflow_y": null,
            "padding": null,
            "right": null,
            "top": null,
            "visibility": null,
            "width": null
          }
        },
        "866e21cd5341481d9235ad8037f66adf": {
          "model_module": "@jupyter-widgets/controls",
          "model_name": "DescriptionStyleModel",
          "model_module_version": "1.5.0",
          "state": {
            "_model_module": "@jupyter-widgets/controls",
            "_model_module_version": "1.5.0",
            "_model_name": "DescriptionStyleModel",
            "_view_count": null,
            "_view_module": "@jupyter-widgets/base",
            "_view_module_version": "1.2.0",
            "_view_name": "StyleView",
            "description_width": ""
          }
        },
        "5e1de82bf1b345cd8b4223008fe7cb79": {
          "model_module": "@jupyter-widgets/base",
          "model_name": "LayoutModel",
          "model_module_version": "1.2.0",
          "state": {
            "_model_module": "@jupyter-widgets/base",
            "_model_module_version": "1.2.0",
            "_model_name": "LayoutModel",
            "_view_count": null,
            "_view_module": "@jupyter-widgets/base",
            "_view_module_version": "1.2.0",
            "_view_name": "LayoutView",
            "align_content": null,
            "align_items": null,
            "align_self": null,
            "border": null,
            "bottom": null,
            "display": null,
            "flex": null,
            "flex_flow": null,
            "grid_area": null,
            "grid_auto_columns": null,
            "grid_auto_flow": null,
            "grid_auto_rows": null,
            "grid_column": null,
            "grid_gap": null,
            "grid_row": null,
            "grid_template_areas": null,
            "grid_template_columns": null,
            "grid_template_rows": null,
            "height": null,
            "justify_content": null,
            "justify_items": null,
            "left": null,
            "margin": null,
            "max_height": null,
            "max_width": null,
            "min_height": null,
            "min_width": null,
            "object_fit": null,
            "object_position": null,
            "order": null,
            "overflow": null,
            "overflow_x": null,
            "overflow_y": null,
            "padding": null,
            "right": null,
            "top": null,
            "visibility": null,
            "width": null
          }
        },
        "e6713e57099c4139ba37e270a9303784": {
          "model_module": "@jupyter-widgets/controls",
          "model_name": "ProgressStyleModel",
          "model_module_version": "1.5.0",
          "state": {
            "_model_module": "@jupyter-widgets/controls",
            "_model_module_version": "1.5.0",
            "_model_name": "ProgressStyleModel",
            "_view_count": null,
            "_view_module": "@jupyter-widgets/base",
            "_view_module_version": "1.2.0",
            "_view_name": "StyleView",
            "bar_color": null,
            "description_width": ""
          }
        },
        "466ae758df054066964b13af9a90b136": {
          "model_module": "@jupyter-widgets/base",
          "model_name": "LayoutModel",
          "model_module_version": "1.2.0",
          "state": {
            "_model_module": "@jupyter-widgets/base",
            "_model_module_version": "1.2.0",
            "_model_name": "LayoutModel",
            "_view_count": null,
            "_view_module": "@jupyter-widgets/base",
            "_view_module_version": "1.2.0",
            "_view_name": "LayoutView",
            "align_content": null,
            "align_items": null,
            "align_self": null,
            "border": null,
            "bottom": null,
            "display": null,
            "flex": null,
            "flex_flow": null,
            "grid_area": null,
            "grid_auto_columns": null,
            "grid_auto_flow": null,
            "grid_auto_rows": null,
            "grid_column": null,
            "grid_gap": null,
            "grid_row": null,
            "grid_template_areas": null,
            "grid_template_columns": null,
            "grid_template_rows": null,
            "height": null,
            "justify_content": null,
            "justify_items": null,
            "left": null,
            "margin": null,
            "max_height": null,
            "max_width": null,
            "min_height": null,
            "min_width": null,
            "object_fit": null,
            "object_position": null,
            "order": null,
            "overflow": null,
            "overflow_x": null,
            "overflow_y": null,
            "padding": null,
            "right": null,
            "top": null,
            "visibility": null,
            "width": null
          }
        },
        "94c6b1bf63074787b89fbabe57011d2a": {
          "model_module": "@jupyter-widgets/controls",
          "model_name": "DescriptionStyleModel",
          "model_module_version": "1.5.0",
          "state": {
            "_model_module": "@jupyter-widgets/controls",
            "_model_module_version": "1.5.0",
            "_model_name": "DescriptionStyleModel",
            "_view_count": null,
            "_view_module": "@jupyter-widgets/base",
            "_view_module_version": "1.2.0",
            "_view_name": "StyleView",
            "description_width": ""
          }
        },
        "2d61e807b95e489ba90d42e5500ac5ba": {
          "model_module": "@jupyter-widgets/controls",
          "model_name": "HBoxModel",
          "model_module_version": "1.5.0",
          "state": {
            "_dom_classes": [],
            "_model_module": "@jupyter-widgets/controls",
            "_model_module_version": "1.5.0",
            "_model_name": "HBoxModel",
            "_view_count": null,
            "_view_module": "@jupyter-widgets/controls",
            "_view_module_version": "1.5.0",
            "_view_name": "HBoxView",
            "box_style": "",
            "children": [
              "IPY_MODEL_6e3b7452a7af46b39e98c0bc52955fa8",
              "IPY_MODEL_18ee4b6836a844a2be53cf7a808a7be5",
              "IPY_MODEL_018f5202509a447e9ffc9403e3a1f197"
            ],
            "layout": "IPY_MODEL_03e3a750e3294a5e93c938c5174b5ceb"
          }
        },
        "6e3b7452a7af46b39e98c0bc52955fa8": {
          "model_module": "@jupyter-widgets/controls",
          "model_name": "HTMLModel",
          "model_module_version": "1.5.0",
          "state": {
            "_dom_classes": [],
            "_model_module": "@jupyter-widgets/controls",
            "_model_module_version": "1.5.0",
            "_model_name": "HTMLModel",
            "_view_count": null,
            "_view_module": "@jupyter-widgets/controls",
            "_view_module_version": "1.5.0",
            "_view_name": "HTMLView",
            "description": "",
            "description_tooltip": null,
            "layout": "IPY_MODEL_7456361dfaa8439897c20e1b619531b5",
            "placeholder": "​",
            "style": "IPY_MODEL_075d030e500e4bbf8021be8dfb0a7ffb",
            "value": "model.safetensors: 100%"
          }
        },
        "18ee4b6836a844a2be53cf7a808a7be5": {
          "model_module": "@jupyter-widgets/controls",
          "model_name": "FloatProgressModel",
          "model_module_version": "1.5.0",
          "state": {
            "_dom_classes": [],
            "_model_module": "@jupyter-widgets/controls",
            "_model_module_version": "1.5.0",
            "_model_name": "FloatProgressModel",
            "_view_count": null,
            "_view_module": "@jupyter-widgets/controls",
            "_view_module_version": "1.5.0",
            "_view_name": "ProgressView",
            "bar_style": "success",
            "description": "",
            "description_tooltip": null,
            "layout": "IPY_MODEL_ca93361ea4cf4e3b8ab982ebc858cc8e",
            "max": 1519984962,
            "min": 0,
            "orientation": "horizontal",
            "style": "IPY_MODEL_99c39949ada4446cb4d23fc46d0ed86a",
            "value": 1519984962
          }
        },
        "018f5202509a447e9ffc9403e3a1f197": {
          "model_module": "@jupyter-widgets/controls",
          "model_name": "HTMLModel",
          "model_module_version": "1.5.0",
          "state": {
            "_dom_classes": [],
            "_model_module": "@jupyter-widgets/controls",
            "_model_module_version": "1.5.0",
            "_model_name": "HTMLModel",
            "_view_count": null,
            "_view_module": "@jupyter-widgets/controls",
            "_view_module_version": "1.5.0",
            "_view_name": "HTMLView",
            "description": "",
            "description_tooltip": null,
            "layout": "IPY_MODEL_6ded8e10cc2644bfa1dd90741376ef2c",
            "placeholder": "​",
            "style": "IPY_MODEL_15f2344285284bb78da18e9855dc0b22",
            "value": " 1.52G/1.52G [00:35&lt;00:00, 115MB/s]"
          }
        },
        "03e3a750e3294a5e93c938c5174b5ceb": {
          "model_module": "@jupyter-widgets/base",
          "model_name": "LayoutModel",
          "model_module_version": "1.2.0",
          "state": {
            "_model_module": "@jupyter-widgets/base",
            "_model_module_version": "1.2.0",
            "_model_name": "LayoutModel",
            "_view_count": null,
            "_view_module": "@jupyter-widgets/base",
            "_view_module_version": "1.2.0",
            "_view_name": "LayoutView",
            "align_content": null,
            "align_items": null,
            "align_self": null,
            "border": null,
            "bottom": null,
            "display": null,
            "flex": null,
            "flex_flow": null,
            "grid_area": null,
            "grid_auto_columns": null,
            "grid_auto_flow": null,
            "grid_auto_rows": null,
            "grid_column": null,
            "grid_gap": null,
            "grid_row": null,
            "grid_template_areas": null,
            "grid_template_columns": null,
            "grid_template_rows": null,
            "height": null,
            "justify_content": null,
            "justify_items": null,
            "left": null,
            "margin": null,
            "max_height": null,
            "max_width": null,
            "min_height": null,
            "min_width": null,
            "object_fit": null,
            "object_position": null,
            "order": null,
            "overflow": null,
            "overflow_x": null,
            "overflow_y": null,
            "padding": null,
            "right": null,
            "top": null,
            "visibility": null,
            "width": null
          }
        },
        "7456361dfaa8439897c20e1b619531b5": {
          "model_module": "@jupyter-widgets/base",
          "model_name": "LayoutModel",
          "model_module_version": "1.2.0",
          "state": {
            "_model_module": "@jupyter-widgets/base",
            "_model_module_version": "1.2.0",
            "_model_name": "LayoutModel",
            "_view_count": null,
            "_view_module": "@jupyter-widgets/base",
            "_view_module_version": "1.2.0",
            "_view_name": "LayoutView",
            "align_content": null,
            "align_items": null,
            "align_self": null,
            "border": null,
            "bottom": null,
            "display": null,
            "flex": null,
            "flex_flow": null,
            "grid_area": null,
            "grid_auto_columns": null,
            "grid_auto_flow": null,
            "grid_auto_rows": null,
            "grid_column": null,
            "grid_gap": null,
            "grid_row": null,
            "grid_template_areas": null,
            "grid_template_columns": null,
            "grid_template_rows": null,
            "height": null,
            "justify_content": null,
            "justify_items": null,
            "left": null,
            "margin": null,
            "max_height": null,
            "max_width": null,
            "min_height": null,
            "min_width": null,
            "object_fit": null,
            "object_position": null,
            "order": null,
            "overflow": null,
            "overflow_x": null,
            "overflow_y": null,
            "padding": null,
            "right": null,
            "top": null,
            "visibility": null,
            "width": null
          }
        },
        "075d030e500e4bbf8021be8dfb0a7ffb": {
          "model_module": "@jupyter-widgets/controls",
          "model_name": "DescriptionStyleModel",
          "model_module_version": "1.5.0",
          "state": {
            "_model_module": "@jupyter-widgets/controls",
            "_model_module_version": "1.5.0",
            "_model_name": "DescriptionStyleModel",
            "_view_count": null,
            "_view_module": "@jupyter-widgets/base",
            "_view_module_version": "1.2.0",
            "_view_name": "StyleView",
            "description_width": ""
          }
        },
        "ca93361ea4cf4e3b8ab982ebc858cc8e": {
          "model_module": "@jupyter-widgets/base",
          "model_name": "LayoutModel",
          "model_module_version": "1.2.0",
          "state": {
            "_model_module": "@jupyter-widgets/base",
            "_model_module_version": "1.2.0",
            "_model_name": "LayoutModel",
            "_view_count": null,
            "_view_module": "@jupyter-widgets/base",
            "_view_module_version": "1.2.0",
            "_view_name": "LayoutView",
            "align_content": null,
            "align_items": null,
            "align_self": null,
            "border": null,
            "bottom": null,
            "display": null,
            "flex": null,
            "flex_flow": null,
            "grid_area": null,
            "grid_auto_columns": null,
            "grid_auto_flow": null,
            "grid_auto_rows": null,
            "grid_column": null,
            "grid_gap": null,
            "grid_row": null,
            "grid_template_areas": null,
            "grid_template_columns": null,
            "grid_template_rows": null,
            "height": null,
            "justify_content": null,
            "justify_items": null,
            "left": null,
            "margin": null,
            "max_height": null,
            "max_width": null,
            "min_height": null,
            "min_width": null,
            "object_fit": null,
            "object_position": null,
            "order": null,
            "overflow": null,
            "overflow_x": null,
            "overflow_y": null,
            "padding": null,
            "right": null,
            "top": null,
            "visibility": null,
            "width": null
          }
        },
        "99c39949ada4446cb4d23fc46d0ed86a": {
          "model_module": "@jupyter-widgets/controls",
          "model_name": "ProgressStyleModel",
          "model_module_version": "1.5.0",
          "state": {
            "_model_module": "@jupyter-widgets/controls",
            "_model_module_version": "1.5.0",
            "_model_name": "ProgressStyleModel",
            "_view_count": null,
            "_view_module": "@jupyter-widgets/base",
            "_view_module_version": "1.2.0",
            "_view_name": "StyleView",
            "bar_color": null,
            "description_width": ""
          }
        },
        "6ded8e10cc2644bfa1dd90741376ef2c": {
          "model_module": "@jupyter-widgets/base",
          "model_name": "LayoutModel",
          "model_module_version": "1.2.0",
          "state": {
            "_model_module": "@jupyter-widgets/base",
            "_model_module_version": "1.2.0",
            "_model_name": "LayoutModel",
            "_view_count": null,
            "_view_module": "@jupyter-widgets/base",
            "_view_module_version": "1.2.0",
            "_view_name": "LayoutView",
            "align_content": null,
            "align_items": null,
            "align_self": null,
            "border": null,
            "bottom": null,
            "display": null,
            "flex": null,
            "flex_flow": null,
            "grid_area": null,
            "grid_auto_columns": null,
            "grid_auto_flow": null,
            "grid_auto_rows": null,
            "grid_column": null,
            "grid_gap": null,
            "grid_row": null,
            "grid_template_areas": null,
            "grid_template_columns": null,
            "grid_template_rows": null,
            "height": null,
            "justify_content": null,
            "justify_items": null,
            "left": null,
            "margin": null,
            "max_height": null,
            "max_width": null,
            "min_height": null,
            "min_width": null,
            "object_fit": null,
            "object_position": null,
            "order": null,
            "overflow": null,
            "overflow_x": null,
            "overflow_y": null,
            "padding": null,
            "right": null,
            "top": null,
            "visibility": null,
            "width": null
          }
        },
        "15f2344285284bb78da18e9855dc0b22": {
          "model_module": "@jupyter-widgets/controls",
          "model_name": "DescriptionStyleModel",
          "model_module_version": "1.5.0",
          "state": {
            "_model_module": "@jupyter-widgets/controls",
            "_model_module_version": "1.5.0",
            "_model_name": "DescriptionStyleModel",
            "_view_count": null,
            "_view_module": "@jupyter-widgets/base",
            "_view_module_version": "1.2.0",
            "_view_name": "StyleView",
            "description_width": ""
          }
        },
        "4d9fe23fe2c34ec5a5df9b97afdbbfc3": {
          "model_module": "@jupyter-widgets/controls",
          "model_name": "HBoxModel",
          "model_module_version": "1.5.0",
          "state": {
            "_dom_classes": [],
            "_model_module": "@jupyter-widgets/controls",
            "_model_module_version": "1.5.0",
            "_model_name": "HBoxModel",
            "_view_count": null,
            "_view_module": "@jupyter-widgets/controls",
            "_view_module_version": "1.5.0",
            "_view_name": "HBoxView",
            "box_style": "",
            "children": [
              "IPY_MODEL_69a46e5b8ce14d0cb13a5a97fbc95969",
              "IPY_MODEL_393793ad197a45a18a817032b0f09102",
              "IPY_MODEL_2124cfa9f2b34ddb8c0c677cd93c5e4f"
            ],
            "layout": "IPY_MODEL_0626eced4581405cbba53070710e35be"
          }
        },
        "69a46e5b8ce14d0cb13a5a97fbc95969": {
          "model_module": "@jupyter-widgets/controls",
          "model_name": "HTMLModel",
          "model_module_version": "1.5.0",
          "state": {
            "_dom_classes": [],
            "_model_module": "@jupyter-widgets/controls",
            "_model_module_version": "1.5.0",
            "_model_name": "HTMLModel",
            "_view_count": null,
            "_view_module": "@jupyter-widgets/controls",
            "_view_module_version": "1.5.0",
            "_view_name": "HTMLView",
            "description": "",
            "description_tooltip": null,
            "layout": "IPY_MODEL_ad1f2611d9c04085a5f32270569a4ddf",
            "placeholder": "​",
            "style": "IPY_MODEL_dad6f02c162849b29c8a75c0a8aabcf6",
            "value": "generation_config.json: 100%"
          }
        },
        "393793ad197a45a18a817032b0f09102": {
          "model_module": "@jupyter-widgets/controls",
          "model_name": "FloatProgressModel",
          "model_module_version": "1.5.0",
          "state": {
            "_dom_classes": [],
            "_model_module": "@jupyter-widgets/controls",
            "_model_module_version": "1.5.0",
            "_model_name": "FloatProgressModel",
            "_view_count": null,
            "_view_module": "@jupyter-widgets/controls",
            "_view_module_version": "1.5.0",
            "_view_name": "ProgressView",
            "bar_style": "success",
            "description": "",
            "description_tooltip": null,
            "layout": "IPY_MODEL_60c328d01cbf4710935020d3a450b0bc",
            "max": 124,
            "min": 0,
            "orientation": "horizontal",
            "style": "IPY_MODEL_fedb01c821fd4b2295215b673402b149",
            "value": 124
          }
        },
        "2124cfa9f2b34ddb8c0c677cd93c5e4f": {
          "model_module": "@jupyter-widgets/controls",
          "model_name": "HTMLModel",
          "model_module_version": "1.5.0",
          "state": {
            "_dom_classes": [],
            "_model_module": "@jupyter-widgets/controls",
            "_model_module_version": "1.5.0",
            "_model_name": "HTMLModel",
            "_view_count": null,
            "_view_module": "@jupyter-widgets/controls",
            "_view_module_version": "1.5.0",
            "_view_name": "HTMLView",
            "description": "",
            "description_tooltip": null,
            "layout": "IPY_MODEL_f760e9dee5cc475bb5ee5f0d674b3511",
            "placeholder": "​",
            "style": "IPY_MODEL_a5777747dbf148a2ac333fd147beee76",
            "value": " 124/124 [00:00&lt;00:00, 3.69kB/s]"
          }
        },
        "0626eced4581405cbba53070710e35be": {
          "model_module": "@jupyter-widgets/base",
          "model_name": "LayoutModel",
          "model_module_version": "1.2.0",
          "state": {
            "_model_module": "@jupyter-widgets/base",
            "_model_module_version": "1.2.0",
            "_model_name": "LayoutModel",
            "_view_count": null,
            "_view_module": "@jupyter-widgets/base",
            "_view_module_version": "1.2.0",
            "_view_name": "LayoutView",
            "align_content": null,
            "align_items": null,
            "align_self": null,
            "border": null,
            "bottom": null,
            "display": null,
            "flex": null,
            "flex_flow": null,
            "grid_area": null,
            "grid_auto_columns": null,
            "grid_auto_flow": null,
            "grid_auto_rows": null,
            "grid_column": null,
            "grid_gap": null,
            "grid_row": null,
            "grid_template_areas": null,
            "grid_template_columns": null,
            "grid_template_rows": null,
            "height": null,
            "justify_content": null,
            "justify_items": null,
            "left": null,
            "margin": null,
            "max_height": null,
            "max_width": null,
            "min_height": null,
            "min_width": null,
            "object_fit": null,
            "object_position": null,
            "order": null,
            "overflow": null,
            "overflow_x": null,
            "overflow_y": null,
            "padding": null,
            "right": null,
            "top": null,
            "visibility": null,
            "width": null
          }
        },
        "ad1f2611d9c04085a5f32270569a4ddf": {
          "model_module": "@jupyter-widgets/base",
          "model_name": "LayoutModel",
          "model_module_version": "1.2.0",
          "state": {
            "_model_module": "@jupyter-widgets/base",
            "_model_module_version": "1.2.0",
            "_model_name": "LayoutModel",
            "_view_count": null,
            "_view_module": "@jupyter-widgets/base",
            "_view_module_version": "1.2.0",
            "_view_name": "LayoutView",
            "align_content": null,
            "align_items": null,
            "align_self": null,
            "border": null,
            "bottom": null,
            "display": null,
            "flex": null,
            "flex_flow": null,
            "grid_area": null,
            "grid_auto_columns": null,
            "grid_auto_flow": null,
            "grid_auto_rows": null,
            "grid_column": null,
            "grid_gap": null,
            "grid_row": null,
            "grid_template_areas": null,
            "grid_template_columns": null,
            "grid_template_rows": null,
            "height": null,
            "justify_content": null,
            "justify_items": null,
            "left": null,
            "margin": null,
            "max_height": null,
            "max_width": null,
            "min_height": null,
            "min_width": null,
            "object_fit": null,
            "object_position": null,
            "order": null,
            "overflow": null,
            "overflow_x": null,
            "overflow_y": null,
            "padding": null,
            "right": null,
            "top": null,
            "visibility": null,
            "width": null
          }
        },
        "dad6f02c162849b29c8a75c0a8aabcf6": {
          "model_module": "@jupyter-widgets/controls",
          "model_name": "DescriptionStyleModel",
          "model_module_version": "1.5.0",
          "state": {
            "_model_module": "@jupyter-widgets/controls",
            "_model_module_version": "1.5.0",
            "_model_name": "DescriptionStyleModel",
            "_view_count": null,
            "_view_module": "@jupyter-widgets/base",
            "_view_module_version": "1.2.0",
            "_view_name": "StyleView",
            "description_width": ""
          }
        },
        "60c328d01cbf4710935020d3a450b0bc": {
          "model_module": "@jupyter-widgets/base",
          "model_name": "LayoutModel",
          "model_module_version": "1.2.0",
          "state": {
            "_model_module": "@jupyter-widgets/base",
            "_model_module_version": "1.2.0",
            "_model_name": "LayoutModel",
            "_view_count": null,
            "_view_module": "@jupyter-widgets/base",
            "_view_module_version": "1.2.0",
            "_view_name": "LayoutView",
            "align_content": null,
            "align_items": null,
            "align_self": null,
            "border": null,
            "bottom": null,
            "display": null,
            "flex": null,
            "flex_flow": null,
            "grid_area": null,
            "grid_auto_columns": null,
            "grid_auto_flow": null,
            "grid_auto_rows": null,
            "grid_column": null,
            "grid_gap": null,
            "grid_row": null,
            "grid_template_areas": null,
            "grid_template_columns": null,
            "grid_template_rows": null,
            "height": null,
            "justify_content": null,
            "justify_items": null,
            "left": null,
            "margin": null,
            "max_height": null,
            "max_width": null,
            "min_height": null,
            "min_width": null,
            "object_fit": null,
            "object_position": null,
            "order": null,
            "overflow": null,
            "overflow_x": null,
            "overflow_y": null,
            "padding": null,
            "right": null,
            "top": null,
            "visibility": null,
            "width": null
          }
        },
        "fedb01c821fd4b2295215b673402b149": {
          "model_module": "@jupyter-widgets/controls",
          "model_name": "ProgressStyleModel",
          "model_module_version": "1.5.0",
          "state": {
            "_model_module": "@jupyter-widgets/controls",
            "_model_module_version": "1.5.0",
            "_model_name": "ProgressStyleModel",
            "_view_count": null,
            "_view_module": "@jupyter-widgets/base",
            "_view_module_version": "1.2.0",
            "_view_name": "StyleView",
            "bar_color": null,
            "description_width": ""
          }
        },
        "f760e9dee5cc475bb5ee5f0d674b3511": {
          "model_module": "@jupyter-widgets/base",
          "model_name": "LayoutModel",
          "model_module_version": "1.2.0",
          "state": {
            "_model_module": "@jupyter-widgets/base",
            "_model_module_version": "1.2.0",
            "_model_name": "LayoutModel",
            "_view_count": null,
            "_view_module": "@jupyter-widgets/base",
            "_view_module_version": "1.2.0",
            "_view_name": "LayoutView",
            "align_content": null,
            "align_items": null,
            "align_self": null,
            "border": null,
            "bottom": null,
            "display": null,
            "flex": null,
            "flex_flow": null,
            "grid_area": null,
            "grid_auto_columns": null,
            "grid_auto_flow": null,
            "grid_auto_rows": null,
            "grid_column": null,
            "grid_gap": null,
            "grid_row": null,
            "grid_template_areas": null,
            "grid_template_columns": null,
            "grid_template_rows": null,
            "height": null,
            "justify_content": null,
            "justify_items": null,
            "left": null,
            "margin": null,
            "max_height": null,
            "max_width": null,
            "min_height": null,
            "min_width": null,
            "object_fit": null,
            "object_position": null,
            "order": null,
            "overflow": null,
            "overflow_x": null,
            "overflow_y": null,
            "padding": null,
            "right": null,
            "top": null,
            "visibility": null,
            "width": null
          }
        },
        "a5777747dbf148a2ac333fd147beee76": {
          "model_module": "@jupyter-widgets/controls",
          "model_name": "DescriptionStyleModel",
          "model_module_version": "1.5.0",
          "state": {
            "_model_module": "@jupyter-widgets/controls",
            "_model_module_version": "1.5.0",
            "_model_name": "DescriptionStyleModel",
            "_view_count": null,
            "_view_module": "@jupyter-widgets/base",
            "_view_module_version": "1.2.0",
            "_view_name": "StyleView",
            "description_width": ""
          }
        },
        "4c1c7eed40ea429b91e0e3a5f8c71422": {
          "model_module": "@jupyter-widgets/controls",
          "model_name": "HBoxModel",
          "model_module_version": "1.5.0",
          "state": {
            "_dom_classes": [],
            "_model_module": "@jupyter-widgets/controls",
            "_model_module_version": "1.5.0",
            "_model_name": "HBoxModel",
            "_view_count": null,
            "_view_module": "@jupyter-widgets/controls",
            "_view_module_version": "1.5.0",
            "_view_name": "HBoxView",
            "box_style": "",
            "children": [
              "IPY_MODEL_fce60fb4441f45af970f1cd8cf17d4eb",
              "IPY_MODEL_a8bfbdbd8b12486d98e22b9fde439076",
              "IPY_MODEL_57b426ea21a643a887e6a18906df72d8"
            ],
            "layout": "IPY_MODEL_357097c30c8e41e5bb5964577f3970a7"
          }
        },
        "fce60fb4441f45af970f1cd8cf17d4eb": {
          "model_module": "@jupyter-widgets/controls",
          "model_name": "HTMLModel",
          "model_module_version": "1.5.0",
          "state": {
            "_dom_classes": [],
            "_model_module": "@jupyter-widgets/controls",
            "_model_module_version": "1.5.0",
            "_model_name": "HTMLModel",
            "_view_count": null,
            "_view_module": "@jupyter-widgets/controls",
            "_view_module_version": "1.5.0",
            "_view_name": "HTMLView",
            "description": "",
            "description_tooltip": null,
            "layout": "IPY_MODEL_4b55f094b1ef4101a9a02295b4c2cb1d",
            "placeholder": "​",
            "style": "IPY_MODEL_093ee83453784a769b4ae30b01da7657",
            "value": "Generating train split: "
          }
        },
        "a8bfbdbd8b12486d98e22b9fde439076": {
          "model_module": "@jupyter-widgets/controls",
          "model_name": "FloatProgressModel",
          "model_module_version": "1.5.0",
          "state": {
            "_dom_classes": [],
            "_model_module": "@jupyter-widgets/controls",
            "_model_module_version": "1.5.0",
            "_model_name": "FloatProgressModel",
            "_view_count": null,
            "_view_module": "@jupyter-widgets/controls",
            "_view_module_version": "1.5.0",
            "_view_name": "ProgressView",
            "bar_style": "success",
            "description": "",
            "description_tooltip": null,
            "layout": "IPY_MODEL_d10809c9042d450abb06f999cd427068",
            "max": 1,
            "min": 0,
            "orientation": "horizontal",
            "style": "IPY_MODEL_0c0c214b3ab44aafa01cd25188301ad2",
            "value": 1
          }
        },
        "57b426ea21a643a887e6a18906df72d8": {
          "model_module": "@jupyter-widgets/controls",
          "model_name": "HTMLModel",
          "model_module_version": "1.5.0",
          "state": {
            "_dom_classes": [],
            "_model_module": "@jupyter-widgets/controls",
            "_model_module_version": "1.5.0",
            "_model_name": "HTMLModel",
            "_view_count": null,
            "_view_module": "@jupyter-widgets/controls",
            "_view_module_version": "1.5.0",
            "_view_name": "HTMLView",
            "description": "",
            "description_tooltip": null,
            "layout": "IPY_MODEL_5dabbc82604c4adca354dace8f4897d0",
            "placeholder": "​",
            "style": "IPY_MODEL_379d3b3fa7be41679e788a159cb49b7e",
            "value": " 4000/0 [00:00&lt;00:00, 15335.55 examples/s]"
          }
        },
        "357097c30c8e41e5bb5964577f3970a7": {
          "model_module": "@jupyter-widgets/base",
          "model_name": "LayoutModel",
          "model_module_version": "1.2.0",
          "state": {
            "_model_module": "@jupyter-widgets/base",
            "_model_module_version": "1.2.0",
            "_model_name": "LayoutModel",
            "_view_count": null,
            "_view_module": "@jupyter-widgets/base",
            "_view_module_version": "1.2.0",
            "_view_name": "LayoutView",
            "align_content": null,
            "align_items": null,
            "align_self": null,
            "border": null,
            "bottom": null,
            "display": null,
            "flex": null,
            "flex_flow": null,
            "grid_area": null,
            "grid_auto_columns": null,
            "grid_auto_flow": null,
            "grid_auto_rows": null,
            "grid_column": null,
            "grid_gap": null,
            "grid_row": null,
            "grid_template_areas": null,
            "grid_template_columns": null,
            "grid_template_rows": null,
            "height": null,
            "justify_content": null,
            "justify_items": null,
            "left": null,
            "margin": null,
            "max_height": null,
            "max_width": null,
            "min_height": null,
            "min_width": null,
            "object_fit": null,
            "object_position": null,
            "order": null,
            "overflow": null,
            "overflow_x": null,
            "overflow_y": null,
            "padding": null,
            "right": null,
            "top": null,
            "visibility": null,
            "width": null
          }
        },
        "4b55f094b1ef4101a9a02295b4c2cb1d": {
          "model_module": "@jupyter-widgets/base",
          "model_name": "LayoutModel",
          "model_module_version": "1.2.0",
          "state": {
            "_model_module": "@jupyter-widgets/base",
            "_model_module_version": "1.2.0",
            "_model_name": "LayoutModel",
            "_view_count": null,
            "_view_module": "@jupyter-widgets/base",
            "_view_module_version": "1.2.0",
            "_view_name": "LayoutView",
            "align_content": null,
            "align_items": null,
            "align_self": null,
            "border": null,
            "bottom": null,
            "display": null,
            "flex": null,
            "flex_flow": null,
            "grid_area": null,
            "grid_auto_columns": null,
            "grid_auto_flow": null,
            "grid_auto_rows": null,
            "grid_column": null,
            "grid_gap": null,
            "grid_row": null,
            "grid_template_areas": null,
            "grid_template_columns": null,
            "grid_template_rows": null,
            "height": null,
            "justify_content": null,
            "justify_items": null,
            "left": null,
            "margin": null,
            "max_height": null,
            "max_width": null,
            "min_height": null,
            "min_width": null,
            "object_fit": null,
            "object_position": null,
            "order": null,
            "overflow": null,
            "overflow_x": null,
            "overflow_y": null,
            "padding": null,
            "right": null,
            "top": null,
            "visibility": null,
            "width": null
          }
        },
        "093ee83453784a769b4ae30b01da7657": {
          "model_module": "@jupyter-widgets/controls",
          "model_name": "DescriptionStyleModel",
          "model_module_version": "1.5.0",
          "state": {
            "_model_module": "@jupyter-widgets/controls",
            "_model_module_version": "1.5.0",
            "_model_name": "DescriptionStyleModel",
            "_view_count": null,
            "_view_module": "@jupyter-widgets/base",
            "_view_module_version": "1.2.0",
            "_view_name": "StyleView",
            "description_width": ""
          }
        },
        "d10809c9042d450abb06f999cd427068": {
          "model_module": "@jupyter-widgets/base",
          "model_name": "LayoutModel",
          "model_module_version": "1.2.0",
          "state": {
            "_model_module": "@jupyter-widgets/base",
            "_model_module_version": "1.2.0",
            "_model_name": "LayoutModel",
            "_view_count": null,
            "_view_module": "@jupyter-widgets/base",
            "_view_module_version": "1.2.0",
            "_view_name": "LayoutView",
            "align_content": null,
            "align_items": null,
            "align_self": null,
            "border": null,
            "bottom": null,
            "display": null,
            "flex": null,
            "flex_flow": null,
            "grid_area": null,
            "grid_auto_columns": null,
            "grid_auto_flow": null,
            "grid_auto_rows": null,
            "grid_column": null,
            "grid_gap": null,
            "grid_row": null,
            "grid_template_areas": null,
            "grid_template_columns": null,
            "grid_template_rows": null,
            "height": null,
            "justify_content": null,
            "justify_items": null,
            "left": null,
            "margin": null,
            "max_height": null,
            "max_width": null,
            "min_height": null,
            "min_width": null,
            "object_fit": null,
            "object_position": null,
            "order": null,
            "overflow": null,
            "overflow_x": null,
            "overflow_y": null,
            "padding": null,
            "right": null,
            "top": null,
            "visibility": null,
            "width": "20px"
          }
        },
        "0c0c214b3ab44aafa01cd25188301ad2": {
          "model_module": "@jupyter-widgets/controls",
          "model_name": "ProgressStyleModel",
          "model_module_version": "1.5.0",
          "state": {
            "_model_module": "@jupyter-widgets/controls",
            "_model_module_version": "1.5.0",
            "_model_name": "ProgressStyleModel",
            "_view_count": null,
            "_view_module": "@jupyter-widgets/base",
            "_view_module_version": "1.2.0",
            "_view_name": "StyleView",
            "bar_color": null,
            "description_width": ""
          }
        },
        "5dabbc82604c4adca354dace8f4897d0": {
          "model_module": "@jupyter-widgets/base",
          "model_name": "LayoutModel",
          "model_module_version": "1.2.0",
          "state": {
            "_model_module": "@jupyter-widgets/base",
            "_model_module_version": "1.2.0",
            "_model_name": "LayoutModel",
            "_view_count": null,
            "_view_module": "@jupyter-widgets/base",
            "_view_module_version": "1.2.0",
            "_view_name": "LayoutView",
            "align_content": null,
            "align_items": null,
            "align_self": null,
            "border": null,
            "bottom": null,
            "display": null,
            "flex": null,
            "flex_flow": null,
            "grid_area": null,
            "grid_auto_columns": null,
            "grid_auto_flow": null,
            "grid_auto_rows": null,
            "grid_column": null,
            "grid_gap": null,
            "grid_row": null,
            "grid_template_areas": null,
            "grid_template_columns": null,
            "grid_template_rows": null,
            "height": null,
            "justify_content": null,
            "justify_items": null,
            "left": null,
            "margin": null,
            "max_height": null,
            "max_width": null,
            "min_height": null,
            "min_width": null,
            "object_fit": null,
            "object_position": null,
            "order": null,
            "overflow": null,
            "overflow_x": null,
            "overflow_y": null,
            "padding": null,
            "right": null,
            "top": null,
            "visibility": null,
            "width": null
          }
        },
        "379d3b3fa7be41679e788a159cb49b7e": {
          "model_module": "@jupyter-widgets/controls",
          "model_name": "DescriptionStyleModel",
          "model_module_version": "1.5.0",
          "state": {
            "_model_module": "@jupyter-widgets/controls",
            "_model_module_version": "1.5.0",
            "_model_name": "DescriptionStyleModel",
            "_view_count": null,
            "_view_module": "@jupyter-widgets/base",
            "_view_module_version": "1.2.0",
            "_view_name": "StyleView",
            "description_width": ""
          }
        },
        "d7fc489c07ef4f2882d4ca3ece1ff525": {
          "model_module": "@jupyter-widgets/controls",
          "model_name": "HBoxModel",
          "model_module_version": "1.5.0",
          "state": {
            "_dom_classes": [],
            "_model_module": "@jupyter-widgets/controls",
            "_model_module_version": "1.5.0",
            "_model_name": "HBoxModel",
            "_view_count": null,
            "_view_module": "@jupyter-widgets/controls",
            "_view_module_version": "1.5.0",
            "_view_name": "HBoxView",
            "box_style": "",
            "children": [
              "IPY_MODEL_4daa5099db404c7aa19c31b484a2c18b",
              "IPY_MODEL_d0a76f8b2f5f44e096b667cc1e3dab28",
              "IPY_MODEL_e13cf35e2a154e98b21044f17591cf68"
            ],
            "layout": "IPY_MODEL_88eb328c5cc744c6bed3dbf15f8e9dbc"
          }
        },
        "4daa5099db404c7aa19c31b484a2c18b": {
          "model_module": "@jupyter-widgets/controls",
          "model_name": "HTMLModel",
          "model_module_version": "1.5.0",
          "state": {
            "_dom_classes": [],
            "_model_module": "@jupyter-widgets/controls",
            "_model_module_version": "1.5.0",
            "_model_name": "HTMLModel",
            "_view_count": null,
            "_view_module": "@jupyter-widgets/controls",
            "_view_module_version": "1.5.0",
            "_view_name": "HTMLView",
            "description": "",
            "description_tooltip": null,
            "layout": "IPY_MODEL_a4370ad93bc94dd09a21a3ce0f53efc7",
            "placeholder": "​",
            "style": "IPY_MODEL_bef25630dbfa474d88b778610ad5d771",
            "value": "Map: 100%"
          }
        },
        "d0a76f8b2f5f44e096b667cc1e3dab28": {
          "model_module": "@jupyter-widgets/controls",
          "model_name": "FloatProgressModel",
          "model_module_version": "1.5.0",
          "state": {
            "_dom_classes": [],
            "_model_module": "@jupyter-widgets/controls",
            "_model_module_version": "1.5.0",
            "_model_name": "FloatProgressModel",
            "_view_count": null,
            "_view_module": "@jupyter-widgets/controls",
            "_view_module_version": "1.5.0",
            "_view_name": "ProgressView",
            "bar_style": "success",
            "description": "",
            "description_tooltip": null,
            "layout": "IPY_MODEL_bfbc6632d1a64caa9d0c0b4a72c52df4",
            "max": 4000,
            "min": 0,
            "orientation": "horizontal",
            "style": "IPY_MODEL_c07a94e62ebb4933adc9983834f44e3e",
            "value": 4000
          }
        },
        "e13cf35e2a154e98b21044f17591cf68": {
          "model_module": "@jupyter-widgets/controls",
          "model_name": "HTMLModel",
          "model_module_version": "1.5.0",
          "state": {
            "_dom_classes": [],
            "_model_module": "@jupyter-widgets/controls",
            "_model_module_version": "1.5.0",
            "_model_name": "HTMLModel",
            "_view_count": null,
            "_view_module": "@jupyter-widgets/controls",
            "_view_module_version": "1.5.0",
            "_view_name": "HTMLView",
            "description": "",
            "description_tooltip": null,
            "layout": "IPY_MODEL_17e66c7d44c94b78b6acd5058ae278a3",
            "placeholder": "​",
            "style": "IPY_MODEL_a951b416a02f4922a2fd5ace1f68f358",
            "value": " 4000/4000 [00:24&lt;00:00, 179.52 examples/s]"
          }
        },
        "88eb328c5cc744c6bed3dbf15f8e9dbc": {
          "model_module": "@jupyter-widgets/base",
          "model_name": "LayoutModel",
          "model_module_version": "1.2.0",
          "state": {
            "_model_module": "@jupyter-widgets/base",
            "_model_module_version": "1.2.0",
            "_model_name": "LayoutModel",
            "_view_count": null,
            "_view_module": "@jupyter-widgets/base",
            "_view_module_version": "1.2.0",
            "_view_name": "LayoutView",
            "align_content": null,
            "align_items": null,
            "align_self": null,
            "border": null,
            "bottom": null,
            "display": null,
            "flex": null,
            "flex_flow": null,
            "grid_area": null,
            "grid_auto_columns": null,
            "grid_auto_flow": null,
            "grid_auto_rows": null,
            "grid_column": null,
            "grid_gap": null,
            "grid_row": null,
            "grid_template_areas": null,
            "grid_template_columns": null,
            "grid_template_rows": null,
            "height": null,
            "justify_content": null,
            "justify_items": null,
            "left": null,
            "margin": null,
            "max_height": null,
            "max_width": null,
            "min_height": null,
            "min_width": null,
            "object_fit": null,
            "object_position": null,
            "order": null,
            "overflow": null,
            "overflow_x": null,
            "overflow_y": null,
            "padding": null,
            "right": null,
            "top": null,
            "visibility": null,
            "width": null
          }
        },
        "a4370ad93bc94dd09a21a3ce0f53efc7": {
          "model_module": "@jupyter-widgets/base",
          "model_name": "LayoutModel",
          "model_module_version": "1.2.0",
          "state": {
            "_model_module": "@jupyter-widgets/base",
            "_model_module_version": "1.2.0",
            "_model_name": "LayoutModel",
            "_view_count": null,
            "_view_module": "@jupyter-widgets/base",
            "_view_module_version": "1.2.0",
            "_view_name": "LayoutView",
            "align_content": null,
            "align_items": null,
            "align_self": null,
            "border": null,
            "bottom": null,
            "display": null,
            "flex": null,
            "flex_flow": null,
            "grid_area": null,
            "grid_auto_columns": null,
            "grid_auto_flow": null,
            "grid_auto_rows": null,
            "grid_column": null,
            "grid_gap": null,
            "grid_row": null,
            "grid_template_areas": null,
            "grid_template_columns": null,
            "grid_template_rows": null,
            "height": null,
            "justify_content": null,
            "justify_items": null,
            "left": null,
            "margin": null,
            "max_height": null,
            "max_width": null,
            "min_height": null,
            "min_width": null,
            "object_fit": null,
            "object_position": null,
            "order": null,
            "overflow": null,
            "overflow_x": null,
            "overflow_y": null,
            "padding": null,
            "right": null,
            "top": null,
            "visibility": null,
            "width": null
          }
        },
        "bef25630dbfa474d88b778610ad5d771": {
          "model_module": "@jupyter-widgets/controls",
          "model_name": "DescriptionStyleModel",
          "model_module_version": "1.5.0",
          "state": {
            "_model_module": "@jupyter-widgets/controls",
            "_model_module_version": "1.5.0",
            "_model_name": "DescriptionStyleModel",
            "_view_count": null,
            "_view_module": "@jupyter-widgets/base",
            "_view_module_version": "1.2.0",
            "_view_name": "StyleView",
            "description_width": ""
          }
        },
        "bfbc6632d1a64caa9d0c0b4a72c52df4": {
          "model_module": "@jupyter-widgets/base",
          "model_name": "LayoutModel",
          "model_module_version": "1.2.0",
          "state": {
            "_model_module": "@jupyter-widgets/base",
            "_model_module_version": "1.2.0",
            "_model_name": "LayoutModel",
            "_view_count": null,
            "_view_module": "@jupyter-widgets/base",
            "_view_module_version": "1.2.0",
            "_view_name": "LayoutView",
            "align_content": null,
            "align_items": null,
            "align_self": null,
            "border": null,
            "bottom": null,
            "display": null,
            "flex": null,
            "flex_flow": null,
            "grid_area": null,
            "grid_auto_columns": null,
            "grid_auto_flow": null,
            "grid_auto_rows": null,
            "grid_column": null,
            "grid_gap": null,
            "grid_row": null,
            "grid_template_areas": null,
            "grid_template_columns": null,
            "grid_template_rows": null,
            "height": null,
            "justify_content": null,
            "justify_items": null,
            "left": null,
            "margin": null,
            "max_height": null,
            "max_width": null,
            "min_height": null,
            "min_width": null,
            "object_fit": null,
            "object_position": null,
            "order": null,
            "overflow": null,
            "overflow_x": null,
            "overflow_y": null,
            "padding": null,
            "right": null,
            "top": null,
            "visibility": null,
            "width": null
          }
        },
        "c07a94e62ebb4933adc9983834f44e3e": {
          "model_module": "@jupyter-widgets/controls",
          "model_name": "ProgressStyleModel",
          "model_module_version": "1.5.0",
          "state": {
            "_model_module": "@jupyter-widgets/controls",
            "_model_module_version": "1.5.0",
            "_model_name": "ProgressStyleModel",
            "_view_count": null,
            "_view_module": "@jupyter-widgets/base",
            "_view_module_version": "1.2.0",
            "_view_name": "StyleView",
            "bar_color": null,
            "description_width": ""
          }
        },
        "17e66c7d44c94b78b6acd5058ae278a3": {
          "model_module": "@jupyter-widgets/base",
          "model_name": "LayoutModel",
          "model_module_version": "1.2.0",
          "state": {
            "_model_module": "@jupyter-widgets/base",
            "_model_module_version": "1.2.0",
            "_model_name": "LayoutModel",
            "_view_count": null,
            "_view_module": "@jupyter-widgets/base",
            "_view_module_version": "1.2.0",
            "_view_name": "LayoutView",
            "align_content": null,
            "align_items": null,
            "align_self": null,
            "border": null,
            "bottom": null,
            "display": null,
            "flex": null,
            "flex_flow": null,
            "grid_area": null,
            "grid_auto_columns": null,
            "grid_auto_flow": null,
            "grid_auto_rows": null,
            "grid_column": null,
            "grid_gap": null,
            "grid_row": null,
            "grid_template_areas": null,
            "grid_template_columns": null,
            "grid_template_rows": null,
            "height": null,
            "justify_content": null,
            "justify_items": null,
            "left": null,
            "margin": null,
            "max_height": null,
            "max_width": null,
            "min_height": null,
            "min_width": null,
            "object_fit": null,
            "object_position": null,
            "order": null,
            "overflow": null,
            "overflow_x": null,
            "overflow_y": null,
            "padding": null,
            "right": null,
            "top": null,
            "visibility": null,
            "width": null
          }
        },
        "a951b416a02f4922a2fd5ace1f68f358": {
          "model_module": "@jupyter-widgets/controls",
          "model_name": "DescriptionStyleModel",
          "model_module_version": "1.5.0",
          "state": {
            "_model_module": "@jupyter-widgets/controls",
            "_model_module_version": "1.5.0",
            "_model_name": "DescriptionStyleModel",
            "_view_count": null,
            "_view_module": "@jupyter-widgets/base",
            "_view_module_version": "1.2.0",
            "_view_name": "StyleView",
            "description_width": ""
          }
        }
      }
    }
  },
  "cells": [
    {
      "cell_type": "markdown",
      "metadata": {
        "id": "view-in-github",
        "colab_type": "text"
      },
      "source": [
        "<a href=\"https://colab.research.google.com/github/Ayush54555/GNCIPL-Internship-Major-Project-Generate-Email-Text-for-Spam-Classification/blob/main/Data_Augmentation_%26_Model_Preparation.ipynb\" target=\"_parent\"><img src=\"https://colab.research.google.com/assets/colab-badge.svg\" alt=\"Open In Colab\"/></a>"
      ]
    },
    {
      "cell_type": "markdown",
      "source": [
        "# Data Augmentation & Model Preparation\n",
        "\n",
        "\n",
        "In this phase, our focus is on **enhancing the dataset with synthetic emails** and preparing it for classification using various machine learning models. By generating high-quality synthetic spam and ham emails, we aim to address class imbalance and improve the robustness of our spam detection system.\n",
        "\n",
        "---\n",
        "\n",
        "## Objectives\n",
        "\n",
        "1. **Synthetic Data Generation**\n",
        "   - Fine-tune a generative AI model (e.g., GPT-2 or T5) on the real email dataset.\n",
        "   - Generate new synthetic emails for both spam and ham categories.\n",
        "   - Preprocess and clean synthetic emails to match the format of real emails.\n",
        "   - Combine real and synthetic emails to create the final **augmented dataset**.\n",
        "\n",
        "2. **Exploratory Data Analysis & Feature Engineering**\n",
        "   - Perform quick overview and detailed EDA to understand data characteristics.\n",
        "   - Apply **TF-IDF vectorization** to convert text data into numerical features suitable for machine learning.\n",
        "\n",
        "3. **Model Selection (Initial Research)**\n",
        "   - Based on EDA and dataset characteristics, shortlist potential supervised learning algorithms:\n",
        "     - Naive Bayes, Logistic Regression, Random Forest, XGBoost\n",
        "     - Simple neural networks (MLP) for deep learning approaches\n",
        "   - Consider unsupervised learning and anomaly detection for detecting rare or new spam patterns.\n",
        "\n",
        "---\n",
        "\n",
        "By the end of this phase, we will have a **cleaned, augmented, and vectorized dataset** ready for training multiple models, along with a clear plan for model selection and evaluation.\n"
      ],
      "metadata": {
        "id": "PmzTPxAs0nvu"
      }
    },
    {
      "cell_type": "markdown",
      "source": [
        "# **1.Load dataset**"
      ],
      "metadata": {
        "id": "TNIGm4krZWYr"
      }
    },
    {
      "cell_type": "code",
      "execution_count": 1,
      "metadata": {
        "id": "plNSoZweUzVK",
        "colab": {
          "base_uri": "https://localhost:8080/"
        },
        "outputId": "6b4c7d4a-d773-4cfe-c793-efff73b43b78"
      },
      "outputs": [
        {
          "output_type": "stream",
          "name": "stdout",
          "text": [
            "Mounted at /content/drive\n"
          ]
        }
      ],
      "source": [
        "# Mount Google Drive\n",
        "from google.colab import drive\n",
        "drive.mount('/content/drive')\n",
        "\n",
        "import pandas as pd\n",
        "\n",
        "file_path = \"/content/drive/MyDrive/CleanedDataset.csv\"\n",
        "df = pd.read_csv(file_path, low_memory=False)\n",
        "\n",
        "\n"
      ]
    },
    {
      "cell_type": "markdown",
      "source": [
        "#  **2.Inspect dataset**"
      ],
      "metadata": {
        "id": "lIqP2GMqXzDK"
      }
    },
    {
      "cell_type": "markdown",
      "source": [
        "## Shape Of The Dataset"
      ],
      "metadata": {
        "id": "V04UVC7bZeOo"
      }
    },
    {
      "cell_type": "code",
      "source": [
        "\n",
        "print(df.shape)\n",
        "\n"
      ],
      "metadata": {
        "id": "NelO01F7Xxz3",
        "colab": {
          "base_uri": "https://localhost:8080/"
        },
        "outputId": "3dff940e-a24f-4544-ac1b-adb8a1bbe808"
      },
      "execution_count": 2,
      "outputs": [
        {
          "output_type": "stream",
          "name": "stdout",
          "text": [
            "(83448, 2)\n"
          ]
        }
      ]
    },
    {
      "cell_type": "markdown",
      "source": [
        "The dataset has 83448 rows and 2 columns."
      ],
      "metadata": {
        "id": "OqJZu4PQEbNJ"
      }
    },
    {
      "cell_type": "markdown",
      "source": [
        "# First 5 rows"
      ],
      "metadata": {
        "id": "i8RhfiKwZkFN"
      }
    },
    {
      "cell_type": "code",
      "source": [
        "print(df.head())"
      ],
      "metadata": {
        "id": "EwwQXEu1X5s-",
        "colab": {
          "base_uri": "https://localhost:8080/"
        },
        "outputId": "aae4f0e7-5206-42c8-ffdc-2dece5716186"
      },
      "execution_count": 3,
      "outputs": [
        {
          "output_type": "stream",
          "name": "stdout",
          "text": [
            "   label                                       cleaned_text\n",
            "0      1  ounc feather bowl hummingbird opec moment alab...\n",
            "1      1  wulvob medirc onlin qnb ikud viagra escapenumb...\n",
            "2      0  comput connect cnn com wednesday escapenumb es...\n",
            "3      1  univers degre obtain prosper futur money earn ...\n",
            "4      0  thank answer guy know check rsync manual escap...\n"
          ]
        }
      ]
    },
    {
      "cell_type": "markdown",
      "source": [
        "# Info"
      ],
      "metadata": {
        "id": "-qw8Y8o_Zm29"
      }
    },
    {
      "cell_type": "code",
      "source": [
        "print(df.info())"
      ],
      "metadata": {
        "id": "RcYr-PxcX63-",
        "colab": {
          "base_uri": "https://localhost:8080/"
        },
        "outputId": "fefbfdb3-3084-44a5-8fcc-c75b93e0852f"
      },
      "execution_count": 4,
      "outputs": [
        {
          "output_type": "stream",
          "name": "stdout",
          "text": [
            "<class 'pandas.core.frame.DataFrame'>\n",
            "RangeIndex: 83448 entries, 0 to 83447\n",
            "Data columns (total 2 columns):\n",
            " #   Column        Non-Null Count  Dtype \n",
            "---  ------        --------------  ----- \n",
            " 0   label         83448 non-null  int64 \n",
            " 1   cleaned_text  83393 non-null  object\n",
            "dtypes: int64(1), object(1)\n",
            "memory usage: 1.3+ MB\n",
            "None\n"
          ]
        }
      ]
    },
    {
      "cell_type": "markdown",
      "source": [
        "# **3. Separate spam and ham**\n"
      ],
      "metadata": {
        "id": "ZXYkibh9XnpA"
      }
    },
    {
      "cell_type": "code",
      "source": [
        "spam_df = df[df['label'] == 1]   #  1 = spam\n",
        "ham_df = df[df['label'] == 0]    #  0 = ham\n",
        "\n",
        "print(\"Spam samples:\", len(spam_df))\n",
        "print(\"Ham samples:\", len(ham_df))"
      ],
      "metadata": {
        "id": "rMOw9EsnXUUV",
        "colab": {
          "base_uri": "https://localhost:8080/"
        },
        "outputId": "3b1e6ab5-05e5-45cd-e996-de296f76f51b"
      },
      "execution_count": 5,
      "outputs": [
        {
          "output_type": "stream",
          "name": "stdout",
          "text": [
            "Spam samples: 43910\n",
            "Ham samples: 39538\n"
          ]
        }
      ]
    },
    {
      "cell_type": "markdown",
      "source": [
        "##  Save as text files for training"
      ],
      "metadata": {
        "id": "Xe5QUWXwZ3w9"
      }
    },
    {
      "cell_type": "code",
      "source": [
        "\n",
        "spam_file = \"/content/drive/MyDrive/spam.txt\"\n",
        "ham_file = \"/content/drive/MyDrive/ham.txt\"\n",
        "\n",
        "spam_df['cleaned_text'].to_csv(spam_file, index=False, header=False)\n",
        "ham_df['cleaned_text'].to_csv(ham_file, index=False, header=False)\n",
        "\n",
        "print(\" Files saved:\")\n",
        "print(f\"Spam -> {spam_file}, {len(spam_df)} samples\")\n",
        "print(f\"Ham  -> {ham_file}, {len(ham_df)} samples\")"
      ],
      "metadata": {
        "id": "14ey5ipzX-SL",
        "colab": {
          "base_uri": "https://localhost:8080/"
        },
        "outputId": "cc6644f1-339b-4f57-c3a8-361300950a88"
      },
      "execution_count": 6,
      "outputs": [
        {
          "output_type": "stream",
          "name": "stdout",
          "text": [
            " Files saved:\n",
            "Spam -> /content/drive/MyDrive/spam.txt, 43910 samples\n",
            "Ham  -> /content/drive/MyDrive/ham.txt, 39538 samples\n"
          ]
        }
      ]
    },
    {
      "cell_type": "markdown",
      "source": [
        "# **3.GPT-2 fine-tuning**"
      ],
      "metadata": {
        "id": "tuIf4NUNY-JS"
      }
    },
    {
      "cell_type": "markdown",
      "source": [
        "## Install dependencies"
      ],
      "metadata": {
        "id": "63ROfXQbZA6B"
      }
    },
    {
      "cell_type": "code",
      "source": [
        "!pip install transformers datasets\n"
      ],
      "metadata": {
        "id": "eNEiAq2BYRHz",
        "colab": {
          "base_uri": "https://localhost:8080/"
        },
        "outputId": "1b4caa24-9d03-440e-b0e4-701a5b242408"
      },
      "execution_count": 7,
      "outputs": [
        {
          "output_type": "stream",
          "name": "stdout",
          "text": [
            "Requirement already satisfied: transformers in /usr/local/lib/python3.12/dist-packages (4.56.1)\n",
            "Requirement already satisfied: datasets in /usr/local/lib/python3.12/dist-packages (4.0.0)\n",
            "Requirement already satisfied: filelock in /usr/local/lib/python3.12/dist-packages (from transformers) (3.19.1)\n",
            "Requirement already satisfied: huggingface-hub<1.0,>=0.34.0 in /usr/local/lib/python3.12/dist-packages (from transformers) (0.35.0)\n",
            "Requirement already satisfied: numpy>=1.17 in /usr/local/lib/python3.12/dist-packages (from transformers) (2.0.2)\n",
            "Requirement already satisfied: packaging>=20.0 in /usr/local/lib/python3.12/dist-packages (from transformers) (25.0)\n",
            "Requirement already satisfied: pyyaml>=5.1 in /usr/local/lib/python3.12/dist-packages (from transformers) (6.0.2)\n",
            "Requirement already satisfied: regex!=2019.12.17 in /usr/local/lib/python3.12/dist-packages (from transformers) (2024.11.6)\n",
            "Requirement already satisfied: requests in /usr/local/lib/python3.12/dist-packages (from transformers) (2.32.4)\n",
            "Requirement already satisfied: tokenizers<=0.23.0,>=0.22.0 in /usr/local/lib/python3.12/dist-packages (from transformers) (0.22.0)\n",
            "Requirement already satisfied: safetensors>=0.4.3 in /usr/local/lib/python3.12/dist-packages (from transformers) (0.6.2)\n",
            "Requirement already satisfied: tqdm>=4.27 in /usr/local/lib/python3.12/dist-packages (from transformers) (4.67.1)\n",
            "Requirement already satisfied: pyarrow>=15.0.0 in /usr/local/lib/python3.12/dist-packages (from datasets) (18.1.0)\n",
            "Requirement already satisfied: dill<0.3.9,>=0.3.0 in /usr/local/lib/python3.12/dist-packages (from datasets) (0.3.8)\n",
            "Requirement already satisfied: pandas in /usr/local/lib/python3.12/dist-packages (from datasets) (2.2.2)\n",
            "Requirement already satisfied: xxhash in /usr/local/lib/python3.12/dist-packages (from datasets) (3.5.0)\n",
            "Requirement already satisfied: multiprocess<0.70.17 in /usr/local/lib/python3.12/dist-packages (from datasets) (0.70.16)\n",
            "Requirement already satisfied: fsspec<=2025.3.0,>=2023.1.0 in /usr/local/lib/python3.12/dist-packages (from fsspec[http]<=2025.3.0,>=2023.1.0->datasets) (2025.3.0)\n",
            "Requirement already satisfied: aiohttp!=4.0.0a0,!=4.0.0a1 in /usr/local/lib/python3.12/dist-packages (from fsspec[http]<=2025.3.0,>=2023.1.0->datasets) (3.12.15)\n",
            "Requirement already satisfied: typing-extensions>=3.7.4.3 in /usr/local/lib/python3.12/dist-packages (from huggingface-hub<1.0,>=0.34.0->transformers) (4.15.0)\n",
            "Requirement already satisfied: hf-xet<2.0.0,>=1.1.3 in /usr/local/lib/python3.12/dist-packages (from huggingface-hub<1.0,>=0.34.0->transformers) (1.1.10)\n",
            "Requirement already satisfied: charset_normalizer<4,>=2 in /usr/local/lib/python3.12/dist-packages (from requests->transformers) (3.4.3)\n",
            "Requirement already satisfied: idna<4,>=2.5 in /usr/local/lib/python3.12/dist-packages (from requests->transformers) (3.10)\n",
            "Requirement already satisfied: urllib3<3,>=1.21.1 in /usr/local/lib/python3.12/dist-packages (from requests->transformers) (2.5.0)\n",
            "Requirement already satisfied: certifi>=2017.4.17 in /usr/local/lib/python3.12/dist-packages (from requests->transformers) (2025.8.3)\n",
            "Requirement already satisfied: python-dateutil>=2.8.2 in /usr/local/lib/python3.12/dist-packages (from pandas->datasets) (2.9.0.post0)\n",
            "Requirement already satisfied: pytz>=2020.1 in /usr/local/lib/python3.12/dist-packages (from pandas->datasets) (2025.2)\n",
            "Requirement already satisfied: tzdata>=2022.7 in /usr/local/lib/python3.12/dist-packages (from pandas->datasets) (2025.2)\n",
            "Requirement already satisfied: aiohappyeyeballs>=2.5.0 in /usr/local/lib/python3.12/dist-packages (from aiohttp!=4.0.0a0,!=4.0.0a1->fsspec[http]<=2025.3.0,>=2023.1.0->datasets) (2.6.1)\n",
            "Requirement already satisfied: aiosignal>=1.4.0 in /usr/local/lib/python3.12/dist-packages (from aiohttp!=4.0.0a0,!=4.0.0a1->fsspec[http]<=2025.3.0,>=2023.1.0->datasets) (1.4.0)\n",
            "Requirement already satisfied: attrs>=17.3.0 in /usr/local/lib/python3.12/dist-packages (from aiohttp!=4.0.0a0,!=4.0.0a1->fsspec[http]<=2025.3.0,>=2023.1.0->datasets) (25.3.0)\n",
            "Requirement already satisfied: frozenlist>=1.1.1 in /usr/local/lib/python3.12/dist-packages (from aiohttp!=4.0.0a0,!=4.0.0a1->fsspec[http]<=2025.3.0,>=2023.1.0->datasets) (1.7.0)\n",
            "Requirement already satisfied: multidict<7.0,>=4.5 in /usr/local/lib/python3.12/dist-packages (from aiohttp!=4.0.0a0,!=4.0.0a1->fsspec[http]<=2025.3.0,>=2023.1.0->datasets) (6.6.4)\n",
            "Requirement already satisfied: propcache>=0.2.0 in /usr/local/lib/python3.12/dist-packages (from aiohttp!=4.0.0a0,!=4.0.0a1->fsspec[http]<=2025.3.0,>=2023.1.0->datasets) (0.3.2)\n",
            "Requirement already satisfied: yarl<2.0,>=1.17.0 in /usr/local/lib/python3.12/dist-packages (from aiohttp!=4.0.0a0,!=4.0.0a1->fsspec[http]<=2025.3.0,>=2023.1.0->datasets) (1.20.1)\n",
            "Requirement already satisfied: six>=1.5 in /usr/local/lib/python3.12/dist-packages (from python-dateutil>=2.8.2->pandas->datasets) (1.17.0)\n"
          ]
        }
      ]
    },
    {
      "cell_type": "markdown",
      "source": [
        "## Prepare Subset for Quick Training"
      ],
      "metadata": {
        "id": "828Ig5A0aANI"
      }
    },
    {
      "cell_type": "code",
      "source": [
        "import pandas as pd\n",
        "\n",
        "# Load spam + ham (already saved earlier)\n",
        "spam_file = \"/content/drive/MyDrive/spam.txt\"\n",
        "ham_file = \"/content/drive/MyDrive/ham.txt\"\n",
        "\n",
        "# Read into pandas\n",
        "spam = pd.read_csv(spam_file, names=[\"text\"])\n",
        "ham = pd.read_csv(ham_file, names=[\"text\"])\n",
        "\n",
        "# Sample smaller subset for training (2K spam + 2K ham)\n",
        "spam_sample = spam.sample(n=2000, random_state=42) if len(spam) > 2000 else spam\n",
        "ham_sample = ham.sample(n=2000, random_state=42) if len(ham) > 2000 else ham\n",
        "\n",
        "# Merge + add label tokens <SPAM>/<HAM>\n",
        "spam_sample[\"text\"] = \"<SPAM> \" + spam_sample[\"text\"].astype(str)\n",
        "ham_sample[\"text\"] = \"<HAM> \" + ham_sample[\"text\"].astype(str)\n",
        "\n",
        "subset = pd.concat([spam_sample, ham_sample])\n",
        "subset.to_csv(\"subset_emails.txt\", index=False, header=False)\n",
        "\n",
        "print(\" Training subset ready with\", len(subset), \"emails\")\n"
      ],
      "metadata": {
        "id": "ouFkg0K1Y7H_",
        "colab": {
          "base_uri": "https://localhost:8080/"
        },
        "outputId": "c6355afd-7aa8-4412-ff5a-c2b391a10bcb"
      },
      "execution_count": 8,
      "outputs": [
        {
          "output_type": "stream",
          "name": "stdout",
          "text": [
            " Training subset ready with 4000 emails\n"
          ]
        }
      ]
    },
    {
      "cell_type": "markdown",
      "source": [
        "## Training"
      ],
      "metadata": {
        "id": "KAjFXKPDbzQJ"
      }
    },
    {
      "cell_type": "code",
      "source": [
        "from transformers import GPT2Tokenizer, GPT2LMHeadModel, Trainer, TrainingArguments, DataCollatorForLanguageModeling\n",
        "from datasets import load_dataset\n",
        "\n",
        "# Load GPT-2 tokenizer + model\n",
        "model_name = \"gpt2-medium\"\n",
        "tokenizer = GPT2Tokenizer.from_pretrained(model_name)\n",
        "tokenizer.pad_token = tokenizer.eos_token\n",
        "\n",
        "model = GPT2LMHeadModel.from_pretrained(model_name)\n",
        "\n",
        "\n",
        "\n",
        "\n"
      ],
      "metadata": {
        "id": "kqZIVOHtZE7N",
        "colab": {
          "base_uri": "https://localhost:8080/",
          "height": 350,
          "referenced_widgets": [
            "96e8218572eb4bb3bacde0fbd6e7d168",
            "5ca97d211bd243478bc81b4c6561f088",
            "7a9255b53f7e41b4a23f4ddffa3f915f",
            "160c813e9fd940e2af279a80199ef2f5",
            "5d24f60f154c42718caf3453ce042ce3",
            "4ef2ae83dcba4008b32f662ccf0e14c1",
            "a002e92d880d46f197d2955a8d36fd78",
            "173591244ee24e81b9c1d59b90b0a2ea",
            "07d0995d51ee4869b1b55537a624bc01",
            "9bb93d0abd934649afdd9c061d5f33db",
            "7b74fab690b24f27a6bf8cbe1195e95e",
            "99c3898df762451392430412bc274714",
            "798f0ea3a9314f99a9c10927e737ba69",
            "bacc07a03d3440e4817213aa12da5fce",
            "7ebdf07738ed4233ac27d69c3a9ccb45",
            "cc24f340a267402b9114ca65934edce7",
            "213b46298823404cbdb1bfd5da3fa80f",
            "c91746e5c11641f385588cd75dc9f9a0",
            "f685da19b7ae4a23b445566f1a46e9c4",
            "b6dc59e818554ff38ff0263f95e8e962",
            "3c77cf2e5b3d48b4acf79f9a5d7a22dd",
            "7c267725d83e4338b6982cc441ed9df0",
            "ab377274e16747ebb6034a40186f0134",
            "d071506adc9b40588c5ca5ca397b3228",
            "ab673feacdea4c128f7810cd31b978e9",
            "a8e77ee0e02e411a9213dd9c3204718f",
            "9e650b109acd4a26ada634ff5491108d",
            "024e5c299bbe4a79bef8790cde441f89",
            "3f17bb8e297b4dc291329c0c77169117",
            "fbbb40df6e9143729a16ad217e635d96",
            "efcf54881f34422f8ad36bcf3823a883",
            "83e42097e6c54e4599792aa775ccda0d",
            "b5a798cd7d5148cb99aaee1783a0f798",
            "5793b638734646da9916f17606de6b8c",
            "1504c12d52fa458aa0594d5227c4b4cc",
            "727ef3832e0849ac9d89482082514021",
            "0c340129028f4b4da4829fa997b929e0",
            "c8f2a610c67648e3a89ff6ea5b0467ad",
            "e6f71c92729c4783887d27b768e2457f",
            "1ea7254559154eb2acf25b29eff36d51",
            "a5536b6e702a41aa93c34fc86ed1f46c",
            "82e0bf168a2f40169a8c25139c399b56",
            "3a2a876b6e394bd7825cfbf68b92a0c2",
            "c2985a2e05284a9493cd6c9930700b78",
            "f9151f2d453e4fb5936534f45b167463",
            "9f9fea495eb44ec9928801edb561222d",
            "a0f3320072a540dda105953894740dbf",
            "f97889749db14497a91c5bd738978350",
            "5b217ae509494c89b13097a113585895",
            "172fa8e50823499bb4a6dd5a19b44190",
            "866e21cd5341481d9235ad8037f66adf",
            "5e1de82bf1b345cd8b4223008fe7cb79",
            "e6713e57099c4139ba37e270a9303784",
            "466ae758df054066964b13af9a90b136",
            "94c6b1bf63074787b89fbabe57011d2a",
            "2d61e807b95e489ba90d42e5500ac5ba",
            "6e3b7452a7af46b39e98c0bc52955fa8",
            "18ee4b6836a844a2be53cf7a808a7be5",
            "018f5202509a447e9ffc9403e3a1f197",
            "03e3a750e3294a5e93c938c5174b5ceb",
            "7456361dfaa8439897c20e1b619531b5",
            "075d030e500e4bbf8021be8dfb0a7ffb",
            "ca93361ea4cf4e3b8ab982ebc858cc8e",
            "99c39949ada4446cb4d23fc46d0ed86a",
            "6ded8e10cc2644bfa1dd90741376ef2c",
            "15f2344285284bb78da18e9855dc0b22",
            "4d9fe23fe2c34ec5a5df9b97afdbbfc3",
            "69a46e5b8ce14d0cb13a5a97fbc95969",
            "393793ad197a45a18a817032b0f09102",
            "2124cfa9f2b34ddb8c0c677cd93c5e4f",
            "0626eced4581405cbba53070710e35be",
            "ad1f2611d9c04085a5f32270569a4ddf",
            "dad6f02c162849b29c8a75c0a8aabcf6",
            "60c328d01cbf4710935020d3a450b0bc",
            "fedb01c821fd4b2295215b673402b149",
            "f760e9dee5cc475bb5ee5f0d674b3511",
            "a5777747dbf148a2ac333fd147beee76"
          ]
        },
        "outputId": "513014e7-587c-43a6-ceb7-b6d4f75c2e87"
      },
      "execution_count": 9,
      "outputs": [
        {
          "output_type": "stream",
          "name": "stderr",
          "text": [
            "/usr/local/lib/python3.12/dist-packages/huggingface_hub/utils/_auth.py:94: UserWarning: \n",
            "The secret `HF_TOKEN` does not exist in your Colab secrets.\n",
            "To authenticate with the Hugging Face Hub, create a token in your settings tab (https://huggingface.co/settings/tokens), set it as secret in your Google Colab and restart your session.\n",
            "You will be able to reuse this secret in all of your notebooks.\n",
            "Please note that authentication is recommended but still optional to access public models or datasets.\n",
            "  warnings.warn(\n"
          ]
        },
        {
          "output_type": "display_data",
          "data": {
            "text/plain": [
              "tokenizer_config.json:   0%|          | 0.00/26.0 [00:00<?, ?B/s]"
            ],
            "application/vnd.jupyter.widget-view+json": {
              "version_major": 2,
              "version_minor": 0,
              "model_id": "96e8218572eb4bb3bacde0fbd6e7d168"
            }
          },
          "metadata": {}
        },
        {
          "output_type": "display_data",
          "data": {
            "text/plain": [
              "vocab.json:   0%|          | 0.00/1.04M [00:00<?, ?B/s]"
            ],
            "application/vnd.jupyter.widget-view+json": {
              "version_major": 2,
              "version_minor": 0,
              "model_id": "99c3898df762451392430412bc274714"
            }
          },
          "metadata": {}
        },
        {
          "output_type": "display_data",
          "data": {
            "text/plain": [
              "merges.txt:   0%|          | 0.00/456k [00:00<?, ?B/s]"
            ],
            "application/vnd.jupyter.widget-view+json": {
              "version_major": 2,
              "version_minor": 0,
              "model_id": "ab377274e16747ebb6034a40186f0134"
            }
          },
          "metadata": {}
        },
        {
          "output_type": "display_data",
          "data": {
            "text/plain": [
              "tokenizer.json:   0%|          | 0.00/1.36M [00:00<?, ?B/s]"
            ],
            "application/vnd.jupyter.widget-view+json": {
              "version_major": 2,
              "version_minor": 0,
              "model_id": "5793b638734646da9916f17606de6b8c"
            }
          },
          "metadata": {}
        },
        {
          "output_type": "display_data",
          "data": {
            "text/plain": [
              "config.json:   0%|          | 0.00/718 [00:00<?, ?B/s]"
            ],
            "application/vnd.jupyter.widget-view+json": {
              "version_major": 2,
              "version_minor": 0,
              "model_id": "f9151f2d453e4fb5936534f45b167463"
            }
          },
          "metadata": {}
        },
        {
          "output_type": "display_data",
          "data": {
            "text/plain": [
              "model.safetensors:   0%|          | 0.00/1.52G [00:00<?, ?B/s]"
            ],
            "application/vnd.jupyter.widget-view+json": {
              "version_major": 2,
              "version_minor": 0,
              "model_id": "2d61e807b95e489ba90d42e5500ac5ba"
            }
          },
          "metadata": {}
        },
        {
          "output_type": "display_data",
          "data": {
            "text/plain": [
              "generation_config.json:   0%|          | 0.00/124 [00:00<?, ?B/s]"
            ],
            "application/vnd.jupyter.widget-view+json": {
              "version_major": 2,
              "version_minor": 0,
              "model_id": "4d9fe23fe2c34ec5a5df9b97afdbbfc3"
            }
          },
          "metadata": {}
        }
      ]
    },
    {
      "cell_type": "markdown",
      "source": [
        "## Load dataset for LM"
      ],
      "metadata": {
        "id": "tWLvBzvSvevC"
      }
    },
    {
      "cell_type": "code",
      "source": [
        "\n",
        "dataset = load_dataset(\"text\", data_files={\"train\": \"subset_emails.txt\"})\n",
        "\n",
        "def tokenize_function(examples):\n",
        "    return tokenizer(examples[\"text\"], truncation=True, padding=\"max_length\", max_length=128)\n",
        "\n",
        "tokenized = dataset.map(tokenize_function, batched=True, remove_columns=[\"text\"])"
      ],
      "metadata": {
        "id": "tELDcryVkWqO",
        "colab": {
          "base_uri": "https://localhost:8080/",
          "height": 81,
          "referenced_widgets": [
            "4c1c7eed40ea429b91e0e3a5f8c71422",
            "fce60fb4441f45af970f1cd8cf17d4eb",
            "a8bfbdbd8b12486d98e22b9fde439076",
            "57b426ea21a643a887e6a18906df72d8",
            "357097c30c8e41e5bb5964577f3970a7",
            "4b55f094b1ef4101a9a02295b4c2cb1d",
            "093ee83453784a769b4ae30b01da7657",
            "d10809c9042d450abb06f999cd427068",
            "0c0c214b3ab44aafa01cd25188301ad2",
            "5dabbc82604c4adca354dace8f4897d0",
            "379d3b3fa7be41679e788a159cb49b7e",
            "d7fc489c07ef4f2882d4ca3ece1ff525",
            "4daa5099db404c7aa19c31b484a2c18b",
            "d0a76f8b2f5f44e096b667cc1e3dab28",
            "e13cf35e2a154e98b21044f17591cf68",
            "88eb328c5cc744c6bed3dbf15f8e9dbc",
            "a4370ad93bc94dd09a21a3ce0f53efc7",
            "bef25630dbfa474d88b778610ad5d771",
            "bfbc6632d1a64caa9d0c0b4a72c52df4",
            "c07a94e62ebb4933adc9983834f44e3e",
            "17e66c7d44c94b78b6acd5058ae278a3",
            "a951b416a02f4922a2fd5ace1f68f358"
          ]
        },
        "outputId": "2b6634f0-e6b6-4b6c-bcec-ebfec9a62f3d"
      },
      "execution_count": 10,
      "outputs": [
        {
          "output_type": "display_data",
          "data": {
            "text/plain": [
              "Generating train split: 0 examples [00:00, ? examples/s]"
            ],
            "application/vnd.jupyter.widget-view+json": {
              "version_major": 2,
              "version_minor": 0,
              "model_id": "4c1c7eed40ea429b91e0e3a5f8c71422"
            }
          },
          "metadata": {}
        },
        {
          "output_type": "display_data",
          "data": {
            "text/plain": [
              "Map:   0%|          | 0/4000 [00:00<?, ? examples/s]"
            ],
            "application/vnd.jupyter.widget-view+json": {
              "version_major": 2,
              "version_minor": 0,
              "model_id": "d7fc489c07ef4f2882d4ca3ece1ff525"
            }
          },
          "metadata": {}
        }
      ]
    },
    {
      "cell_type": "markdown",
      "source": [
        "## Data collator"
      ],
      "metadata": {
        "id": "4LF4nHAJviyJ"
      }
    },
    {
      "cell_type": "code",
      "source": [
        "\n",
        "data_collator = DataCollatorForLanguageModeling(tokenizer=tokenizer, mlm=False)\n"
      ],
      "metadata": {
        "id": "2yX01QSokaJb"
      },
      "execution_count": 11,
      "outputs": []
    },
    {
      "cell_type": "markdown",
      "source": [
        "## Training"
      ],
      "metadata": {
        "id": "1WO2LyJYvllx"
      }
    },
    {
      "cell_type": "code",
      "source": [
        "\n",
        "\n",
        "training_args = TrainingArguments(\n",
        "    output_dir=\"./gen_model\",\n",
        "    overwrite_output_dir=True,\n",
        "    num_train_epochs=1,\n",
        "    per_device_train_batch_size=4,\n",
        "    save_steps=500,\n",
        "    logging_steps=100,\n",
        "    fp16=True,\n",
        ")\n",
        "\n",
        "trainer = Trainer(\n",
        "    model=model,\n",
        "    args=training_args,\n",
        "    train_dataset=tokenized[\"train\"],\n",
        "    data_collator=data_collator,\n",
        ")\n",
        "\n",
        "trainer.train()"
      ],
      "metadata": {
        "id": "Gjj_NJXIkdsP",
        "colab": {
          "base_uri": "https://localhost:8080/",
          "height": 418
        },
        "outputId": "ec447d5e-0ddb-478c-be17-0b0a0f52b0cb"
      },
      "execution_count": null,
      "outputs": [
        {
          "output_type": "stream",
          "name": "stderr",
          "text": [
            "/usr/local/lib/python3.12/dist-packages/notebook/notebookapp.py:191: SyntaxWarning: invalid escape sequence '\\/'\n",
            "  | |_| | '_ \\/ _` / _` |  _/ -_)\n"
          ]
        },
        {
          "output_type": "display_data",
          "data": {
            "text/plain": [
              "<IPython.core.display.Javascript object>"
            ],
            "application/javascript": [
              "\n",
              "        window._wandbApiKey = new Promise((resolve, reject) => {\n",
              "            function loadScript(url) {\n",
              "            return new Promise(function(resolve, reject) {\n",
              "                let newScript = document.createElement(\"script\");\n",
              "                newScript.onerror = reject;\n",
              "                newScript.onload = resolve;\n",
              "                document.body.appendChild(newScript);\n",
              "                newScript.src = url;\n",
              "            });\n",
              "            }\n",
              "            loadScript(\"https://cdn.jsdelivr.net/npm/postmate/build/postmate.min.js\").then(() => {\n",
              "            const iframe = document.createElement('iframe')\n",
              "            iframe.style.cssText = \"width:0;height:0;border:none\"\n",
              "            document.body.appendChild(iframe)\n",
              "            const handshake = new Postmate({\n",
              "                container: iframe,\n",
              "                url: 'https://wandb.ai/authorize'\n",
              "            });\n",
              "            const timeout = setTimeout(() => reject(\"Couldn't auto authenticate\"), 5000)\n",
              "            handshake.then(function(child) {\n",
              "                child.on('authorize', data => {\n",
              "                    clearTimeout(timeout)\n",
              "                    resolve(data)\n",
              "                });\n",
              "            });\n",
              "            })\n",
              "        });\n",
              "    "
            ]
          },
          "metadata": {}
        },
        {
          "output_type": "stream",
          "name": "stderr",
          "text": [
            "\u001b[34m\u001b[1mwandb\u001b[0m: Logging into wandb.ai. (Learn how to deploy a W&B server locally: https://wandb.me/wandb-server)\n",
            "\u001b[34m\u001b[1mwandb\u001b[0m: You can find your API key in your browser here: https://wandb.ai/authorize?ref=models\n",
            "wandb: Paste an API key from your profile and hit enter:"
          ]
        },
        {
          "name": "stdout",
          "output_type": "stream",
          "text": [
            " ··········\n"
          ]
        },
        {
          "output_type": "stream",
          "name": "stderr",
          "text": [
            "\u001b[34m\u001b[1mwandb\u001b[0m: \u001b[33mWARNING\u001b[0m If you're specifying your api key in code, ensure this code is not shared publicly.\n",
            "\u001b[34m\u001b[1mwandb\u001b[0m: \u001b[33mWARNING\u001b[0m Consider setting the WANDB_API_KEY environment variable, or running `wandb login` from the command line.\n",
            "\u001b[34m\u001b[1mwandb\u001b[0m: No netrc file found, creating one.\n",
            "\u001b[34m\u001b[1mwandb\u001b[0m: Appending key for api.wandb.ai to your netrc file: /root/.netrc\n",
            "\u001b[34m\u001b[1mwandb\u001b[0m: Currently logged in as: \u001b[33mvarshavanganuru7\u001b[0m (\u001b[33mvarshavanganuru7-student\u001b[0m) to \u001b[32mhttps://api.wandb.ai\u001b[0m. Use \u001b[1m`wandb login --relogin`\u001b[0m to force relogin\n"
          ]
        },
        {
          "output_type": "display_data",
          "data": {
            "text/plain": [
              "<IPython.core.display.HTML object>"
            ],
            "text/html": []
          },
          "metadata": {}
        },
        {
          "output_type": "display_data",
          "data": {
            "text/plain": [
              "<IPython.core.display.HTML object>"
            ],
            "text/html": [
              "Tracking run with wandb version 0.21.4"
            ]
          },
          "metadata": {}
        },
        {
          "output_type": "display_data",
          "data": {
            "text/plain": [
              "<IPython.core.display.HTML object>"
            ],
            "text/html": [
              "Run data is saved locally in <code>/content/wandb/run-20251002_153147-50ehym30</code>"
            ]
          },
          "metadata": {}
        },
        {
          "output_type": "display_data",
          "data": {
            "text/plain": [
              "<IPython.core.display.HTML object>"
            ],
            "text/html": [
              "Syncing run <strong><a href='https://wandb.ai/varshavanganuru7-student/huggingface/runs/50ehym30' target=\"_blank\">ruby-armadillo-19</a></strong> to <a href='https://wandb.ai/varshavanganuru7-student/huggingface' target=\"_blank\">Weights & Biases</a> (<a href='https://wandb.me/developer-guide' target=\"_blank\">docs</a>)<br>"
            ]
          },
          "metadata": {}
        },
        {
          "output_type": "display_data",
          "data": {
            "text/plain": [
              "<IPython.core.display.HTML object>"
            ],
            "text/html": [
              " View project at <a href='https://wandb.ai/varshavanganuru7-student/huggingface' target=\"_blank\">https://wandb.ai/varshavanganuru7-student/huggingface</a>"
            ]
          },
          "metadata": {}
        },
        {
          "output_type": "display_data",
          "data": {
            "text/plain": [
              "<IPython.core.display.HTML object>"
            ],
            "text/html": [
              " View run at <a href='https://wandb.ai/varshavanganuru7-student/huggingface/runs/50ehym30' target=\"_blank\">https://wandb.ai/varshavanganuru7-student/huggingface/runs/50ehym30</a>"
            ]
          },
          "metadata": {}
        },
        {
          "output_type": "stream",
          "name": "stderr",
          "text": [
            "/usr/local/lib/python3.12/dist-packages/torch/utils/data/dataloader.py:666: UserWarning: 'pin_memory' argument is set as true but no accelerator is found, then device pinned memory won't be used.\n",
            "  warnings.warn(warn_msg)\n",
            "`loss_type=None` was set in the config but it is unrecognized. Using the default loss: `ForCausalLMLoss`.\n"
          ]
        },
        {
          "output_type": "display_data",
          "data": {
            "text/plain": [
              "<IPython.core.display.HTML object>"
            ],
            "text/html": [
              "\n",
              "    <div>\n",
              "      \n",
              "      <progress value='29' max='1000' style='width:300px; height:20px; vertical-align: middle;'></progress>\n",
              "      [  29/1000 10:12 < 6:06:58, 0.04 it/s, Epoch 0.03/1]\n",
              "    </div>\n",
              "    <table border=\"1\" class=\"dataframe\">\n",
              "  <thead>\n",
              " <tr style=\"text-align: left;\">\n",
              "      <th>Step</th>\n",
              "      <th>Training Loss</th>\n",
              "    </tr>\n",
              "  </thead>\n",
              "  <tbody>\n",
              "  </tbody>\n",
              "</table><p>"
            ]
          },
          "metadata": {}
        }
      ]
    },
    {
      "cell_type": "markdown",
      "source": [
        "# 4.Generate synthetic spam/ham"
      ],
      "metadata": {
        "id": "gkp48r67aTot"
      }
    },
    {
      "cell_type": "code",
      "source": [
        "# Generate synthetic spam & ham emails after fine-tuning\n",
        "\n",
        "def generate_emails(prompt, n=5, max_length=80):\n",
        "    inputs = tokenizer(prompt, return_tensors=\"pt\").input_ids.to(model.device)\n",
        "    outputs = model.generate(\n",
        "        inputs,\n",
        "        max_length=max_length,\n",
        "        num_return_sequences=n,\n",
        "        temperature=0.7,\n",
        "        top_p=0.9,\n",
        "        do_sample=True,\n",
        "        pad_token_id=tokenizer.eos_token_id\n",
        "    )\n",
        "    return [tokenizer.decode(o, skip_special_tokens=True) for o in outputs]\n",
        "\n",
        "# Generate synthetic samples\n",
        "synthetic_spam = generate_emails(\"<SPAM>\", n=50)\n",
        "synthetic_ham  = generate_emails(\"<HAM>\", n=50)\n",
        "\n",
        "print(\"Example synthetic spam:\\n\", synthetic_spam[:3])\n",
        "print(\"\\nExample synthetic ham:\\n\", synthetic_ham[:3])\n",
        "\n",
        "# Build augmented dataset\n",
        "import pandas as pd\n",
        "\n",
        "# Load your real dataset again\n",
        "real_df = pd.concat([spam, ham], ignore_index=True)\n",
        "\n",
        "# Synthetic dataframe\n",
        "synthetic_df = pd.DataFrame({\n",
        "    \"text\": synthetic_spam + synthetic_ham,\n",
        "    \"label\": [\"spam\"]*len(synthetic_spam) + [\"ham\"]*len(synthetic_ham)\n",
        "})\n",
        "\n",
        "# Final augmented dataset\n",
        "augmented_df = pd.concat([real_df, synthetic_df], ignore_index=True)\n",
        "augmented_df.to_csv(\"augmented_emails.csv\", index=False)\n",
        "\n",
        "print(\" Augmented dataset saved with\", len(augmented_df), \"samples\")\n"
      ],
      "metadata": {
        "id": "fs1VVGvhsV_5"
      },
      "execution_count": null,
      "outputs": []
    },
    {
      "cell_type": "markdown",
      "source": [
        "# **5.Preprocessing**"
      ],
      "metadata": {
        "id": "QOTSrHnPvrQD"
      }
    },
    {
      "cell_type": "code",
      "source": [
        "import re\n",
        "import pandas as pd\n",
        "\n",
        "# -------------------------------\n",
        "# Function to clean text\n",
        "# -------------------------------\n",
        "def clean_text(text):\n",
        "    if not isinstance(text, str):\n",
        "        return \"\"\n",
        "    text = re.sub(r\"<SPAM>|<HAM>\", \"\", text)       # remove special tokens\n",
        "    text = re.sub(r\"http\\S+|www\\S+\", \"\", text)     # remove URLs\n",
        "    text = re.sub(r\"\\S+@\\S+\", \"\", text)            # remove email addresses\n",
        "    text = re.sub(r\"[^a-zA-Z0-9\\s]\", \" \", text)   # keep letters + numbers\n",
        "    text = re.sub(r\"\\s+\", \" \", text).strip()      # normalize spaces\n",
        "    return text.lower()\n",
        "\n",
        "# -------------------------------\n",
        "# Load augmented dataset\n",
        "# -------------------------------\n",
        "try:\n",
        "    augmented_df = pd.read_csv(\"augmented_emails.csv\")\n",
        "except FileNotFoundError:\n",
        "    print(\"Error: 'augmented_emails.csv' not found. Please run synthetic generation first.\")\n",
        "    exit()\n",
        "\n",
        "# -------------------------------\n",
        "# Apply cleaning to text\n",
        "# -------------------------------\n",
        "augmented_df['cleaned_text'] = augmented_df['text'].astype(str).apply(clean_text)\n",
        "\n",
        "# Keep only cleaned text and label\n",
        "final_cleaned_augmented_df = augmented_df[['cleaned_text', 'label']]\n",
        "\n",
        "# -------------------------------\n",
        "# Save final cleaned augmented dataset\n",
        "# -------------------------------\n",
        "final_cleaned_augmented_df.to_csv(\"augmented_emails_cleaned.csv\", index=False)\n",
        "print(\" Final cleaned augmented dataset saved as 'augmented_emails_cleaned.csv' with\", len(final_cleaned_augmented_df), \"samples\")\n"
      ],
      "metadata": {
        "id": "iGO2NLRQLTeq"
      },
      "execution_count": null,
      "outputs": []
    },
    {
      "cell_type": "markdown",
      "source": [
        "## Load cleaned augmented dataset"
      ],
      "metadata": {
        "id": "09cZz5ccwRP9"
      }
    },
    {
      "cell_type": "code",
      "source": [
        "\n",
        "import pandas as pd\n",
        "\n",
        "# Load the final cleaned augmented dataset\n",
        "try:\n",
        "    df = pd.read_csv(\"augmented_emails_cleaned.csv\")\n",
        "except FileNotFoundError:\n",
        "    print(\"Error: 'augmented_emails_cleaned.csv' not found. Please run the previous steps first.\")\n",
        "    exit()\n",
        "\n",
        "\n",
        "\n",
        "from google.colab import files\n",
        "\n",
        "# Download the cleaned augmented dataset\n",
        "files.download(\"augmented_emails_cleaned.csv\")\n"
      ],
      "metadata": {
        "id": "U8sLWxY_tViO"
      },
      "execution_count": null,
      "outputs": []
    },
    {
      "cell_type": "markdown",
      "source": [
        "# Quick overview"
      ],
      "metadata": {
        "id": "lt0sf3epOZEj"
      }
    },
    {
      "cell_type": "code",
      "source": [
        "\n",
        "print(\" Dataset loaded successfully\")\n",
        "print(\"Shape:\", df.shape)\n",
        "print(\"\\nClass distribution:\")\n",
        "print(df['label'].value_counts())\n"
      ],
      "metadata": {
        "id": "jPeAasAwOXVt"
      },
      "execution_count": null,
      "outputs": []
    },
    {
      "cell_type": "markdown",
      "source": [
        "# Display first 5 rows"
      ],
      "metadata": {
        "id": "LT4ri79xOcaO"
      }
    },
    {
      "cell_type": "code",
      "source": [
        "\n",
        "df.head()"
      ],
      "metadata": {
        "id": "ubiRTwkoOart"
      },
      "execution_count": null,
      "outputs": []
    },
    {
      "cell_type": "markdown",
      "source": [
        "## Quick overview"
      ],
      "metadata": {
        "id": "siipo4gwulSn"
      }
    },
    {
      "cell_type": "markdown",
      "source": [
        "# text length distribution"
      ],
      "metadata": {
        "id": "2qDk2sIavAaj"
      }
    },
    {
      "cell_type": "code",
      "source": [
        "\n",
        "print(\"\\nLabel distribution:\")\n",
        "print(augmented_df['label'].value_counts())"
      ],
      "metadata": {
        "id": "2oZEuxPbuoOR"
      },
      "execution_count": null,
      "outputs": []
    },
    {
      "cell_type": "markdown",
      "source": [
        "# Text length analysis"
      ],
      "metadata": {
        "id": "H5QCRG0Du4Dk"
      }
    },
    {
      "cell_type": "code",
      "source": [
        "\n",
        "augmented_df['text_length'] = augmented_df['cleaned_text'].astype(str).fillna('').apply(len)\n",
        "print(\"\\nText length stats:\")\n",
        "print(augmented_df['text_length'].describe())\n"
      ],
      "metadata": {
        "id": "m9R2nDOtu1ML"
      },
      "execution_count": null,
      "outputs": []
    },
    {
      "cell_type": "markdown",
      "source": [
        "# Most common words (quick bag-of-words check)"
      ],
      "metadata": {
        "id": "1maNXBGsvTcR"
      }
    },
    {
      "cell_type": "code",
      "source": [
        "\n",
        "# Ensure the column is string type and fill NaNs before joining\n",
        "all_words = \" \".join(augmented_df['cleaned_text'].astype(str).fillna('')).split()\n",
        "word_freq = Counter(all_words)\n",
        "print(\"\\nTop 20 most common words:\")\n",
        "print(word_freq.most_common(20))"
      ],
      "metadata": {
        "id": "sRYq2RbBvGbk"
      },
      "execution_count": null,
      "outputs": []
    },
    {
      "cell_type": "markdown",
      "source": [
        "# **6.Exploratory Data Analysis**"
      ],
      "metadata": {
        "id": "KSQ58qpbF2hF"
      }
    },
    {
      "cell_type": "markdown",
      "source": [
        "\n",
        "# Class distribution"
      ],
      "metadata": {
        "id": "2UGgBqtluptn"
      }
    },
    {
      "cell_type": "code",
      "source": [
        "import seaborn as sns\n",
        "import matplotlib.pyplot as plt\n",
        "\n",
        "plt.figure(figsize=(6,4))\n",
        "sns.countplot(data=df, x='label', palette='pastel')\n",
        "plt.title(\"Spam vs Ham Distribution\")\n",
        "plt.xlabel(\"Label\")\n",
        "plt.ylabel(\"Count\")\n",
        "plt.show()\n"
      ],
      "metadata": {
        "id": "7HQBe4v2ut6c"
      },
      "execution_count": null,
      "outputs": []
    },
    {
      "cell_type": "markdown",
      "source": [
        "# Email Length Analysis"
      ],
      "metadata": {
        "id": "gr0ENdR74Lau"
      }
    },
    {
      "cell_type": "code",
      "source": [
        "df['num_words'] = df['cleaned_text'].astype(str).apply(lambda x: len(x.split()))\n",
        "df['num_chars'] = df['cleaned_text'].astype(str).apply(len)\n",
        "\n",
        "plt.figure(figsize=(12,5))\n",
        "sns.histplot(data=df, x='num_words', hue='label', bins=50, kde=True, palette='Set2')\n",
        "plt.title(\"Distribution of Email Length (Words) by Label\")\n",
        "plt.show()\n",
        "\n",
        "plt.figure(figsize=(12,5))\n",
        "sns.histplot(data=df, x='num_chars', hue='label', bins=50, kde=True, palette='Set1')\n",
        "plt.title(\"Distribution of Email Length (Characters) by Label\")\n",
        "plt.show()"
      ],
      "metadata": {
        "id": "yuugAcVx4NMu"
      },
      "execution_count": null,
      "outputs": []
    },
    {
      "cell_type": "markdown",
      "source": [
        "# Plot class balance"
      ],
      "metadata": {
        "id": "eCyXlUriuy4i"
      }
    },
    {
      "cell_type": "code",
      "source": [
        "\n",
        "plt.hist(augmented_df['text_length'], bins=50, color='skyblue', edgecolor='black')\n",
        "plt.title(\"Email Text Length Distribution\")\n",
        "plt.xlabel(\"Length (characters)\")\n",
        "plt.ylabel(\"Frequency\")\n",
        "plt.show()\n"
      ],
      "metadata": {
        "id": "ahoOvKnIu9pa"
      },
      "execution_count": null,
      "outputs": []
    },
    {
      "cell_type": "markdown",
      "source": [
        "# word cloud for spam vs ham"
      ],
      "metadata": {
        "id": "EDZKLcMAubET"
      }
    },
    {
      "cell_type": "code",
      "source": [
        "\n",
        "from wordcloud import WordCloud\n",
        "\n",
        "# Separate spam and ham\n",
        "spam_text = \" \".join(augmented_df[augmented_df['label']==\"spam\"]['cleaned_text'])\n",
        "ham_text  = \" \".join(augmented_df[augmented_df['label']==\"ham\"]['cleaned_text'])\n",
        "\n",
        "# Generate word clouds\n",
        "spam_wc = WordCloud(width=800, height=400, background_color=\"white\", max_words=200).generate(spam_text)\n",
        "ham_wc  = WordCloud(width=800, height=400, background_color=\"white\", max_words=200).generate(ham_text)\n",
        "\n",
        "# Plot side by side\n",
        "fig, axes = plt.subplots(1, 2, figsize=(15, 7))\n",
        "axes[0].imshow(spam_wc, interpolation=\"bilinear\")\n",
        "axes[0].set_title(\"Spam Word Cloud\")\n",
        "axes[0].axis(\"off\")\n",
        "\n",
        "axes[1].imshow(ham_wc, interpolation=\"bilinear\")\n",
        "axes[1].set_title(\"Ham Word Cloud\")\n",
        "axes[1].axis(\"off\")\n",
        "\n",
        "plt.show()\n"
      ],
      "metadata": {
        "id": "02PoJDCmtxWf"
      },
      "execution_count": null,
      "outputs": []
    },
    {
      "cell_type": "markdown",
      "source": [
        "# Correlation / Co-occurrence Heatmap"
      ],
      "metadata": {
        "id": "aaHSo8EQ4ksH"
      }
    },
    {
      "cell_type": "code",
      "source": [
        "import numpy as np\n",
        "import pandas as pd\n",
        "import matplotlib.pyplot as plt\n",
        "import seaborn as sns\n",
        "from sklearn.feature_extraction.text import TfidfVectorizer\n",
        "\n",
        "# Re-defining tfidf and X_tfidf from previous steps\n",
        "tfidf = TfidfVectorizer(\n",
        "    max_features=5000,   # limit vocabulary size (tune if needed)\n",
        "    ngram_range=(1,2),   # unigrams + bigrams\n",
        "    stop_words='english' # remove common stopwords\n",
        ")\n",
        "# Assuming 'df' with 'cleaned_text' is available from previous steps\n",
        "# If not, you might need to load it or ensure the previous cell that loads it is run\n",
        "try:\n",
        "    # Attempt to use the existing 'df' and 'X' if they are in the environment\n",
        "    X = df['cleaned_text'].astype(str).fillna('missingtext').apply(lambda x: x if x.strip() != '' else 'missingtext')\n",
        "    tfidf.fit(X)\n",
        "    X_tfidf = tfidf.transform(X)\n",
        "except NameError:\n",
        "    print(\"Error: 'df' or 'X' not found. Please ensure the dataset is loaded and preprocessed.\")\n",
        "    exit()\n",
        "\n",
        "\n",
        "feature_names = tfidf.get_feature_names_out()\n",
        "tfidf_matrix = X_tfidf.toarray()\n",
        "\n",
        "\n",
        "top_features = np.array(feature_names)[np.argsort(np.mean(tfidf_matrix, axis=0))[-30:]]\n",
        "df_top = pd.DataFrame(tfidf_matrix[:, [np.where(feature_names==f)[0][0] for f in top_features]], columns=top_features)\n",
        "\n",
        "plt.figure(figsize=(12,10))\n",
        "sns.heatmap(df_top.corr(), annot=True, cmap='coolwarm')\n",
        "plt.title(\"Correlation Between Top TF-IDF Features\")\n",
        "plt.show()"
      ],
      "metadata": {
        "id": "4_myd_wZ4nyw"
      },
      "execution_count": null,
      "outputs": []
    },
    {
      "cell_type": "markdown",
      "source": [
        "# TF-IDF vectorization"
      ],
      "metadata": {
        "id": "IyBfyOxjwiyt"
      }
    },
    {
      "cell_type": "code",
      "source": [
        "import pandas as pd\n",
        "from sklearn.model_selection import train_test_split\n",
        "from sklearn.feature_extraction.text import TfidfVectorizer\n"
      ],
      "metadata": {
        "id": "8s0k8rcCuOQm"
      },
      "execution_count": null,
      "outputs": []
    },
    {
      "cell_type": "markdown",
      "source": [
        "## 1. Load cleaned augmented dataset"
      ],
      "metadata": {
        "id": "MwWFpLkB2lbL"
      }
    },
    {
      "cell_type": "code",
      "source": [
        "\n",
        "\n",
        "\n",
        "df = pd.read_csv(\"augmented_emails_cleaned.csv\")\n",
        "\n",
        "# Drop rows with missing labels\n",
        "df.dropna(subset=['label'], inplace=True)\n"
      ],
      "metadata": {
        "id": "ZXLnGoiX2i5I"
      },
      "execution_count": null,
      "outputs": []
    },
    {
      "cell_type": "markdown",
      "source": [
        "## 2. Prepare features (X) and labels (y)"
      ],
      "metadata": {
        "id": "dTBBzpcc2Nis"
      }
    },
    {
      "cell_type": "code",
      "source": [
        "\n",
        "\n",
        "\n",
        "X = df['cleaned_text'].astype(str)\n",
        "y = df['label']\n",
        "\n",
        "# Replace NaN or empty strings in text\n",
        "X = X.fillna('missingtext')  # Fill NaN\n",
        "X = X.apply(lambda x: x if x.strip() != '' else 'missingtext')  # Replace empty strings"
      ],
      "metadata": {
        "id": "Mf19HKsE2JVS"
      },
      "execution_count": null,
      "outputs": []
    },
    {
      "cell_type": "markdown",
      "source": [
        "\n",
        "## 3. TF-IDF Vectorization"
      ],
      "metadata": {
        "id": "czw_667O2Qxo"
      }
    },
    {
      "cell_type": "code",
      "source": [
        "tfidf = TfidfVectorizer(\n",
        "    max_features=5000,   # limit vocabulary size (tune if needed)\n",
        "    ngram_range=(1,2),   # unigrams + bigrams\n",
        "    stop_words='english' # remove common stopwords\n",
        ")\n",
        "\n",
        "X_tfidf = tfidf.fit_transform(X)\n",
        "print(\" TF-IDF matrix shape:\", X_tfidf.shape)"
      ],
      "metadata": {
        "id": "z8riA9kX2RL0"
      },
      "execution_count": null,
      "outputs": []
    },
    {
      "cell_type": "markdown",
      "source": [
        "## 4. Train-test split"
      ],
      "metadata": {
        "id": "vredaXRp2gKy"
      }
    },
    {
      "cell_type": "code",
      "source": [
        "\n",
        "\n",
        "\n",
        "X_train, X_test, y_train, y_test = train_test_split(\n",
        "    X_tfidf, y, test_size=0.2, random_state=42, stratify=y\n",
        ")\n",
        "\n",
        "print(\"Training set size:\", X_train.shape, \" Test set size:\", X_test.shape)\n"
      ],
      "metadata": {
        "id": "bjlbDobl2dY0"
      },
      "execution_count": null,
      "outputs": []
    },
    {
      "cell_type": "markdown",
      "source": [
        "# TF-IDF Feature Insights"
      ],
      "metadata": {
        "id": "4LEzASfn4d0n"
      }
    },
    {
      "cell_type": "code",
      "source": [
        "import numpy as np\n",
        "\n",
        "# Average TF-IDF scores per class\n",
        "tfidf_matrix = X_tfidf.toarray()\n",
        "labels = df['label'].values\n",
        "feature_names = tfidf.get_feature_names_out()\n",
        "\n",
        "spam_tfidf = tfidf_matrix[labels=='spam'].mean(axis=0)\n",
        "ham_tfidf = tfidf_matrix[labels=='ham'].mean(axis=0)\n",
        "\n",
        "top_spam_idx = np.argsort(spam_tfidf)[-20:]\n",
        "top_ham_idx = np.argsort(ham_tfidf)[-20:]\n",
        "\n",
        "plt.figure(figsize=(12,6))\n",
        "sns.barplot(x=spam_tfidf[top_spam_idx], y=np.array(feature_names)[top_spam_idx], palette='Reds_r')\n",
        "plt.title(\"Top 20 TF-IDF Features in Spam Emails\")\n",
        "plt.show()\n",
        "\n",
        "plt.figure(figsize=(12,6))\n",
        "sns.barplot(x=ham_tfidf[top_ham_idx], y=np.array(feature_names)[top_ham_idx], palette='Blues_r')\n",
        "plt.title(\"Top 20 TF-IDF Features in Ham Emails\")\n",
        "plt.show()\n"
      ],
      "metadata": {
        "id": "YyJhYUvd4ftz"
      },
      "execution_count": null,
      "outputs": []
    },
    {
      "cell_type": "markdown",
      "source": [
        "## t-SNE and PCA Visualization"
      ],
      "metadata": {
        "id": "I7HVr6EB5Ogx"
      }
    },
    {
      "cell_type": "code",
      "source": [
        "\n",
        "from sklearn.decomposition import PCA\n",
        "from sklearn.manifold import TSNE\n",
        "\n",
        "subset_size = 5000\n",
        "if X_tfidf.shape[0] > subset_size:\n",
        "    X_sample = X_tfidf[:subset_size].toarray()\n",
        "    y_sample = labels[:subset_size]\n",
        "else:\n",
        "    X_sample = X_tfidf.toarray()\n",
        "    y_sample = labels\n",
        "\n",
        "\n",
        "\n"
      ],
      "metadata": {
        "id": "pxgEuiuL44lS"
      },
      "execution_count": null,
      "outputs": []
    },
    {
      "cell_type": "markdown",
      "source": [
        "##  PCA for 2D visualization"
      ],
      "metadata": {
        "id": "U47HmXqA5EiP"
      }
    },
    {
      "cell_type": "code",
      "source": [
        "pca = PCA(n_components=2, random_state=42)\n",
        "X_pca = pca.fit_transform(X_sample)\n",
        "\n",
        "plt.figure(figsize=(10,6))\n",
        "sns.scatterplot(x=X_pca[:,0], y=X_pca[:,1], hue=y_sample, palette={'spam':'red','ham':'blue'}, alpha=0.6)\n",
        "plt.title(\"PCA Projection of Emails (2D)\")\n",
        "plt.xlabel(\"PCA Component 1\")\n",
        "plt.ylabel(\"PCA Component 2\")\n",
        "plt.show()\n"
      ],
      "metadata": {
        "id": "q2zw78t95H6p"
      },
      "execution_count": null,
      "outputs": []
    },
    {
      "cell_type": "markdown",
      "source": [
        "##  t-SNE for 2D visualization"
      ],
      "metadata": {
        "id": "2r65J9_b5BSI"
      }
    },
    {
      "cell_type": "code",
      "source": [
        "\n",
        "tsne = TSNE(n_components=2, random_state=42, perplexity=40, n_iter=1000)\n",
        "X_tsne = tsne.fit_transform(X_sample)\n",
        "\n",
        "plt.figure(figsize=(10,6))\n",
        "sns.scatterplot(x=X_tsne[:,0], y=X_tsne[:,1], hue=y_sample, palette={'spam':'red','ham':'blue'}, alpha=0.6)\n",
        "plt.title(\"t-SNE Projection of Emails (2D)\")\n",
        "plt.xlabel(\"t-SNE Component 1\")\n",
        "plt.ylabel(\"t-SNE Component 2\")\n",
        "plt.show()\n"
      ],
      "metadata": {
        "id": "tvt_bSw947-A"
      },
      "execution_count": null,
      "outputs": []
    },
    {
      "cell_type": "markdown",
      "source": [
        "# **statistical tests**"
      ],
      "metadata": {
        "id": "K6hgN-8i259T"
      }
    },
    {
      "cell_type": "markdown",
      "source": [
        "## statistical tests to compare real vs synthetic distributions."
      ],
      "metadata": {
        "id": "q-2YthsnznXQ"
      }
    },
    {
      "cell_type": "code",
      "source": [
        "from scipy.stats import chi2_contingency\n",
        "import pandas as pd\n",
        "from collections import Counter # Import Counter\n",
        "\n",
        "# Load spam + ham (already saved earlier in cell fs1VVGvhsV_5)\n",
        "spam_file = \"/content/drive/MyDrive/spam.txt\"\n",
        "ham_file = \"/content/drive/MyDrive/ham.txt\"\n",
        "\n",
        "# Read into pandas - ensures column is named 'text'\n",
        "spam = pd.read_csv(spam_file, names=[\"text\"], keep_default_na=False) # Added keep_default_na=False\n",
        "ham = pd.read_csv(ham_file, names=[\"text\"], keep_default_na=False)   # Added keep_default_na=False\n",
        "\n",
        "real_df = pd.concat([spam, ham], ignore_index=True)\n",
        "# Rename the 'text' column to 'cleaned_text' to match the rest of the notebook\n",
        "real_df.rename(columns={'text': 'cleaned_text'}, inplace=True)\n",
        "try:\n",
        "\n",
        "    synthetic_df = pd.DataFrame({\n",
        "        \"text\": synthetic_spam + synthetic_ham,\n",
        "        \"label\": [\"spam\"]*len(synthetic_spam) + [\"ham\"]*len(synthetic_ham)\n",
        "    })\n",
        "    # Rename the 'text' column to 'cleaned_text'\n",
        "    synthetic_df.rename(columns={'text': 'cleaned_text'}, inplace=True)\n",
        "\n",
        "except NameError:\n",
        "    print(\"synthetic_spam or synthetic_ham not found. Please generate synthetic data first.\")\n",
        "    # Fallback: Try loading from augmented_emails.csv and filtering\n",
        "    try:\n",
        "        augmented_df_full = pd.read_csv(\"augmented_emails.csv\")\n",
        "        synthetic_df = augmented_df_full[augmented_df_full['label'].isin(['spam', 'ham'])].copy() # Filter for synthetic labels\n",
        "        if 'text' in synthetic_df.columns and 'cleaned_text' not in synthetic_df.columns:\n",
        "             synthetic_df.rename(columns={'text': 'cleaned_text'}, inplace=True)\n",
        "        # Ensure 'cleaned_text' exists\n",
        "        if 'cleaned_text' not in synthetic_df.columns:\n",
        "             print(\"Could not find 'text' or 'cleaned_text' in augmented_emails.csv for synthetic data.\")\n",
        "             exit() # Exit if data is not found\n",
        "\n",
        "    except FileNotFoundError:\n",
        "        print(\"augmented_emails.csv not found. Cannot load synthetic data.\")\n",
        "        exit()\n",
        "if 'cleaned_text' not in real_df.columns or 'cleaned_text' not in synthetic_df.columns:\n",
        "    print(\"Error: 'cleaned_text' column not found in one of the dataframes.\")\n",
        "    exit()\n",
        "real_text = real_df['cleaned_text'].astype(str).fillna('') # Ensure string type and fill NaNs\n",
        "synthetic_text = synthetic_df['cleaned_text'].astype(str).fillna('') # Ensure string type and fill NaNs\n",
        "\n",
        "# Build word frequency tables\n",
        "def get_top_words(texts, n=50):\n",
        "    # Filter out empty strings before joining\n",
        "    all_words = \" \".join([text for text in texts if text]).split()\n",
        "    freq = Counter(all_words)\n",
        "    return dict(freq.most_common(n))\n",
        "\n",
        "real_top = get_top_words(real_text, 50)\n",
        "synthetic_top = get_top_words(synthetic_text, 50)\n",
        "\n",
        "# Merge into dataframe\n",
        "words = list(set(real_top.keys()) | set(synthetic_top.keys()))\n",
        "freq_df = pd.DataFrame({\n",
        "    \"word\": words,\n",
        "    \"real\": [real_top.get(w,0) for w in words],\n",
        "    \"synthetic\": [synthetic_top.get(w,0) for w in words]\n",
        "})\n",
        "contingency_table = freq_df[['real', 'synthetic']].values\n",
        "\n"
      ],
      "metadata": {
        "id": "Q-ElNh1GzfPp"
      },
      "execution_count": null,
      "outputs": []
    },
    {
      "cell_type": "markdown",
      "source": [
        "# Perform Chi-square test"
      ],
      "metadata": {
        "id": "eiAkGvs33vmu"
      }
    },
    {
      "cell_type": "code",
      "source": [
        "\n",
        "# chi2_contingency expects observed frequencies in a 2D array\n",
        "if contingency_table.shape[0] > 1 and contingency_table.shape[1] == 2: # Need at least 2 rows for Chi-squared\n",
        "    chi2, p, dof, expected = chi2_contingency(contingency_table)\n",
        "    print(\"Chi-Square Test Statistic:\", chi2)\n",
        "    print(\"p-value:\", p)\n",
        "\n",
        "    # Interpretation\n",
        "    alpha = 0.05\n",
        "    print(\"\\nInterpretation:\")\n",
        "    if p < alpha:\n",
        "        print(f\"The p-value ({p:.4f}) is less than the significance level ({alpha}). We reject the null hypothesis.\")\n",
        "        print(\"There is a statistically significant difference between the word frequency distributions of the real and synthetic datasets.\")\n",
        "    else:\n",
        "        print(f\"The p-value ({p:.4f}) is greater than the significance level ({alpha}). We fail to reject the null hypothesis.\")\n",
        "        print(\"There is no statistically significant difference between the word frequency distributions of the real and synthetic datasets.\")\n",
        "\n",
        "else:\n",
        "    print(\"\\nSkipping Chi-square test: Not enough data (less than 2 words) to perform the test.\")\n",
        "\n",
        "print(\"\\nWord Frequencies:\")\n",
        "display(freq_df.sort_values(by='real', ascending=False).head())"
      ],
      "metadata": {
        "id": "y-H6Rpd23t9k"
      },
      "execution_count": null,
      "outputs": []
    },
    {
      "cell_type": "markdown",
      "source": [
        "# Model Selection (Initial Research)\n",
        "\n",
        "Based on the EDA, dataset characteristics, and augmented TF-IDF features, we shortlist the following models for initial research and experimentation:\n",
        "\n",
        "## 1️⃣ Supervised Learning (Labeled Data: Spam vs Ham)\n",
        "- **Naive Bayes (MultinomialNB / BernoulliNB)**: Fast, strong baseline for text classification, works well with TF-IDF.  \n",
        "- **Logistic Regression**: Linear model suitable for high-dimensional TF-IDF vectors; interpretable and probabilistic outputs.  \n",
        "- **Linear SVM**: Effective for high-dimensional sparse data; robust classifier for text.  \n",
        "- **Simple Feedforward Neural Network (MLP)**: Optional deep learning model to explore non-linear relationships in TF-IDF features.  \n",
        "- **Transformer (DistilBERT / BERT)**: Optional state-of-the-art model capturing context and semantics; requires GPU.\n",
        "\n",
        "## 2️⃣ Unsupervised Learning (No Labels / Clustering / Anomaly Detection)\n",
        "- **K-Means Clustering**: Group emails into “spam-like” vs “ham-like” clusters; simple and fast.  \n",
        "- **DBSCAN**: Detect clusters and outliers (rare spam) in feature space; handles irregular patterns.  \n",
        "- **Isolation Forest**: Detect rare or anomalous spam emails; works well for imbalanced data.  \n",
        "- **One-Class SVM**: Learn “normal” ham emails and detect spam as anomalies; suitable for high-dimensional TF-IDF features.\n",
        "\n",
        "## 3️⃣ Deep Learning / Neural Networks\n",
        "- **MLP (Feedforward NN)**: Flexible for TF-IDF features; can model non-linear relationships.  \n",
        "- **CNN for Text**: Good for local n-gram patterns if using word embeddings.  \n",
        "- **RNN / LSTM / GRU**: Capture sequential patterns in emails; useful for context-aware modeling.  \n",
        "- **Transformer (BERT / DistilBERT / RoBERTa)**: State-of-the-art NLP model; handles semantic and contextual information.  \n",
        "- **Hybrid Models (CNN + LSTM / Attention)**: Powerful but complex; optional for advanced experiments.\n",
        "\n",
        "## Notes\n",
        "- **Start with supervised models** (Naive Bayes, Logistic Regression, Linear SVM) as quick baselines.  \n",
        "- **Unsupervised methods** can be used to explore **anomaly detection** or identify clusters of spam for additional insights.  \n",
        "- **Deep learning models** are optional and recommended if GPU is available or you need higher accuracy.  \n",
        "- Final model selection will depend on **training results, evaluation metrics, and computational efficiency**.\n"
      ],
      "metadata": {
        "id": "IN5HlZFo8NHs"
      }
    },
    {
      "cell_type": "markdown",
      "source": [
        "# Conclusion: Data Augmentation & Model Preparation"
      ],
      "metadata": {
        "id": "k9OLDgpL8no0"
      }
    },
    {
      "cell_type": "markdown",
      "source": [
        "\n",
        "\n",
        "**1. Data Inspection and Cleaning**  \n",
        "- Loaded and inspected the original email dataset.  \n",
        "- Split emails into **spam and ham** categories.  \n",
        "- Applied **text cleaning** to remove special characters, URLs, email addresses, and normalize text.\n",
        "\n",
        "**2. Synthetic Data Generation**  \n",
        "- Fine-tuned a **GPT-2 model** on real email data to learn spam and ham styles.  \n",
        "- Generated **high-quality synthetic emails** to address class imbalance.  \n",
        "- Preprocessed synthetic data to match the real email format.\n",
        "\n",
        "**3. Dataset Augmentation**  \n",
        "- Combined real and synthetic emails to create the **final augmented dataset**.  \n",
        "- Saved the cleaned dataset as `augmented_emails_cleaned.csv` for future use.  \n",
        "- Ensured it is **ready for machine learning workflows**.\n",
        "\n",
        "**4. Exploratory Data Analysis (EDA)**  \n",
        "- Quick overview: dataset size, missing values, class distribution.  \n",
        "- Advanced visualizations:  \n",
        "  - Spam vs ham distribution, email length histograms  \n",
        "  - Word clouds for frequent words  \n",
        "  - Top TF-IDF features per class  \n",
        "  - Correlation heatmap of TF-IDF features  \n",
        "  - PCA and t-SNE projections to visualize class separation\n",
        "\n",
        "**5. Feature Engineering**  \n",
        "- Applied **TF-IDF vectorization** to transform text into numerical features.  \n",
        "- Limited vocabulary to **5000 features** (unigrams + bigrams) and removed common stopwords.\n",
        "\n",
        "**6. Statistical Testing**  \n",
        "- Chi-Square test showed **statistically significant differences** between real and synthetic word distributions.  \n",
        "- Indicates synthetic data differs in word frequency but still adds value for augmentation.\n",
        "\n",
        "**7. Model Selection (Initial Research)**  \n",
        "- **Supervised models**: Naive Bayes, Logistic Regression, Linear SVM (recommended baselines).  \n",
        "- **Optional deep learning**: MLP, CNN, RNN/LSTM, Transformers.  \n",
        "- **Unsupervised / anomaly detection**: K-Means, DBSCAN, Isolation Forest, One-Class SVM.  \n",
        "- Models balance **speed, interpretability, and accuracy potential**.\n",
        "\n",
        "**8. Next Steps**  \n",
        "- Initialize selected models and perform **training and evaluation**.  \n",
        "- Compare performance using **Accuracy, Precision, Recall, and F1-Score**.  \n",
        "- Explore optional **deep learning or unsupervised methods** for improvements.  \n",
        "- Dataset `augmented_emails_cleaned.csv` is ready for **reuse**.\n",
        "\n",
        "**Overall Summary:**  \n",
        "- Created a **robust, balanced, and clean dataset**.  \n",
        "- Conducted **advanced EDA** to understand patterns and features.  \n",
        "- Provided a **structured model selection roadmap**.  \n",
        "- All artifacts are **reusable and reproducible**, enabling efficient spam detection experiments.\n"
      ],
      "metadata": {
        "id": "NunB2w6S85bJ"
      }
    },
    {
      "cell_type": "code",
      "source": [],
      "metadata": {
        "id": "wzqn0k_YPPPC"
      },
      "execution_count": null,
      "outputs": []
    }
  ]
}